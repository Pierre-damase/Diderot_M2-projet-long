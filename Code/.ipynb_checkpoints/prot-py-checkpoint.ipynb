{
 "cells": [
  {
   "cell_type": "markdown",
   "metadata": {},
   "source": [
    "<div style=\"color:#8b1538; font-size:28px\">Ce jupyter notebook permet la manipulation de fichier PDB en python</div>\n",
    "\n",
    "- Lecture de fichier .pdb\n",
    "- Visualisation de structures\n",
    "- Alignement de séquences\n",
    "- Comparaison de deux structures: alignement & rmsd\n",
    "- Carte de contact (contact maps)\n",
    "- Mode normaux\n",
    "\n",
    "Il utilise les fonctions mise en place dans le module **prot_py** codé en python (version 3.7.8)."
   ]
  },
  {
   "cell_type": "markdown",
   "metadata": {},
   "source": [
    "<br>"
   ]
  },
  {
   "cell_type": "markdown",
   "metadata": {},
   "source": [
    "# Les modules"
   ]
  },
  {
   "cell_type": "code",
   "execution_count": 1,
   "metadata": {},
   "outputs": [],
   "source": [
    "%%capture\n",
    "\n",
    "import json\n",
    "import os\n",
    "import re\n",
    "import resource\n",
    "import time\n",
    "\n",
    "import Bio.PDB as PDB\n",
    "import matplotlib.pyplot as plt\n",
    "import numpy as np\n",
    "import nglview as nv\n",
    "import pandas as pd\n",
    "import pytraj as pt\n",
    "import seaborn as sns\n",
    "\n",
    "from prot_py.alignment import alignment as ali\n",
    "from prot_py.arguments import arguments as arg\n",
    "from prot_py.files import files as f\n",
    "from prot_py.maps import maps"
   ]
  },
  {
   "cell_type": "markdown",
   "metadata": {},
   "source": [
    "<br>"
   ]
  },
  {
   "cell_type": "markdown",
   "metadata": {},
   "source": [
    "# Téléchargement & chargement des structures"
   ]
  },
  {
   "cell_type": "code",
   "execution_count": 122,
   "metadata": {},
   "outputs": [],
   "source": [
    "%%capture\n",
    "pdb = [\"1A01\", \"2QSP\"]\n",
    "f.fetch_pdb(pdb)\n",
    "struct = f.load_pdb(pdb)"
   ]
  },
  {
   "cell_type": "markdown",
   "metadata": {},
   "source": [
    "<br>"
   ]
  },
  {
   "cell_type": "markdown",
   "metadata": {},
   "source": [
    "# Visualisation\n",
    "\n",
    "## 1A01 - hémoglobine humaine"
   ]
  },
  {
   "cell_type": "code",
   "execution_count": 4,
   "metadata": {},
   "outputs": [
    {
     "data": {
      "application/vnd.jupyter.widget-view+json": {
       "model_id": "9c1ddcac90aa4062a8f1016037045296",
       "version_major": 2,
       "version_minor": 0
      },
      "text/plain": [
       "NGLWidget()"
      ]
     },
     "metadata": {},
     "output_type": "display_data"
    }
   ],
   "source": [
    "traj = pt.iterload('./data/pdb/{}.pdb'.format(pdb[0]))\n",
    "view = nv.show_pytraj(traj)\n",
    "view"
   ]
  },
  {
   "cell_type": "markdown",
   "metadata": {},
   "source": [
    "## 2QSP - hémoglobine bovine"
   ]
  },
  {
   "cell_type": "code",
   "execution_count": 5,
   "metadata": {},
   "outputs": [
    {
     "data": {
      "application/vnd.jupyter.widget-view+json": {
       "model_id": "9a763506c6bb43e59c6072ba5936eac2",
       "version_major": 2,
       "version_minor": 0
      },
      "text/plain": [
       "NGLWidget()"
      ]
     },
     "metadata": {},
     "output_type": "display_data"
    }
   ],
   "source": [
    "traj = pt.iterload('./data/pdb/{}.pdb'.format(pdb[1]))\n",
    "view = nv.show_pytraj(traj)\n",
    "view"
   ]
  },
  {
   "cell_type": "markdown",
   "metadata": {},
   "source": [
    "<br>"
   ]
  },
  {
   "cell_type": "markdown",
   "metadata": {},
   "source": [
    "# Alignement de séquences\n",
    "\n",
    "Paramètre de l'alignement:\n",
    "\n",
    "- **global** - alignement global des deux protéines\n",
    "- **region** - alignement global des régions"
   ]
  },
  {
   "cell_type": "code",
   "execution_count": 6,
   "metadata": {},
   "outputs": [
    {
     "name": "stdout",
     "output_type": "stream",
     "text": [
      "Alignement global des séquences de 1A01 & 2QSP\n"
     ]
    }
   ],
   "source": [
    "align_param = \"global\"\n",
    "alignment = ali.sequences_alignment(struct, align_param)"
   ]
  },
  {
   "cell_type": "code",
   "execution_count": 18,
   "metadata": {},
   "outputs": [
    {
     "name": "stdout",
     "output_type": "stream",
     "text": [
      "VLSPADKTNVKAAWGKVGAHAGEYGAEALERMFLSFPTTKTYFPHFDLSHGSAQVKGHGKKVADALTNAVAHVDDMPNALSALSDLHAHKLRVDPVNFKLLSHCLLVTLAAHLPAEFTPAVHASLDKFLASVSTVLTSKYRMHLTPEEKSAVTALWGKVNVDEVGGEALGRLLVVYPATQRFFESFGDLSTPDAVMGNPKVKAHGKKVLGAFSDGLAHLDNLKGTFATLSELHCDKLHVDPENFRLLGNVLVCVLAHHFGKEFTPPVQAAYQKVVAGVANALAHKYHVLSPADKTNVKAAWGKVGAHAGEYGAEALERMFLSFPTTKTYFPHFDLSHGSAQVKGHGKKVADALTNAVAHVDDMPNALSALSDLHAHKLRVDPVNFKLLSHCLLVTLAAHLPAEFTPAVHASLDKFLASVSTVLTSKYRMHLTPEEKSAVTALWGKVNVDEVGGEALGRLLVVYPATQRFFESFGDLSTPDAVMGNPKVKAHGKKVLGAFSDGLAHLDNLKGTFATLSELHCDKLHVDPENFRLLGNVLVCVLAHHFGKEFTPPVQAAYQKVVAGVANALAHKYH\n",
      "|||.|||.||||||||||.||.|||||||||||||||||||||||||||||||||||||.|||.|||.||.|.||.|.|||.|||||||||||||||||||||.||||||.|||..||||||||||||||.||||||||||| ||.|||.||||.||||.|||||||||||||||||.|||||||||||||.||||.||||||||||||..||.|..|||.||||||.||||||||||||||||.|||||||.|||..|||||||..||..|||||||||||||.|||||.|||.||||||||||.||.|||||||||||||||||||||||||||||||||||||.|||.|||.||.|.||.|.|||.|||||||||||||||||||||.||||||.|||..||||||||||||||.||||||||||| ||.|||.||||.||||.|||||||||||||||||.|||||||||||||.||||.||||||||||||..||.|..|||.||||||.||||||||||||||||.|||||||.|||..|||||||..||..|||||||||||||.||\n",
      "VLSAADKGNVKAAWGKVGGHAAEYGAEALERMFLSFPTTKTYFPHFDLSHGSAQVKGHGAKVAAALTKAVEHLDDLPGALSELSDLHAHKLRVDPVNFKLLSHSLLVTLASHLPSDFTPAVHASLDKFLANVSTVLTSKYRM-LTAEEKAAVTAFWGKVKVDEVGGEALGRLLVVYPWTQRFFESFGDLSTADAVMNNPKVKAHGKKVLDSFSNGMKHLDDLKGTFAALSELHCDKLHVDPENFKLLGNVLVVVLARNFGKEFTPVLQADFQKVVAGVANALAHRYHVLSAADKGNVKAAWGKVGGHAAEYGAEALERMFLSFPTTKTYFPHFDLSHGSAQVKGHGAKVAAALTKAVEHLDDLPGALSELSDLHAHKLRVDPVNFKLLSHSLLVTLASHLPSDFTPAVHASLDKFLANVSTVLTSKYRM-LTAEEKAAVTAFWGKVKVDEVGGEALGRLLVVYPWTQRFFESFGDLSTADAVMNNPKVKAHGKKVLDSFSNGMKHLDDLKGTFAALSELHCDKLHVDPENFKLLGNVLVVVLARNFGKEFTPVLQADFQKVVAGVANALAHRYH\n",
      "  Score=2526\n",
      "\n"
     ]
    }
   ],
   "source": [
    "ali.print_alignment(alignment)"
   ]
  },
  {
   "cell_type": "markdown",
   "metadata": {},
   "source": [
    "> Temps d'éxécution - alignement global"
   ]
  },
  {
   "cell_type": "code",
   "execution_count": 26,
   "metadata": {},
   "outputs": [],
   "source": [
    "%%capture\n",
    "execution = execution_time(ali.sequences_alignment(struct, align_param))"
   ]
  },
  {
   "cell_type": "code",
   "execution_count": 27,
   "metadata": {},
   "outputs": [
    {
     "data": {
      "text/plain": [
       "8.082389831542969e-08"
      ]
     },
     "execution_count": 27,
     "metadata": {},
     "output_type": "execute_result"
    }
   ],
   "source": [
    "np.mean(execution)"
   ]
  },
  {
   "cell_type": "markdown",
   "metadata": {},
   "source": [
    "<br>"
   ]
  },
  {
   "cell_type": "code",
   "execution_count": 28,
   "metadata": {},
   "outputs": [
    {
     "name": "stdout",
     "output_type": "stream",
     "text": [
      "Alignement region des séquences de 1A01 & 2QSP\n"
     ]
    }
   ],
   "source": [
    "align_param = \"region\"\n",
    "alignments = ali.sequences_alignment(struct, align_param)"
   ]
  },
  {
   "cell_type": "code",
   "execution_count": 29,
   "metadata": {},
   "outputs": [
    {
     "name": "stdout",
     "output_type": "stream",
     "text": [
      "VLSPADKTNVKAAWGKVGAHAGEYGAEALERMFLSFPTTKTYFPHFDLSHGSAQVKGHGKKVADALTNAVAHVDDMPNALSALSDLHAHKLRVDPVNFKLLSHCLLVTLAAHLPAEFTPAVHASLDKFLASVSTVLTSKYR\n",
      "|||.|||.||||||||||.||.|||||||||||||||||||||||||||||||||||||.|||.|||.||.|.||.|.|||.|||||||||||||||||||||.||||||.|||..||||||||||||||.||||||||||\n",
      "VLSAADKGNVKAAWGKVGGHAAEYGAEALERMFLSFPTTKTYFPHFDLSHGSAQVKGHGAKVAAALTKAVEHLDDLPGALSELSDLHAHKLRVDPVNFKLLSHSLLVTLASHLPSDFTPAVHASLDKFLANVSTVLTSKYR\n",
      "  Score=639\n",
      "\n",
      "MHLTPEEKSAVTALWGKVNVDEVGGEALGRLLVVYPATQRFFESFGDLSTPDAVMGNPKVKAHGKKVLGAFSDGLAHLDNLKGTFATLSELHCDKLHVDPENFRLLGNVLVCVLAHHFGKEFTPPVQAAYQKVVAGVANALAHKYH\n",
      "| ||.|||.||||.||||.|||||||||||||||||.|||||||||||||.||||.||||||||||||..||.|..|||.||||||.||||||||||||||||.|||||||.|||..|||||||..||..|||||||||||||.||\n",
      "M-LTAEEKAAVTAFWGKVKVDEVGGEALGRLLVVYPWTQRFFESFGDLSTADAVMNNPKVKAHGKKVLDSFSNGMKHLDDLKGTFAALSELHCDKLHVDPENFKLLGNVLVVVLARNFGKEFTPVLQADFQKVVAGVANALAHRYH\n",
      "  Score=624\n",
      "\n",
      "VLSPADKTNVKAAWGKVGAHAGEYGAEALERMFLSFPTTKTYFPHFDLSHGSAQVKGHGKKVADALTNAVAHVDDMPNALSALSDLHAHKLRVDPVNFKLLSHCLLVTLAAHLPAEFTPAVHASLDKFLASVSTVLTSKYR\n",
      "|||.|||.||||||||||.||.|||||||||||||||||||||||||||||||||||||.|||.|||.||.|.||.|.|||.|||||||||||||||||||||.||||||.|||..||||||||||||||.||||||||||\n",
      "VLSAADKGNVKAAWGKVGGHAAEYGAEALERMFLSFPTTKTYFPHFDLSHGSAQVKGHGAKVAAALTKAVEHLDDLPGALSELSDLHAHKLRVDPVNFKLLSHSLLVTLASHLPSDFTPAVHASLDKFLANVSTVLTSKYR\n",
      "  Score=639\n",
      "\n",
      "MHLTPEEKSAVTALWGKVNVDEVGGEALGRLLVVYPATQRFFESFGDLSTPDAVMGNPKVKAHGKKVLGAFSDGLAHLDNLKGTFATLSELHCDKLHVDPENFRLLGNVLVCVLAHHFGKEFTPPVQAAYQKVVAGVANALAHKYH\n",
      "| ||.|||.||||.||||.|||||||||||||||||.|||||||||||||.||||.||||||||||||..||.|..|||.||||||.||||||||||||||||.|||||||.|||..|||||||..||..|||||||||||||.||\n",
      "M-LTAEEKAAVTAFWGKVKVDEVGGEALGRLLVVYPWTQRFFESFGDLSTADAVMNNPKVKAHGKKVLDSFSNGMKHLDDLKGTFAALSELHCDKLHVDPENFKLLGNVLVVVLARNFGKEFTPVLQADFQKVVAGVANALAHRYH\n",
      "  Score=624\n",
      "\n"
     ]
    }
   ],
   "source": [
    "for align in alignments:\n",
    "    ali.print_alignment(align)"
   ]
  },
  {
   "cell_type": "markdown",
   "metadata": {},
   "source": [
    "> Temps d'éxécution - alignement de régions"
   ]
  },
  {
   "cell_type": "code",
   "execution_count": 30,
   "metadata": {},
   "outputs": [],
   "source": [
    "%%capture\n",
    "execution = execution_time(ali.sequences_alignment(struct, align_param))"
   ]
  },
  {
   "cell_type": "code",
   "execution_count": 31,
   "metadata": {},
   "outputs": [
    {
     "data": {
      "text/plain": [
       "8.225440979003906e-08"
      ]
     },
     "execution_count": 31,
     "metadata": {},
     "output_type": "execute_result"
    }
   ],
   "source": [
    "np.mean(execution)"
   ]
  },
  {
   "cell_type": "markdown",
   "metadata": {},
   "source": [
    "<br>"
   ]
  },
  {
   "cell_type": "markdown",
   "metadata": {},
   "source": [
    "# Alignement des structures & RMSD"
   ]
  },
  {
   "cell_type": "code",
   "execution_count": 32,
   "metadata": {},
   "outputs": [
    {
     "name": "stdout",
     "output_type": "stream",
     "text": [
      "Alignement des structures de 1A01 & 2QSP\n"
     ]
    }
   ],
   "source": [
    "rmsd, aligned_struct = ali.structures_alignment(struct)"
   ]
  },
  {
   "cell_type": "code",
   "execution_count": 33,
   "metadata": {},
   "outputs": [
    {
     "name": "stdout",
     "output_type": "stream",
     "text": [
      "Le rmsd vaut 2.918 Angstom\n"
     ]
    }
   ],
   "source": [
    "print(\"Le rmsd vaut {:.3f} Angstom\".format(rmsd))"
   ]
  },
  {
   "cell_type": "code",
   "execution_count": 34,
   "metadata": {},
   "outputs": [
    {
     "data": {
      "application/vnd.jupyter.widget-view+json": {
       "model_id": "95fd67eca35445668733160309c949da",
       "version_major": 2,
       "version_minor": 0
      },
      "text/plain": [
       "NGLWidget()"
      ]
     },
     "metadata": {},
     "output_type": "display_data"
    }
   ],
   "source": [
    "view = nv.show_biopython(aligned_struct)\n",
    "view"
   ]
  },
  {
   "cell_type": "markdown",
   "metadata": {},
   "source": [
    "> Temps d'éxécution"
   ]
  },
  {
   "cell_type": "code",
   "execution_count": 35,
   "metadata": {},
   "outputs": [],
   "source": [
    "%%capture\n",
    "execution = execution_time(ali.structures_alignment(struct))"
   ]
  },
  {
   "cell_type": "code",
   "execution_count": 36,
   "metadata": {},
   "outputs": [
    {
     "data": {
      "text/plain": [
       "9.584426879882813e-08"
      ]
     },
     "execution_count": 36,
     "metadata": {},
     "output_type": "execute_result"
    }
   ],
   "source": [
    "np.mean(execution)"
   ]
  },
  {
   "cell_type": "markdown",
   "metadata": {},
   "source": [
    "<br>"
   ]
  },
  {
   "cell_type": "markdown",
   "metadata": {},
   "source": [
    "# Carte de contacts"
   ]
  },
  {
   "cell_type": "code",
   "execution_count": 73,
   "metadata": {},
   "outputs": [],
   "source": [
    "def plot_contact_map(contact_map, pdb, cutoff):\n",
    "    \"\"\"\n",
    "    Génère le graphe d'une carte de contacts donnée.\n",
    "    \"\"\"\n",
    "    fig, axs = plt.subplots(1, 1, figsize=(12, 10), constrained_layout=True)\n",
    "    axs.imshow(contact_map, aspect=\"auto\", cmap=plt.cm.gray, interpolation='nearest')\n",
    "\n",
    "    title = \"Carte de contacts de la protéine {} pour un cutoff de {}A\".format(pdb, cutoff)\n",
    "    fig.suptitle(title, fontsize=\"xx-large\")\n",
    "\n",
    "    plt.show()\n",
    "    plt.clf()"
   ]
  },
  {
   "cell_type": "code",
   "execution_count": 128,
   "metadata": {},
   "outputs": [],
   "source": [
    "cutoff = 6\n",
    "contact_map = maps.compute_contact_map(struct[0], struct[0].id, cutoff)"
   ]
  },
  {
   "cell_type": "code",
   "execution_count": 130,
   "metadata": {},
   "outputs": [
    {
     "data": {
      "image/png": "[encoded data removed]",
      "text/plain": [
       "<Figure size 864x720 with 1 Axes>"
      ]
     },
     "metadata": {
      "needs_background": "light"
     },
     "output_type": "display_data"
    },
    {
     "data": {
      "text/plain": [
       "<Figure size 432x288 with 0 Axes>"
      ]
     },
     "metadata": {},
     "output_type": "display_data"
    }
   ],
   "source": [
    "plot_contact_map(contact_map, struct[0].id, cutoff)"
   ]
  },
  {
   "cell_type": "markdown",
   "metadata": {},
   "source": [
    "<br>"
   ]
  },
  {
   "cell_type": "markdown",
   "metadata": {},
   "source": [
    "> Temps d'éxécution"
   ]
  },
  {
   "cell_type": "code",
   "execution_count": 44,
   "metadata": {},
   "outputs": [],
   "source": [
    "execution = {}\n",
    "for cutoff in range(6,13,2):\n",
    "    execution[cutoff] = execution_time(maps.compute_contact_map(struct[0], pdb[0], cutoff))"
   ]
  },
  {
   "cell_type": "code",
   "execution_count": 49,
   "metadata": {},
   "outputs": [
    {
     "name": "stdout",
     "output_type": "stream",
     "text": [
      "Cutoff  6: 8.630752563476562e-08\n",
      "Cutoff  8: 8.487701416015625e-08\n",
      "Cutoff 10: 8.630752563476562e-08\n",
      "Cutoff 12: 8.845329284667969e-08\n"
     ]
    }
   ],
   "source": [
    "for key, value in execution.items():\n",
    "    print(\"Cutoff {:>2}: {}\".format(key, np.mean(value)))"
   ]
  },
  {
   "cell_type": "markdown",
   "metadata": {},
   "source": [
    "<br>"
   ]
  },
  {
   "cell_type": "code",
   "execution_count": 50,
   "metadata": {},
   "outputs": [],
   "source": [
    "cutoff = 6\n",
    "contact_map = maps.compute_contact_map(struct[1], pdb[1], cutoff)"
   ]
  },
  {
   "cell_type": "code",
   "execution_count": 51,
   "metadata": {},
   "outputs": [
    {
     "data": {
      "image/png": "[encoded data removed]",
      "text/plain": [
       "<Figure size 864x720 with 1 Axes>"
      ]
     },
     "metadata": {
      "needs_background": "light"
     },
     "output_type": "display_data"
    },
    {
     "data": {
      "text/plain": [
       "<Figure size 432x288 with 0 Axes>"
      ]
     },
     "metadata": {},
     "output_type": "display_data"
    }
   ],
   "source": [
    "plot_contact_map(contact_map, pdb[1], cutoff)"
   ]
  },
  {
   "cell_type": "markdown",
   "metadata": {},
   "source": [
    "<br>"
   ]
  },
  {
   "cell_type": "markdown",
   "metadata": {},
   "source": [
    "> Temps d'éxécution"
   ]
  },
  {
   "cell_type": "code",
   "execution_count": 52,
   "metadata": {},
   "outputs": [],
   "source": [
    "execution = {}\n",
    "for cutoff in range(6,13,2):\n",
    "    execution[cutoff] = execution_time(maps.compute_contact_map(struct[1], pdb[1], cutoff))"
   ]
  },
  {
   "cell_type": "code",
   "execution_count": 53,
   "metadata": {},
   "outputs": [
    {
     "name": "stdout",
     "output_type": "stream",
     "text": [
      "Cutoff  6: 1.392364501953125e-07\n",
      "Cutoff  8: 8.7738037109375e-08\n",
      "Cutoff 10: 8.511543273925781e-08\n",
      "Cutoff 12: 8.7738037109375e-08\n"
     ]
    }
   ],
   "source": [
    "for key, value in execution.items():\n",
    "    print(\"Cutoff {:>2}: {}\".format(key, np.mean(value)))"
   ]
  },
  {
   "cell_type": "markdown",
   "metadata": {},
   "source": [
    "<br>\n",
    "<br>"
   ]
  },
  {
   "cell_type": "markdown",
   "metadata": {},
   "source": [
    "# 2G33\n",
    "\n",
    "Capside du virus de l'hépatite B (HBV) avec T=4, i.e. la capside de HBV est constitué de 240 monomère de HBc soit 120 dimères.\n",
    "\n",
    "La structure de la macromolécule a été obtenue par x-ray diffraction et a une résolution de 3.96A.\n",
    "\n",
    "La macromolécule est constituée de 588 résidues & 4658 atomes."
   ]
  },
  {
   "cell_type": "code",
   "execution_count": 55,
   "metadata": {},
   "outputs": [],
   "source": [
    "%%capture\n",
    "pdb = [\"2G33\"]\n",
    "f.fetch_pdb(pdb)\n",
    "struct = f.load_pdb(pdb)"
   ]
  },
  {
   "cell_type": "markdown",
   "metadata": {},
   "source": [
    "<br>"
   ]
  },
  {
   "cell_type": "markdown",
   "metadata": {},
   "source": [
    "> Temps d'éxécution"
   ]
  },
  {
   "cell_type": "code",
   "execution_count": 56,
   "metadata": {},
   "outputs": [
    {
     "data": {
      "text/plain": [
       "4.172325134277344e-07"
      ]
     },
     "execution_count": 56,
     "metadata": {},
     "output_type": "execute_result"
    }
   ],
   "source": [
    "execution = execution_time(f.fetch_pdb(pdb))\n",
    "np.mean(execution)"
   ]
  },
  {
   "cell_type": "code",
   "execution_count": 57,
   "metadata": {},
   "outputs": [],
   "source": [
    "%%capture\n",
    "execution = execution_time(f.load_pdb(pdb))"
   ]
  },
  {
   "cell_type": "code",
   "execution_count": 58,
   "metadata": {},
   "outputs": [
    {
     "data": {
      "text/plain": [
       "1.1992454528808594e-07"
      ]
     },
     "execution_count": 58,
     "metadata": {},
     "output_type": "execute_result"
    }
   ],
   "source": [
    "np.mean(execution)"
   ]
  },
  {
   "cell_type": "markdown",
   "metadata": {},
   "source": [
    "<br>"
   ]
  },
  {
   "cell_type": "markdown",
   "metadata": {},
   "source": [
    "## Visualisation"
   ]
  },
  {
   "cell_type": "code",
   "execution_count": 59,
   "metadata": {},
   "outputs": [
    {
     "data": {
      "application/vnd.jupyter.widget-view+json": {
       "model_id": "52a92d45d77d422b871c2156f25723ef",
       "version_major": 2,
       "version_minor": 0
      },
      "text/plain": [
       "NGLWidget()"
      ]
     },
     "metadata": {},
     "output_type": "display_data"
    }
   ],
   "source": [
    "traj = pt.iterload('./data/pdb/{}.pdb'.format(pdb[0]))\n",
    "view = nv.show_pytraj(traj)\n",
    "view"
   ]
  },
  {
   "cell_type": "markdown",
   "metadata": {},
   "source": [
    "<br>"
   ]
  },
  {
   "cell_type": "markdown",
   "metadata": {},
   "source": [
    "## Carte de contacts"
   ]
  },
  {
   "cell_type": "code",
   "execution_count": 60,
   "metadata": {},
   "outputs": [],
   "source": [
    "cutoff = 10\n",
    "contact_map = maps.compute_contact_map(struct[0], pdb[0], cutoff)"
   ]
  },
  {
   "cell_type": "code",
   "execution_count": 61,
   "metadata": {},
   "outputs": [
    {
     "data": {
      "image/png": "[encoded data removed]",
      "text/plain": [
       "<Figure size 864x720 with 1 Axes>"
      ]
     },
     "metadata": {
      "needs_background": "light"
     },
     "output_type": "display_data"
    },
    {
     "data": {
      "text/plain": [
       "<Figure size 432x288 with 0 Axes>"
      ]
     },
     "metadata": {},
     "output_type": "display_data"
    }
   ],
   "source": [
    "plot_contact_map(contact_map, pdb[0], cutoff)"
   ]
  },
  {
   "cell_type": "markdown",
   "metadata": {},
   "source": [
    "<br>\n",
    "<br>"
   ]
  },
  {
   "cell_type": "markdown",
   "metadata": {},
   "source": [
    "> Temps d'éxécution"
   ]
  },
  {
   "cell_type": "code",
   "execution_count": 62,
   "metadata": {},
   "outputs": [],
   "source": [
    "execution = {}\n",
    "for cutoff in range(6,13,2):\n",
    "    execution[cutoff] = execution_time(maps.compute_contact_map(struct[0], pdb[0], cutoff))"
   ]
  },
  {
   "cell_type": "code",
   "execution_count": 63,
   "metadata": {},
   "outputs": [
    {
     "name": "stdout",
     "output_type": "stream",
     "text": [
      "Cutoff  6: 8.58306884765625e-08\n",
      "Cutoff  8: 9.632110595703126e-08\n",
      "Cutoff 10: 1.1372566223144531e-07\n",
      "Cutoff 12: 8.58306884765625e-08\n"
     ]
    }
   ],
   "source": [
    "for key, value in execution.items():\n",
    "    print(\"Cutoff {:>2}: {}\".format(key, np.mean(value)))"
   ]
  },
  {
   "cell_type": "markdown",
   "metadata": {},
   "source": [
    "<br>"
   ]
  },
  {
   "cell_type": "markdown",
   "metadata": {},
   "source": [
    "# 1HTQ\n",
    "\n",
    "Structure cristallographique multicopie d'une glutamine synthétase détendue.\n",
    "\n",
    "La structure de la macromolécule a été obtenu par x-ray diffraction et a une résolution de 2.40A.\n",
    "\n",
    "L'assemblage est constitué de 11 448 résidues & 97 872 atomes."
   ]
  },
  {
   "cell_type": "code",
   "execution_count": 2,
   "metadata": {},
   "outputs": [],
   "source": [
    "%%capture\n",
    "pdb = [\"1HTQ\"]\n",
    "f.fetch_pdb(pdb)\n",
    "struct = f.load_pdb(pdb)"
   ]
  },
  {
   "cell_type": "markdown",
   "metadata": {},
   "source": [
    "<br>"
   ]
  },
  {
   "cell_type": "markdown",
   "metadata": {},
   "source": [
    "> Temps d'éxécution"
   ]
  },
  {
   "cell_type": "code",
   "execution_count": 65,
   "metadata": {},
   "outputs": [
    {
     "data": {
      "text/plain": [
       "2.808570861816406e-07"
      ]
     },
     "execution_count": 65,
     "metadata": {},
     "output_type": "execute_result"
    }
   ],
   "source": [
    "execution = execution_time(f.fetch_pdb(pdb))\n",
    "np.mean(execution)"
   ]
  },
  {
   "cell_type": "code",
   "execution_count": 66,
   "metadata": {},
   "outputs": [],
   "source": [
    "%%capture\n",
    "execution = execution_time(f.load_pdb(pdb))"
   ]
  },
  {
   "cell_type": "code",
   "execution_count": 69,
   "metadata": {},
   "outputs": [
    {
     "data": {
      "text/plain": [
       "8.678436279296875e-08"
      ]
     },
     "execution_count": 69,
     "metadata": {},
     "output_type": "execute_result"
    }
   ],
   "source": [
    "np.mean(execution)"
   ]
  },
  {
   "cell_type": "markdown",
   "metadata": {},
   "source": [
    "<br>"
   ]
  },
  {
   "cell_type": "markdown",
   "metadata": {},
   "source": [
    "## Visualisation"
   ]
  },
  {
   "cell_type": "code",
   "execution_count": 70,
   "metadata": {},
   "outputs": [
    {
     "data": {
      "application/vnd.jupyter.widget-view+json": {
       "model_id": "e1a8fde4429f487bacf4040d23b70eaa",
       "version_major": 2,
       "version_minor": 0
      },
      "text/plain": [
       "NGLWidget(max_frame=9)"
      ]
     },
     "metadata": {},
     "output_type": "display_data"
    }
   ],
   "source": [
    "traj = pt.iterload('./data/pdb/{}.pdb'.format(pdb[0]))\n",
    "view = nv.show_pytraj(traj)\n",
    "view"
   ]
  },
  {
   "cell_type": "markdown",
   "metadata": {},
   "source": [
    "# Carte de contacts"
   ]
  },
  {
   "cell_type": "code",
   "execution_count": 71,
   "metadata": {},
   "outputs": [],
   "source": [
    "cutoff = 6\n",
    "contact_map = maps.compute_contact_map(struct[0], pdb[0], cutoff)"
   ]
  },
  {
   "cell_type": "code",
   "execution_count": 72,
   "metadata": {},
   "outputs": [
    {
     "data": {
      "image/png": "[encoded data removed]",
      "text/plain": [
       "<Figure size 864x720 with 1 Axes>"
      ]
     },
     "metadata": {
      "needs_background": "light"
     },
     "output_type": "display_data"
    },
    {
     "data": {
      "text/plain": [
       "<Figure size 432x288 with 0 Axes>"
      ]
     },
     "metadata": {},
     "output_type": "display_data"
    }
   ],
   "source": [
    "plot_contact_map(contact_map, pdb[0], cutoff)"
   ]
  },
  {
   "cell_type": "markdown",
   "metadata": {},
   "source": [
    "<br>\n",
    "<br>"
   ]
  },
  {
   "cell_type": "markdown",
   "metadata": {},
   "source": [
    "> Temps d'éxécution"
   ]
  },
  {
   "cell_type": "code",
   "execution_count": 73,
   "metadata": {},
   "outputs": [],
   "source": [
    "execution = {}\n",
    "for cutoff in range(6,13,2):\n",
    "    execution[cutoff] = execution_time(maps.compute_contact_map(struct[0], pdb[0], cutoff))"
   ]
  },
  {
   "cell_type": "code",
   "execution_count": 76,
   "metadata": {},
   "outputs": [
    {
     "name": "stdout",
     "output_type": "stream",
     "text": [
      "Cutoff  6: 1.8739700317382813e-07\n",
      "Cutoff  8: 1.1491775512695312e-07\n",
      "Cutoff 10: 8.678436279296875e-08\n",
      "Cutoff 12: 8.177757263183594e-08\n"
     ]
    }
   ],
   "source": [
    "for key, value in execution.items():\n",
    "    print(\"Cutoff {:>2}: {}\".format(key, np.mean(value)))"
   ]
  },
  {
   "cell_type": "code",
   "execution_count": 77,
   "metadata": {},
   "outputs": [
    {
     "name": "stdout",
     "output_type": "stream",
     "text": [
      "1076.1408643722534\n"
     ]
    }
   ],
   "source": [
    "s = time.time()\n",
    "maps.compute_contact_map(struct[0], pdb[0], cutoff)\n",
    "print(time.time() - s)"
   ]
  },
  {
   "cell_type": "markdown",
   "metadata": {},
   "source": [
    "<br>"
   ]
  },
  {
   "cell_type": "markdown",
   "metadata": {},
   "source": [
    "# Structures pour le Benchmark\n",
    "\n",
    "### Générer les structures - A SUPPRIMER"
   ]
  },
  {
   "cell_type": "code",
   "execution_count": 20,
   "metadata": {},
   "outputs": [],
   "source": [
    "class ChainSelect(PDB.Select):\n",
    "    \"\"\"\n",
    "    Class pour spécifier les chaînes de la structure à sauvegarder.\n",
    "    \"\"\"\n",
    "    def __init__(self, chain_to_select):\n",
    "        self.chain_to_select = chain_to_select\n",
    "        \n",
    "    def accept_chain(self, chain):\n",
    "        if chain.id in self.chain_to_select:\n",
    "            return True\n",
    "        return False\n",
    "\n",
    "    \n",
    "def create_substructure(struct):\n",
    "    \"\"\"\n",
    "    1HTQ est un assemblage constitué de 11 448 résidues, de 97 872 atomes & de 24 chaînes.\n",
    "    \n",
    "    Cette strucutre va être utilisée pour créer des substructures constituées respectivement de\n",
    "    1/24 atomes, 2/24 atomes, 3/24 atomes, et ainsi de suite. \n",
    "    \n",
    "    Ces substructures constituées de 4000 à plus de 97 000 atomes vont être utilisées pour évaluer\n",
    "    les performances de BioPython & BioStructures.\n",
    "    \"\"\"\n",
    "    subchain = [\n",
    "        'A', 'B', 'C', 'D', 'E', 'F', 'G', 'H', 'I', 'J', 'K', 'L', \n",
    "        'M', 'N', 'O', 'P', 'Q', 'R', 'S', 'T', 'U', 'V', 'W', 'X'\n",
    "    ]\n",
    "    \n",
    "    io = PDB.PDBIO()\n",
    "    io.set_structure(struct)\n",
    "    for i in range(len(subchain)):\n",
    "        fichier = \"./data/pdb/Benchmark/{}_{}.pdb\".format(struct.id, i+1)\n",
    "        io.save(file=fichier, select=ChainSelect(subchain[0:i+1]))        "
   ]
  },
  {
   "cell_type": "code",
   "execution_count": 21,
   "metadata": {},
   "outputs": [],
   "source": [
    "%%capture\n",
    "pdb = [\"1HTQ\"]\n",
    "struct = f.load_pdb(pdb)\n",
    "create_substructure(struct[0])"
   ]
  },
  {
   "cell_type": "markdown",
   "metadata": {},
   "source": [
    "<br>"
   ]
  },
  {
   "cell_type": "markdown",
   "metadata": {},
   "source": [
    "## Générer les structures"
   ]
  },
  {
   "cell_type": "code",
   "execution_count": 99,
   "metadata": {},
   "outputs": [],
   "source": [
    "def read_structure(struct):\n",
    "    \"\"\"\n",
    "    Sélectionne pour une structure donnée l'ensemble des éléments \n",
    "    \"\"\"\n",
    "    data = []\n",
    "    with open(\"./data/pdb/{}.pdb\".format(struct.id), \"r\") as filin:\n",
    "        lines = filin.readlines()\n",
    "        for line in lines:\n",
    "            if line.startswith('ATOM') or line.startswith('TER'):\n",
    "                data.append(line)\n",
    "            if line.startswith('ENDMDL'):\n",
    "                return data\n",
    "    return data\n",
    "\n",
    "\n",
    "def create_substructure(struct):\n",
    "    \"\"\"\n",
    "    \n",
    "    \"\"\"\n",
    "    subchain = [\n",
    "        'A', 'B', 'C', 'D', 'E', 'F', 'G', 'H', 'I', 'J', 'K', 'L', \n",
    "        'M', 'N', 'O', 'P', 'Q', 'R', 'S', 'T', 'U', 'V', 'W', 'X'\n",
    "    ]\n",
    "    \n",
    "    for i in range(20):\n",
    "        with open(\"./data/pdb/Benchmark/{}_{}.pdb\".format(struct.id, i+1), \"w\") as filout:\n",
    "            \n",
    "            # Ecrire i copie de la structure dans le fichier pdb\n",
    "            for j in range(i+1):\n",
    "                for line in data:\n",
    "                    line = line[:21] + subchain[j] + line[22:]  # Mettre à jour la chaîne des substructures\n",
    "                    filout.write(line)\n",
    "                    \n",
    "            filout.write(\"END\" + \" \" * 77 + \"\\n\")"
   ]
  },
  {
   "cell_type": "code",
   "execution_count": 100,
   "metadata": {},
   "outputs": [],
   "source": [
    "%%capture\n",
    "pdb = [\"1CRN\"]\n",
    "f.fetch_pdb(pdb)\n",
    "struct = f.load_pdb(pdb)\n",
    "create_substructure(struct[0])"
   ]
  },
  {
   "cell_type": "markdown",
   "metadata": {},
   "source": [
    "<br>"
   ]
  },
  {
   "cell_type": "markdown",
   "metadata": {},
   "source": [
    "# Benchmark"
   ]
  },
  {
   "cell_type": "code",
   "execution_count": 192,
   "metadata": {},
   "outputs": [],
   "source": [
    "def duplicate(data, key):\n",
    "    if key == 'Residues':\n",
    "        return [ele*0.110 for ele in data for _ in range(100)]  # Détermine la masse de la protéine en kDa\n",
    "    return [np.log10(ele) for ele in data for _ in range(100)]  # Détermine le log base 10\n",
    "\n",
    "\n",
    "def dico_to_dataframe(dico):\n",
    "    series = []\n",
    "    \n",
    "    for key, value in dico.items():\n",
    "        \n",
    "        if key == 'Alignement seq':\n",
    "            for k, v in value.items():\n",
    "                v = [duplicate(sublist, key) if len(sublist) == 1 else np.log10(sublist) for sublist in v]\n",
    "                series.append(pd.Series([ele for sublist in v for ele in sublist], name=\"{} {}\".format(key, k)))\n",
    "        \n",
    "        elif key == 'Residues':\n",
    "            series.append(pd.Series(duplicate(value, key), name=\"Masse protéine - kDa\"))\n",
    "                       \n",
    "        else:\n",
    "            series.append(pd.Series([np.log10(ele) for sublist in value for ele in sublist], name=key))\n",
    "        \n",
    "    return pd.concat(series, axis=1)"
   ]
  },
  {
   "cell_type": "markdown",
   "metadata": {},
   "source": [
    "> Exporter benchmark-python.json dans un pandas DataFrame"
   ]
  },
  {
   "cell_type": "code",
   "execution_count": 193,
   "metadata": {},
   "outputs": [],
   "source": [
    "def python_benchmark_to_df():\n",
    "    dico = {}\n",
    "    \n",
    "    # Opening JSON file \n",
    "    with open(\"./data/benchmark-python.json\") as json_file: \n",
    "        data = json.load(json_file) \n",
    "          \n",
    "    for key in data.keys():\n",
    "        dico[key] = data[key]['0']\n",
    "        \n",
    "    return dico_to_dataframe(dico)\n",
    "\n",
    "data_python = python_benchmark_to_df()"
   ]
  },
  {
   "cell_type": "markdown",
   "metadata": {},
   "source": [
    "> Exporter benchmark-julia.txt dans un pandas DataFrame"
   ]
  },
  {
   "cell_type": "code",
   "execution_count": 194,
   "metadata": {},
   "outputs": [],
   "source": [
    "def julia_benchmark_to_df():\n",
    "    dico = {}\n",
    "    \n",
    "    with open(\"./data/benchmark-julia.txt\", \"r\") as filin:\n",
    "        lines = filin.readlines()\n",
    "        for line in lines:\n",
    "            tmp = line.strip().split(\":\")\n",
    "            key, value = tmp[0], tmp[1]\n",
    "            \n",
    "            # Convertir julia string dictionary en python dictionary\n",
    "            if key == \"Alignement seq\":\n",
    "                tmp = \"{\" + \\\n",
    "                    value.split(\"}\")[2].replace(\"(\", \"\").replace(\")\", \"\").replace(\"Any\", \"\").replace(\" =>\", \":\") \\\n",
    "                    + \"}\"\n",
    "                dico[key] = json.loads(tmp)\n",
    "            else:\n",
    "                dico[key] = json.loads(value.replace(\"Any\", \"\"))\n",
    "\n",
    "    return dico_to_dataframe(dico)\n",
    "    \n",
    "data_julia = julia_benchmark_to_df()"
   ]
  },
  {
   "cell_type": "markdown",
   "metadata": {},
   "source": [
    "<br>"
   ]
  },
  {
   "cell_type": "markdown",
   "metadata": {},
   "source": [
    "### Plot"
   ]
  },
  {
   "cell_type": "code",
   "execution_count": 195,
   "metadata": {},
   "outputs": [],
   "source": [
    "def percentile(centile):\n",
    "    \n",
    "    def percentile_(data):\n",
    "        return np.percentile(data, centile)\n",
    "    percentile_.__name__ = \"centile {}%\".format(centile)\n",
    "    \n",
    "    return percentile_"
   ]
  },
  {
   "cell_type": "code",
   "execution_count": 247,
   "metadata": {},
   "outputs": [
    {
     "data": {
      "image/png": "[encoded data removed]",
      "text/plain": [
       "<Figure size 1080x1800 with 5 Axes>"
      ]
     },
     "metadata": {},
     "output_type": "display_data"
    }
   ],
   "source": [
    "def plot_benchmark(data_python, data_julia):\n",
    "    keys = data_python.columns[1:]  # Exclure Residues\n",
    "    \n",
    "    # Générer les données pour le plot - centile 2.5%, 50% (médiane) & 97.5%\n",
    "    data = {\n",
    "        'Python': data_python.groupby(['Masse protéine - kDa']).agg([percentile(2.5), percentile(50), percentile(97.5)]),\n",
    "        'Julia': data_julia.groupby(['Masse protéine - kDa']).agg([percentile(2.5), percentile(50), percentile(97.5)])\n",
    "    }\n",
    "        \n",
    "    # Set up plot\n",
    "    sns.set_theme(style=\"whitegrid\")\n",
    "    fig, axs = plt.subplots(5, figsize=(15,25))\n",
    "     \n",
    "    # Y ax\n",
    "    y_ax = ['Chargement de structures', 'Alignement de séquences - région', 'Alignement de séquences - global',\n",
    "           'Alignement de structures', 'Carte de contacts']\n",
    "        \n",
    "    for i, key in enumerate(keys):\n",
    "                \n",
    "        for _, value in data.items():\n",
    "             \n",
    "            # Données\n",
    "            medians = value[(key, 'centile 50%')]\n",
    "            centile1, centile2 = value[(key, 'centile 2.5%')], value[(key, 'centile 97.5%')]\n",
    "            medians.name = y_ax[i]\n",
    "                    \n",
    "            # Plot\n",
    "            ax = sns.lineplot(x=value.index, y=medians, ax=axs[i])\n",
    "            ax.fill_between(x=value.index, y1=centile1, y2=centile2, alpha=0.3)\n",
    "            \n",
    "        ax.axhline(0, ls='dashed')\n",
    "            \n",
    "        # Set xaxis & yaxis range\n",
    "        axs[i].set_ylim(-4.5, 2)\n",
    "        axs[i].set_xlim(0, 105)\n",
    "            \n",
    "    plt.show()\n",
    "    \n",
    "plot_benchmark(data_python, data_julia)"
   ]
  }
 ],
 "metadata": {
  "kernelspec": {
   "display_name": "Python 3",
   "language": "python",
   "name": "python3"
  },
  "language_info": {
   "codemirror_mode": {
    "name": "ipython",
    "version": 3
   },
   "file_extension": ".py",
   "mimetype": "text/x-python",
   "name": "python",
   "nbconvert_exporter": "python",
   "pygments_lexer": "ipython3",
   "version": "3.7.8"
  }
 },
 "nbformat": 4,
 "nbformat_minor": 4
}
