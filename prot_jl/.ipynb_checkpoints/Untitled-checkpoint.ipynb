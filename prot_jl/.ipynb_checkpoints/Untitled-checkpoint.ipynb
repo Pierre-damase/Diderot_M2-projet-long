{
 "cells": [
  {
   "cell_type": "code",
   "execution_count": 5,
   "metadata": {},
   "outputs": [
    {
     "name": "stderr",
     "output_type": "stream",
     "text": [
      "WARNING: replacing module Prot.\n",
      "WARNING: using BioStructures.structure in module Main conflicts with an existing identifier.\n"
     ]
    }
   ],
   "source": [
    "include(\"Prot/prot.jl\")\n",
    "using .Prot\n",
    "\n",
    "using BioStructures\n",
    "using BioAlignments"
   ]
  },
  {
   "cell_type": "code",
   "execution_count": 3,
   "metadata": {},
   "outputs": [
    {
     "name": "stdout",
     "output_type": "stream",
     "text": [
      "\n",
      "Structure 1A01 chargée\n",
      "\n",
      "Structure 2QSP chargée\n"
     ]
    },
    {
     "data": {
      "text/plain": [
       "2-element Array{Any,1}:\n",
       " Model 1 with 4 chains (A,B,C,D), 574 residues, 4738 atoms\n",
       " Model 1 with 4 chains (A,B,C,D), 572 residues, 5242 atoms"
      ]
     },
     "execution_count": 3,
     "metadata": {},
     "output_type": "execute_result"
    }
   ],
   "source": [
    "structure = Prot.load_pdb([\"1A01\", \"2QSP\"])"
   ]
  },
  {
   "cell_type": "code",
   "execution_count": 28,
   "metadata": {},
   "outputs": [],
   "source": [
    "seq1, seq2 = \"\", \"\"\n",
    "for (chain1, chain2) in zip(chainids(structure[1]), chainids(structure[2]))\n",
    "    seq1 *= String(LongAminoAcidSeq(structure[1][chain1], standardselector, gaps=false))\n",
    "    seq2 *= String(LongAminoAcidSeq(structure[2][chain2], standardselector, gaps=false))\n",
    "end"
   ]
  },
  {
   "cell_type": "code",
   "execution_count": 29,
   "metadata": {},
   "outputs": [],
   "source": [
    "score_model = AffineGapScoreModel(BLOSUM62, gap_open=-10, gap_extend=-1);"
   ]
  },
  {
   "cell_type": "code",
   "execution_count": 35,
   "metadata": {},
   "outputs": [
    {
     "ename": "ErrorException",
     "evalue": "cannot assign a value to variable BioAlignments.alignment from module Main",
     "output_type": "error",
     "traceback": [
      "cannot assign a value to variable BioAlignments.alignment from module Main",
      "",
      "Stacktrace:",
      " [1] top-level scope at In[35]:1"
     ]
    }
   ],
   "source": [
    "alignments = pairalign(GlobalAlignment(), seq1, seq2, score_model)"
   ]
  },
  {
   "cell_type": "code",
   "execution_count": 36,
   "metadata": {},
   "outputs": [
    {
     "data": {
      "text/plain": [
       "PairwiseAlignmentResult{Int64,String,String}:\n",
       "  score: 2524\n",
       "  seq:   1 VLSPADKTNVKAAWGKVGAHAGEYGAEALERMFLSFPTTKTYFPHFDLSHGSAQVKGHGK  60\n",
       "           ||| ||| |||||||||| || ||||||||||||||||||||||||||||||||||||| \n",
       "  ref:   1 VLSAADKGNVKAAWGKVGGHAAEYGAEALERMFLSFPTTKTYFPHFDLSHGSAQVKGHGA  60\n",
       "\n",
       "  seq:  61 KVADALTNAVAHVDDMPNALSALSDLHAHKLRVDPVNFKLLSHCLLVTLAAHLPAEFTPA 120\n",
       "           ||| ||| || | || | ||| ||||||||||||||||||||| |||||| |||  ||||\n",
       "  ref:  61 KVAAALTKAVEHLDDLPGALSELSDLHAHKLRVDPVNFKLLSHSLLVTLASHLPSDFTPA 120\n",
       "\n",
       "  seq: 121 VHASLDKFLASVSTVLTSKYRMHLTPEEKSAVTALWGKVNVDEVGGEALGRLLVVYPATQ 180\n",
       "           |||||||||| ||||||||||| || ||| |||| |||| ||||||||||||||||| ||\n",
       "  ref: 121 VHASLDKFLANVSTVLTSKYRM-LTAEEKAAVTAFWGKVKVDEVGGEALGRLLVVYPWTQ 179\n",
       "\n",
       "  seq: 181 RFFESFGDLSTPDAVMGNPKVKAHGKKVLGAFSDGLAHLDNLKGTFATLSELHCDKLHVD 240\n",
       "           ||||||||||| |||| ||||||||||||  || |  ||| |||||| ||||||||||||\n",
       "  ref: 180 RFFESFGDLSTADAVMNNPKVKAHGKKVLDSFSNGMKHLDDLKGTFAALSELHCDKLHVD 239\n",
       "\n",
       "  seq: 241 PENFRLLGNVLVCVLAHHFGKEFTPPVQAAYQKVVAGVANALAHKYHVLSPADKTNVKAA 300\n",
       "           |||| ||||||| |||  |||||||  ||  ||||||||||||| ||||| ||| |||||\n",
       "  ref: 240 PENFKLLGNVLVVVLARNFGKEFTPVLQADFQKVVAGVANALAHRYHVLSAADKGNVKAA 299\n",
       "\n",
       "  seq: 301 WGKVGAHAGEYGAEALERMFLSFPTTKTYFPHFDLSHGSAQVKGHGKKVADALTNAVAHV 360\n",
       "           ||||| || ||||||||||||||||||||||||||||||||||||| ||| ||| || | \n",
       "  ref: 300 WGKVGGHAAEYGAEALERMFLSFPTTKTYFPHFDLSHGSAQVKGHGAKVAAALTKAVEHL 359\n",
       "\n",
       "  seq: 361 DDMPNALSALSDLHAHKLRVDPVNFKLLSHCLLVTLAAHLPAEFTPAVHASLDKFLASVS 420\n",
       "           || | ||| ||||||||||||||||||||| |||||| |||  |||||||||||||| ||\n",
       "  ref: 360 DDLPGALSELSDLHAHKLRVDPVNFKLLSHSLLVTLASHLPSDFTPAVHASLDKFLANVS 419\n",
       "\n",
       "  seq: 421 TVLTSKYRMHLTPEEKSAVTALWGKVNVDEVGGEALGRLLVVYPATQRFFESFGDLSTPD 480\n",
       "           ||||||||| || ||| |||| |||| ||||||||||||||||| ||||||||||||| |\n",
       "  ref: 420 TVLTSKYRM-LTAEEKAAVTAFWGKVKVDEVGGEALGRLLVVYPWTQRFFESFGDLSTAD 478\n",
       "\n",
       "  seq: 481 AVMGNPKVKAHGKKVLGAFSDGLAHLDNLKGTFATLSELHCDKLHVDPENFRLLGNVLVC 540\n",
       "           ||| ||||||||||||  || |  ||| |||||| |||||||||||||||| ||||||| \n",
       "  ref: 479 AVMNNPKVKAHGKKVLDSFSNGMKHLDDLKGTFAALSELHCDKLHVDPENFKLLGNVLVV 538\n",
       "\n",
       "  seq: 541 VLAHHFGKEFTPPVQAAYQKVVAGVANALAHKYH 574\n",
       "           |||  |||||||  ||  ||||||||||||| ||\n",
       "  ref: 539 VLARNFGKEFTPVLQADFQKVVAGVANALAHRYH 572\n"
      ]
     },
     "execution_count": 36,
     "metadata": {},
     "output_type": "execute_result"
    }
   ],
   "source": [
    "alignments"
   ]
  }
 ],
 "metadata": {
  "kernelspec": {
   "display_name": "Julia 1.4.1",
   "language": "julia",
   "name": "julia-1.4"
  },
  "language_info": {
   "file_extension": ".jl",
   "mimetype": "application/julia",
   "name": "julia",
   "version": "1.4.1"
  }
 },
 "nbformat": 4,
 "nbformat_minor": 4
}
