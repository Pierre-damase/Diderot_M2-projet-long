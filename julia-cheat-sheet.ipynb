{
 "cells": [
  {
   "cell_type": "markdown",
   "metadata": {},
   "source": [
    "<div style=\"color: #8b1538; font-size: 38px\">Julia 1.0 Programming</div>"
   ]
  },
  {
   "cell_type": "markdown",
   "metadata": {},
   "source": [
    "<div class=\"alert alert-block alert-success\">\n",
    "    Run cells with python in Julia kernel\n",
    "</div>"
   ]
  },
  {
   "cell_type": "code",
   "execution_count": 1,
   "metadata": {},
   "outputs": [
    {
     "data": {
      "text/plain": [
       "@python_str (macro with 1 method)"
      ]
     },
     "execution_count": 1,
     "metadata": {},
     "output_type": "execute_result"
    }
   ],
   "source": [
    "macro python_str(s) open(`python`,\"w\",stdout) do io; print(io, s); end; end"
   ]
  },
  {
   "cell_type": "markdown",
   "metadata": {},
   "source": [
    "# Variables, naming conventions and comments\n",
    "\n",
    "> Comme en python, pas besoin de spécifier le type "
   ]
  },
  {
   "cell_type": "code",
   "execution_count": 2,
   "metadata": {},
   "outputs": [
    {
     "name": "stdout",
     "output_type": "stream",
     "text": [
      "Type de x: Int64\n",
      "Type de x2: Int8\n",
      "Type de x3: Float64\n",
      "Type de s: String\n"
     ]
    }
   ],
   "source": [
    "x, x2, x3 = 7, Int8(7), 0.5\n",
    "s = \"Julia\"\n",
    "\n",
    "println(\"Type de x: $(typeof(x))\")\n",
    "println(\"Type de x2: $(typeof(x2))\")\n",
    "println(\"Type de x3: $(typeof(x3))\")\n",
    "println(\"Type de s: $(typeof(s))\")"
   ]
  },
  {
   "cell_type": "markdown",
   "metadata": {},
   "source": [
    "<br>"
   ]
  },
  {
   "cell_type": "markdown",
   "metadata": {},
   "source": [
    "### Suppresse output - ajouter ;"
   ]
  },
  {
   "cell_type": "code",
   "execution_count": 3,
   "metadata": {},
   "outputs": [],
   "source": [
    "s;"
   ]
  },
  {
   "cell_type": "markdown",
   "metadata": {},
   "source": [
    "<br>"
   ]
  },
  {
   "cell_type": "markdown",
   "metadata": {},
   "source": [
    "### Stylish print"
   ]
  },
  {
   "cell_type": "code",
   "execution_count": 4,
   "metadata": {},
   "outputs": [
    {
     "name": "stdout",
     "output_type": "stream",
     "text": [
      "\u001b[31m\u001b[1mI love Julia!\u001b[22m\u001b[39m"
     ]
    }
   ],
   "source": [
    "printstyled(\"I love Julia!\", color=:red, bold=true)"
   ]
  },
  {
   "cell_type": "markdown",
   "metadata": {},
   "source": [
    "<br>"
   ]
  },
  {
   "cell_type": "markdown",
   "metadata": {},
   "source": [
    "### Overflow behavior"
   ]
  },
  {
   "cell_type": "code",
   "execution_count": 5,
   "metadata": {},
   "outputs": [
    {
     "name": "stdout",
     "output_type": "stream",
     "text": [
      "x: -8446744073709551616 & type: Int64\n",
      "x2: 10000000000000000000 & type: BigInt\n"
     ]
    }
   ],
   "source": [
    "x = 10^19  # Dépasse typemax(Int64) - result in wraparound behavior\n",
    "x2 = big(10)^19\n",
    "\n",
    "println(\"x: $(x) & type: $(typeof(x))\\nx2: $(x2) & type: $(typeof(x2))\")"
   ]
  },
  {
   "cell_type": "markdown",
   "metadata": {},
   "source": [
    "<br>"
   ]
  },
  {
   "cell_type": "markdown",
   "metadata": {},
   "source": [
    "### Elementary mathemactical functions and operations"
   ]
  },
  {
   "cell_type": "code",
   "execution_count": 6,
   "metadata": {},
   "outputs": [
    {
     "name": "stdout",
     "output_type": "stream",
     "text": [
      "-8446744073709551614, 9999999999999999997, 0.25"
     ]
    }
   ],
   "source": [
    "x += 2; x2 -= 3; x3 /= 2;\n",
    "print(\"$(x), $(x2), $(x3)\")"
   ]
  },
  {
   "cell_type": "code",
   "execution_count": 7,
   "metadata": {},
   "outputs": [
    {
     "ename": "LoadError",
     "evalue": "syntax: incomplete: premature end of input",
     "output_type": "error",
     "traceback": [
      "syntax: incomplete: premature end of input",
      ""
     ]
    }
   ],
   "source": [
    "x++  # doesn't exist in julia"
   ]
  },
  {
   "cell_type": "markdown",
   "metadata": {},
   "source": [
    "<br>"
   ]
  },
  {
   "cell_type": "markdown",
   "metadata": {},
   "source": [
    "### String"
   ]
  },
  {
   "cell_type": "code",
   "execution_count": 8,
   "metadata": {},
   "outputs": [
    {
     "name": "stdout",
     "output_type": "stream",
     "text": [
      "Start Jul & End lia\n"
     ]
    }
   ],
   "source": [
    "s = \"Julia\"\n",
    "\n",
    "s_start = s[1:3]  # \"quivalent de s[begin:3]\n",
    "s_end = s[3:end]\n",
    "\n",
    "println(\"Start $(s_start) & End $(s_end)\")"
   ]
  },
  {
   "cell_type": "code",
   "execution_count": 9,
   "metadata": {},
   "outputs": [
    {
     "name": "stdout",
     "output_type": "stream",
     "text": [
      "Start Jul & End ia!\n"
     ]
    }
   ],
   "source": [
    "python\"\"\"\n",
    "s = \"Julia!\"\n",
    "s_start, s_end = s[:3], s[3:]\n",
    "\n",
    "print(\"Start {} & End {}\".format(s_start, s_end))\n",
    "\"\"\""
   ]
  },
  {
   "cell_type": "markdown",
   "metadata": {},
   "source": [
    "<div class=\"alert alert-block alert-warning\">\n",
    "    A String \"A\" is different of Char 'A'\n",
    "</div>"
   ]
  },
  {
   "cell_type": "code",
   "execution_count": 10,
   "metadata": {},
   "outputs": [
    {
     "name": "stdout",
     "output_type": "stream",
     "text": [
      "s = A is a String, c = A is a Char & \u001b[31m\u001b[1ms == c false\u001b[22m\u001b[39m"
     ]
    }
   ],
   "source": [
    "s, c = \"A\", 'A'\n",
    "\n",
    "print(\"s = $s is a $(typeof(s)), c = $c is a $(typeof(c)) & \")\n",
    "printstyled(\"s == c $(s == c)\", color=:red, bold=:true)"
   ]
  },
  {
   "cell_type": "markdown",
   "metadata": {},
   "source": [
    "- \\$s inside a string is replaced byt the value of s - soit A\n",
    "- \\$(s == c) inside a string is replaced by its computed value - soit false\n",
    "\n",
    "<br>\n",
    "\n",
    "> Concatenation des string"
   ]
  },
  {
   "cell_type": "code",
   "execution_count": 11,
   "metadata": {},
   "outputs": [
    {
     "name": "stdout",
     "output_type": "stream",
     "text": [
      "s: hello world, s2: hello world & s3: hello world with Julia"
     ]
    }
   ],
   "source": [
    "s = \"hello\" * \" world\"\n",
    "s2 = string(\"hello\", \" world\")\n",
    "s3 = string(s, \" with Julia\")\n",
    "\n",
    "print(\"s: $s, s2: $s2 & s3: $s3\")"
   ]
  },
  {
   "cell_type": "code",
   "execution_count": 12,
   "metadata": {},
   "outputs": [
    {
     "name": "stdout",
     "output_type": "stream",
     "text": [
      "s: abcdef\n"
     ]
    }
   ],
   "source": [
    "python\"\"\"\n",
    "s = \"abc\" + \"def\"\n",
    "print(\"s: {}\".format(s))\n",
    "\"\"\""
   ]
  },
  {
   "cell_type": "markdown",
   "metadata": {},
   "source": [
    "<br>"
   ]
  },
  {
   "cell_type": "markdown",
   "metadata": {},
   "source": [
    "> Replace"
   ]
  },
  {
   "cell_type": "code",
   "execution_count": 13,
   "metadata": {},
   "outputs": [
    {
     "name": "stdout",
     "output_type": "stream",
     "text": [
      "s (replace): Jolia"
     ]
    }
   ],
   "source": [
    "s = \"Julia\"\n",
    "s = replace(s, \"u\" => \"o\")\n",
    "print(\"s (replace): $s\")"
   ]
  },
  {
   "cell_type": "code",
   "execution_count": 14,
   "metadata": {},
   "outputs": [
    {
     "name": "stdout",
     "output_type": "stream",
     "text": [
      "s (replace): Jolia\n"
     ]
    }
   ],
   "source": [
    "python\"\"\"\n",
    "s = \"Julia\"\n",
    "s = s.replace(\"u\", \"o\")\n",
    "print(\"s (replace): {}\".format(s))\n",
    "\"\"\""
   ]
  },
  {
   "cell_type": "markdown",
   "metadata": {},
   "source": [
    "<br>"
   ]
  },
  {
   "cell_type": "markdown",
   "metadata": {},
   "source": [
    "> Split"
   ]
  },
  {
   "cell_type": "code",
   "execution_count": 15,
   "metadata": {},
   "outputs": [
    {
     "name": "stdout",
     "output_type": "stream",
     "text": [
      "s (split): SubString{String}[\"hello\", \"world\"]"
     ]
    }
   ],
   "source": [
    "s = \"hello world\"\n",
    "s = split(s, \" \")  # return an array of String\n",
    "print(\"s (split): $s\")"
   ]
  },
  {
   "cell_type": "code",
   "execution_count": 16,
   "metadata": {},
   "outputs": [
    {
     "name": "stdout",
     "output_type": "stream",
     "text": [
      "s (split): ['hello', 'world']\n"
     ]
    }
   ],
   "source": [
    "python\"\"\"\n",
    "s = \"hello world\"\n",
    "s = s.split(\" \")\n",
    "print(\"s (split): {}\".format(s))\n",
    "\"\"\""
   ]
  },
  {
   "cell_type": "markdown",
   "metadata": {},
   "source": [
    "<br>"
   ]
  },
  {
   "cell_type": "markdown",
   "metadata": {},
   "source": [
    "> Substring"
   ]
  },
  {
   "cell_type": "code",
   "execution_count": 17,
   "metadata": {},
   "outputs": [
    {
     "name": "stdout",
     "output_type": "stream",
     "text": [
      "Soit s = hello world, les 5 1er éléments sont hello & les 5 derniers world"
     ]
    }
   ],
   "source": [
    "s = \"hello world\"\n",
    "debut = SubString(s, 1, 5)\n",
    "fin = SubString(s, 7)  # ou SubString(s, 7, length(s))\n",
    "\n",
    "print(\"Soit s = $s, les 5 1er éléments sont $debut & les 5 derniers $fin\")"
   ]
  },
  {
   "cell_type": "markdown",
   "metadata": {},
   "source": [
    "<br>"
   ]
  },
  {
   "cell_type": "markdown",
   "metadata": {},
   "source": [
    "> Useful functions\n",
    "\n",
    "- Indices d'un mot donné **j** dans s - renvoie seulement l'indice de la 1ère occurrence de ce mot"
   ]
  },
  {
   "cell_type": "code",
   "execution_count": 18,
   "metadata": {},
   "outputs": [
    {
     "name": "stdout",
     "output_type": "stream",
     "text": [
      "Indice de hello 1:5 & de Julia nothing dans hello world"
     ]
    }
   ],
   "source": [
    "index = findfirst(\"hello\", s)\n",
    "index2 = findfirst(\"Julia\", s)  # Renvoie nothing car n'existe pas\n",
    "\n",
    "print(\"Indice de hello $index & de Julia $index2 dans $s\")"
   ]
  },
  {
   "cell_type": "markdown",
   "metadata": {},
   "source": [
    "- Détermine si un mot donné **j** apparaît au moins une fois dans s"
   ]
  },
  {
   "cell_type": "code",
   "execution_count": 19,
   "metadata": {},
   "outputs": [
    {
     "data": {
      "text/plain": [
       "true"
      ]
     },
     "execution_count": 19,
     "metadata": {},
     "output_type": "execute_result"
    }
   ],
   "source": [
    "occursin(\"hello\", s)"
   ]
  },
  {
   "cell_type": "code",
   "execution_count": 20,
   "metadata": {},
   "outputs": [
    {
     "data": {
      "text/plain": [
       "false"
      ]
     },
     "execution_count": 20,
     "metadata": {},
     "output_type": "execute_result"
    }
   ],
   "source": [
    "occursin(\"Julia\", s)"
   ]
  },
  {
   "cell_type": "markdown",
   "metadata": {},
   "source": [
    "- Reverse & uppercase"
   ]
  },
  {
   "cell_type": "code",
   "execution_count": 21,
   "metadata": {},
   "outputs": [
    {
     "name": "stdout",
     "output_type": "stream",
     "text": [
      "dlrow olleh\n",
      "HELLO WORLD\n"
     ]
    }
   ],
   "source": [
    "println(reverse(s))\n",
    "println(uppercase(s))"
   ]
  },
  {
   "cell_type": "markdown",
   "metadata": {},
   "source": [
    "> Endswith"
   ]
  },
  {
   "cell_type": "code",
   "execution_count": 22,
   "metadata": {},
   "outputs": [
    {
     "name": "stdout",
     "output_type": "stream",
     "text": [
      "yersinia.fasta est un fichier fasta"
     ]
    }
   ],
   "source": [
    "s = \"yersinia.fasta\"\n",
    "\n",
    "if endswith(s, \".fasta\")\n",
    "    print(\"$s est un fichier fasta\")\n",
    "end"
   ]
  },
  {
   "cell_type": "code",
   "execution_count": 23,
   "metadata": {},
   "outputs": [
    {
     "name": "stdout",
     "output_type": "stream",
     "text": [
      "yersinia.fasta est un fichier fasta\n"
     ]
    }
   ],
   "source": [
    "python\"\"\"\n",
    "s = \"yersinia.fasta\"\n",
    "if s.endswith(\".fasta\"):\n",
    "    print(\"{} est un fichier fasta\".format(s))\n",
    "\"\"\""
   ]
  },
  {
   "cell_type": "markdown",
   "metadata": {},
   "source": [
    "<br>"
   ]
  },
  {
   "cell_type": "markdown",
   "metadata": {},
   "source": [
    "### Formatting numbers and strings"
   ]
  },
  {
   "cell_type": "code",
   "execution_count": 24,
   "metadata": {},
   "outputs": [
    {
     "name": "stdout",
     "output_type": "stream",
     "text": [
      "7\n",
      "3.141593\n",
      "3.14"
     ]
    }
   ],
   "source": [
    "using Printf\n",
    "\n",
    "@printf(\"%d\\n\", 7)\n",
    "@printf(\"%f\\n\", pi)\n",
    "@printf(\"%0.2f\", pi)  # round"
   ]
  },
  {
   "cell_type": "code",
   "execution_count": 25,
   "metadata": {},
   "outputs": [
    {
     "name": "stdout",
     "output_type": "stream",
     "text": [
      "3.141592653589793\n",
      "3.14\n"
     ]
    }
   ],
   "source": [
    "python\"\"\"\n",
    "import math\n",
    "print(\"{}\".format(math.pi))\n",
    "print(\"{:.2f}\".format(math.pi))  # round\n",
    "\"\"\""
   ]
  },
  {
   "cell_type": "markdown",
   "metadata": {},
   "source": [
    "<br>"
   ]
  },
  {
   "cell_type": "markdown",
   "metadata": {},
   "source": [
    "### Ranges and array"
   ]
  },
  {
   "cell_type": "code",
   "execution_count": 26,
   "metadata": {},
   "outputs": [
    {
     "name": "stdout",
     "output_type": "stream",
     "text": [
      "1 2 3 4 5 \n",
      "1 3 5 "
     ]
    }
   ],
   "source": [
    "for i in 1:5  # de 1 à 5 (inclus) par pas de 1 - défaut\n",
    "    print(\"$i \")\n",
    "end\n",
    "println()\n",
    "\n",
    "for i in 1:2:5  # de 1 à 5 (inclus) par pas de 2\n",
    "    print(\"$i \")\n",
    "end"
   ]
  },
  {
   "cell_type": "code",
   "execution_count": 27,
   "metadata": {},
   "outputs": [
    {
     "name": "stdout",
     "output_type": "stream",
     "text": [
      "1 2 3 4 5 \n",
      "1 3 5 "
     ]
    }
   ],
   "source": [
    "python\"\"\"\n",
    "for i in range(1, 6):  # de 1 à 6 (exclus) par pas de 1 - défaut\n",
    "    print(\"{} \".format(i), end=\"\")\n",
    "print()\n",
    "\n",
    "for i in range(1, 6, 2):  # de 1 à 6 (exclus) par pas de 2\n",
    "    print(\"{} \".format(i), end=\"\")\n",
    "\"\"\""
   ]
  },
  {
   "cell_type": "markdown",
   "metadata": {},
   "source": [
    "<br>\n",
    "\n",
    "> Set up a macro range to have a python like syntax"
   ]
  },
  {
   "cell_type": "code",
   "execution_count": 28,
   "metadata": {},
   "outputs": [
    {
     "data": {
      "text/plain": [
       "@range (macro with 1 method)"
      ]
     },
     "execution_count": 28,
     "metadata": {},
     "output_type": "execute_result"
    }
   ],
   "source": [
    "macro range(debut, fin, args...)\n",
    "    if isempty(args)\n",
    "        return debut:fin-1\n",
    "    end\n",
    "    return debut:args[1]:fin-1\n",
    "end"
   ]
  },
  {
   "cell_type": "code",
   "execution_count": 29,
   "metadata": {},
   "outputs": [
    {
     "name": "stdout",
     "output_type": "stream",
     "text": [
      "1 2 3 4 5 \n",
      "1 3 5 "
     ]
    }
   ],
   "source": [
    "for i in @range(1, 6)  # de 1 à 6 (exclus) par pas de 1 - défaut\n",
    "    print(\"$i \")\n",
    "end\n",
    "println()\n",
    "\n",
    "for i in @range(1, 6, 2)  # de 1 à 6 (exclus) par pas de 2\n",
    "    print(\"$i \")\n",
    "end"
   ]
  },
  {
   "cell_type": "markdown",
   "metadata": {},
   "source": [
    "<br>"
   ]
  },
  {
   "cell_type": "markdown",
   "metadata": {},
   "source": [
    "> Vector - 1 dimensional array"
   ]
  },
  {
   "cell_type": "code",
   "execution_count": 30,
   "metadata": {},
   "outputs": [
    {
     "name": "stdout",
     "output_type": "stream",
     "text": [
      "[100, 25, 37]"
     ]
    }
   ],
   "source": [
    "arr = [100, 25, 37]  # array de int\n",
    "show(arr)"
   ]
  },
  {
   "cell_type": "code",
   "execution_count": 31,
   "metadata": {},
   "outputs": [
    {
     "name": "stdout",
     "output_type": "stream",
     "text": [
      "Any[100, 0.5, \"Julia\"]"
     ]
    }
   ],
   "source": [
    "arr = Any[100, 0.5, \"Julia\"]  # array de type any\n",
    "show(arr)"
   ]
  },
  {
   "cell_type": "markdown",
   "metadata": {},
   "source": [
    "<div class=\"alert alert-block alert-warning\">\n",
    "    The index starts from 1 in julia\n",
    "</div>"
   ]
  },
  {
   "cell_type": "code",
   "execution_count": 32,
   "metadata": {},
   "outputs": [
    {
     "name": "stdout",
     "output_type": "stream",
     "text": [
      "[0, 140022175964784]"
     ]
    }
   ],
   "source": [
    "arr = Array{Int64}(undef, 2)  # array of random int\n",
    "show(arr)"
   ]
  },
  {
   "cell_type": "markdown",
   "metadata": {},
   "source": [
    "<br>"
   ]
  },
  {
   "cell_type": "markdown",
   "metadata": {},
   "source": [
    "> Push"
   ]
  },
  {
   "cell_type": "code",
   "execution_count": 45,
   "metadata": {},
   "outputs": [
    {
     "name": "stdout",
     "output_type": "stream",
     "text": [
      "[66]"
     ]
    }
   ],
   "source": [
    "arr = Int64[]\n",
    "push!(arr, 66)\n",
    "show(arr)"
   ]
  },
  {
   "cell_type": "code",
   "execution_count": 34,
   "metadata": {},
   "outputs": [
    {
     "name": "stdout",
     "output_type": "stream",
     "text": [
      "[66]\n"
     ]
    }
   ],
   "source": [
    "python\"\"\"\n",
    "l = []\n",
    "l.append(66)\n",
    "print(l)\n",
    "\"\"\""
   ]
  },
  {
   "cell_type": "markdown",
   "metadata": {},
   "source": [
    "<br>"
   ]
  },
  {
   "cell_type": "markdown",
   "metadata": {},
   "source": [
    "> Pop - remove le dernier élément"
   ]
  },
  {
   "cell_type": "code",
   "execution_count": 46,
   "metadata": {},
   "outputs": [
    {
     "name": "stdout",
     "output_type": "stream",
     "text": [
      "Int64[]"
     ]
    }
   ],
   "source": [
    "pop!(arr)\n",
    "show(arr)"
   ]
  },
  {
   "cell_type": "code",
   "execution_count": 48,
   "metadata": {},
   "outputs": [
    {
     "name": "stdout",
     "output_type": "stream",
     "text": [
      "[]\n"
     ]
    }
   ],
   "source": [
    "python\"\"\"\n",
    "l = [66]\n",
    "print(l[:-1])\n",
    "\"\"\""
   ]
  },
  {
   "cell_type": "markdown",
   "metadata": {},
   "source": [
    "<br>"
   ]
  },
  {
   "cell_type": "markdown",
   "metadata": {},
   "source": [
    "> Initialize an array from a range"
   ]
  },
  {
   "cell_type": "code",
   "execution_count": 35,
   "metadata": {},
   "outputs": [
    {
     "name": "stdout",
     "output_type": "stream",
     "text": [
      "[1, 2, 3, 4, 5, 6, 7]"
     ]
    }
   ],
   "source": [
    "arr = collect(1:7)\n",
    "show(arr)"
   ]
  },
  {
   "cell_type": "code",
   "execution_count": 36,
   "metadata": {},
   "outputs": [
    {
     "name": "stdout",
     "output_type": "stream",
     "text": [
      "[1, 2, 3, 4, 5, 6, 7]\n"
     ]
    }
   ],
   "source": [
    "python\"\"\"\n",
    "l = list(range(1,8))\n",
    "print(l)\n",
    "\"\"\""
   ]
  },
  {
   "cell_type": "markdown",
   "metadata": {},
   "source": [
    "<br>"
   ]
  },
  {
   "cell_type": "code",
   "execution_count": 3,
   "metadata": {},
   "outputs": [
    {
     "data": {
      "text/plain": [
       "@collect (macro with 1 method)"
      ]
     },
     "execution_count": 3,
     "metadata": {},
     "output_type": "execute_result"
    }
   ],
   "source": [
    "macro collect(debut, fin, args...)\n",
    "    if isempty(args)\n",
    "        return collect(debut:fin-1)\n",
    "    end\n",
    "    return collect(debut:args[1]:fin-1)\n",
    "end"
   ]
  },
  {
   "cell_type": "code",
   "execution_count": 38,
   "metadata": {},
   "outputs": [
    {
     "data": {
      "text/plain": [
       "([1, 2, 3, 4, 5, 6, 7], [1, 3, 5, 7])"
      ]
     },
     "execution_count": 38,
     "metadata": {},
     "output_type": "execute_result"
    }
   ],
   "source": [
    "arr, arr2 = @collect(1,8), @collect(1, 8, 2)"
   ]
  },
  {
   "cell_type": "markdown",
   "metadata": {},
   "source": [
    "<br>"
   ]
  },
  {
   "cell_type": "markdown",
   "metadata": {},
   "source": [
    "> Access element by index"
   ]
  },
  {
   "cell_type": "code",
   "execution_count": 39,
   "metadata": {},
   "outputs": [
    {
     "name": "stdout",
     "output_type": "stream",
     "text": [
      "1er élément vaut 1 & dernier vaut 7"
     ]
    }
   ],
   "source": [
    "debut, fin = arr[1], arr[end]  # arr[begin] équivalent à arr[1]\n",
    "print(\"1er élément vaut $debut & dernier vaut $fin\")"
   ]
  },
  {
   "cell_type": "code",
   "execution_count": 40,
   "metadata": {},
   "outputs": [
    {
     "name": "stdout",
     "output_type": "stream",
     "text": [
      "1er élément vaut 1 & dernier vaut 7\n"
     ]
    }
   ],
   "source": [
    "python\"\"\"\n",
    "l = list(range(1,8))\n",
    "debut, fin = l[0], l[-1]\n",
    "print(\"1er élément vaut {} & dernier vaut {}\".format(debut, fin))\n",
    "\"\"\""
   ]
  },
  {
   "cell_type": "markdown",
   "metadata": {},
   "source": [
    "<br>"
   ]
  },
  {
   "cell_type": "markdown",
   "metadata": {},
   "source": [
    "> Functions importantes"
   ]
  },
  {
   "cell_type": "code",
   "execution_count": 41,
   "metadata": {},
   "outputs": [
    {
     "name": "stdout",
     "output_type": "stream",
     "text": [
      "Type Int64 \n",
      "Taille 7 \n",
      "Dimension 1"
     ]
    }
   ],
   "source": [
    "arr_type, arr_dim, arr_len = eltype(arr), ndims(arr), length(arr)\n",
    "\n",
    "print(\"Type $arr_type \\nTaille $arr_len \\nDimension $arr_dim\")"
   ]
  },
  {
   "cell_type": "markdown",
   "metadata": {},
   "source": [
    "<br>"
   ]
  },
  {
   "cell_type": "markdown",
   "metadata": {},
   "source": [
    "> Join méthode"
   ]
  },
  {
   "cell_type": "code",
   "execution_count": 42,
   "metadata": {},
   "outputs": [
    {
     "data": {
      "text/plain": [
       "\"1 2 3 4 5 6 7\""
      ]
     },
     "execution_count": 42,
     "metadata": {},
     "output_type": "execute_result"
    }
   ],
   "source": [
    "arr_s = join(arr, \" \")\n",
    "arr_s"
   ]
  },
  {
   "cell_type": "markdown",
   "metadata": {},
   "source": [
    "Python ne permet pas de join une liste de integer, il faut au préalable convertir chaque élément en string "
   ]
  },
  {
   "cell_type": "code",
   "execution_count": 43,
   "metadata": {},
   "outputs": [
    {
     "name": "stdout",
     "output_type": "stream",
     "text": [
      "1 2 3 4 5 6 7\n"
     ]
    }
   ],
   "source": [
    "python\"\"\"\n",
    "l = list(range(1,8))\n",
    "l = \" \".join(str(ele) for ele in l)\n",
    "print(\"{}\".format(l))\n",
    "\"\"\""
   ]
  },
  {
   "cell_type": "markdown",
   "metadata": {},
   "source": [
    "<br>"
   ]
  },
  {
   "cell_type": "markdown",
   "metadata": {},
   "source": [
    "> Some common functions fo arrays"
   ]
  },
  {
   "cell_type": "markdown",
   "metadata": {},
   "source": [
    "- Concatenate "
   ]
  },
  {
   "cell_type": "code",
   "execution_count": 85,
   "metadata": {},
   "outputs": [
    {
     "name": "stdout",
     "output_type": "stream",
     "text": [
      "[1, 7, 100, 200, 300]"
     ]
    }
   ],
   "source": [
    "a, b = [1, 7], [100, 200, 300]\n",
    "append!(a, b)\n",
    "show(a)"
   ]
  },
  {
   "cell_type": "markdown",
   "metadata": {},
   "source": [
    "- Remove an element of index i"
   ]
  },
  {
   "cell_type": "code",
   "execution_count": 86,
   "metadata": {},
   "outputs": [
    {
     "data": {
      "text/plain": [
       "(100, [1, 7, 200, 300])"
      ]
     },
     "execution_count": 86,
     "metadata": {},
     "output_type": "execute_result"
    }
   ],
   "source": [
    "supp = splice!(a, 3)\n",
    "supp, a"
   ]
  },
  {
   "cell_type": "markdown",
   "metadata": {},
   "source": [
    "- Déterminer si un array contient un élément donné"
   ]
  },
  {
   "cell_type": "code",
   "execution_count": 89,
   "metadata": {},
   "outputs": [
    {
     "data": {
      "text/plain": [
       "(true, false)"
      ]
     },
     "execution_count": 89,
     "metadata": {},
     "output_type": "execute_result"
    }
   ],
   "source": [
    "in(200, a), in(100, a)"
   ]
  },
  {
   "cell_type": "markdown",
   "metadata": {},
   "source": [
    "- Sort"
   ]
  },
  {
   "cell_type": "code",
   "execution_count": 99,
   "metadata": {},
   "outputs": [
    {
     "name": "stdout",
     "output_type": "stream",
     "text": [
      "Sorted: [16, 7, 2, 23, 2, 1]\n",
      "Sort in place: [1, 2, 2, 7, 16, 23]\n"
     ]
    }
   ],
   "source": [
    "a = [16, 7, 2, 23, 2, 1]\n",
    "\n",
    "sort(a); println(\"Sorted: $a\")  # équivalent à sorted() en python\n",
    "sort!(a); println(\"Sort in place: $a\")  # équivalent à a.sort() en python"
   ]
  },
  {
   "cell_type": "markdown",
   "metadata": {},
   "source": [
    "- Deep copy\n",
    "\n",
    "Comme en python, si on fait a = b alors a & b point le même objet en mémoire"
   ]
  },
  {
   "cell_type": "code",
   "execution_count": 106,
   "metadata": {},
   "outputs": [
    {
     "name": "stdout",
     "output_type": "stream",
     "text": [
      "a = [1, 2, 4, 6] & b = [1, 2, 4, 0]\n"
     ]
    }
   ],
   "source": [
    "a = [1,2,4,6]\n",
    "b = deepcopy(a)\n",
    "b[end] = 0\n",
    "println(\"a = $a & b = $b\")"
   ]
  },
  {
   "cell_type": "markdown",
   "metadata": {},
   "source": [
    "<br>"
   ]
  },
  {
   "cell_type": "markdown",
   "metadata": {},
   "source": [
    "###  Dates and times"
   ]
  },
  {
   "cell_type": "code",
   "execution_count": 118,
   "metadata": {},
   "outputs": [
    {
     "name": "stdout",
     "output_type": "stream",
     "text": [
      "Execution time: 0.0003180503845214844\n"
     ]
    }
   ],
   "source": [
    "start_time = time()\n",
    "println(\"Execution time: $(time()-start_time)\")"
   ]
  },
  {
   "cell_type": "markdown",
   "metadata": {},
   "source": [
    "Pour déterminer le temps d'éxécution d'un programme, la macro **elapsed** peut être utilisée de la manière suivante: **@elapsed func()**"
   ]
  },
  {
   "cell_type": "code",
   "execution_count": 130,
   "metadata": {},
   "outputs": [
    {
     "data": {
      "text/plain": [
       "15:39:47.635"
      ]
     },
     "execution_count": 130,
     "metadata": {},
     "output_type": "execute_result"
    }
   ],
   "source": [
    "import Dates\n",
    "Dates.Time(Dates.now())"
   ]
  },
  {
   "cell_type": "markdown",
   "metadata": {},
   "source": [
    "<br>"
   ]
  },
  {
   "cell_type": "markdown",
   "metadata": {},
   "source": [
    "# Functions \n",
    "\n",
    "> Multiple return values\n",
    "\n",
    "Renvoie un tuple "
   ]
  },
  {
   "cell_type": "code",
   "execution_count": 149,
   "metadata": {},
   "outputs": [
    {
     "data": {
      "text/plain": [
       "(4, 8)"
      ]
     },
     "execution_count": 149,
     "metadata": {},
     "output_type": "execute_result"
    }
   ],
   "source": [
    "function carre_cube(x)\n",
    "    return x^2, x^3\n",
    "end\n",
    "\n",
    "carre, cube = carre_cube(2)"
   ]
  },
  {
   "cell_type": "markdown",
   "metadata": {},
   "source": [
    "<br>"
   ]
  },
  {
   "cell_type": "markdown",
   "metadata": {},
   "source": [
    "> Fonction qui prend un nombre arbitraire d'arguments\n",
    "\n",
    "- x argument positionnel\n",
    "- args tuple d'arguments"
   ]
  },
  {
   "cell_type": "code",
   "execution_count": 18,
   "metadata": {},
   "outputs": [
    {
     "name": "stdout",
     "output_type": "stream",
     "text": [
      "Soit x = 2, x^2 = 4 & x^3 = 8"
     ]
    }
   ],
   "source": [
    "function power(x, args...)  # x est un argument positionel\n",
    "    if isempty(args)\n",
    "        return x^2  # par défaut détermnine le carré de x\n",
    "    end\n",
    "    return x^args[1]\n",
    "end\n",
    "\n",
    "x = 2\n",
    "carre, cube = power(x), power(x, 3)\n",
    "\n",
    "print(\"Soit x = $x, x^2 = $carre & x^3 = $cube\")"
   ]
  },
  {
   "cell_type": "markdown",
   "metadata": {},
   "source": [
    "<br>"
   ]
  },
  {
   "cell_type": "markdown",
   "metadata": {},
   "source": [
    "> Restrict the kind of parameters\n",
    "\n",
    "- x argument positionnel\n",
    "- pow argument optionnel qui par défaut vaut 2"
   ]
  },
  {
   "cell_type": "code",
   "execution_count": 13,
   "metadata": {},
   "outputs": [
    {
     "name": "stdout",
     "output_type": "stream",
     "text": [
      "Soit x = 2, x^2 = 4 & x^3 = 8\n"
     ]
    }
   ],
   "source": [
    "function power_integer(x::Int, pow::Int=2)  # x & pow doivent être des Int & par défaut pow = 2\n",
    "    return x^pow\n",
    "end\n",
    "\n",
    "x = 2\n",
    "carre, cube = power_integer(x), power_integer(x, 3)\n",
    "\n",
    "println(\"Soit x = $x, x^2 = $(carre) & x^3 = $cube\")"
   ]
  },
  {
   "cell_type": "code",
   "execution_count": 14,
   "metadata": {},
   "outputs": [
    {
     "ename": "MethodError",
     "evalue": "MethodError: no method matching power_integer(::Int64, ::Float64)\nClosest candidates are:\n  power_integer(::Int64, !Matched::Int64) at In[13]:2\n  power_integer(::Int64) at In[13]:2",
     "output_type": "error",
     "traceback": [
      "MethodError: no method matching power_integer(::Int64, ::Float64)\nClosest candidates are:\n  power_integer(::Int64, !Matched::Int64) at In[13]:2\n  power_integer(::Int64) at In[13]:2",
      "",
      "Stacktrace:",
      " [1] top-level scope at In[14]:1"
     ]
    }
   ],
   "source": [
    "power_integer(x, 4.5)"
   ]
  },
  {
   "cell_type": "markdown",
   "metadata": {},
   "source": [
    "<br>"
   ]
  },
  {
   "cell_type": "markdown",
   "metadata": {},
   "source": [
    "> One-line function - compact syntax"
   ]
  },
  {
   "cell_type": "code",
   "execution_count": 15,
   "metadata": {},
   "outputs": [
    {
     "name": "stdout",
     "output_type": "stream",
     "text": [
      "Soit x = 2, x^2 = 4 & x^3 = 8\n"
     ]
    }
   ],
   "source": [
    "power_integer(x::Int, pow::Int=2) = x^pow\n",
    "\n",
    "carre, cube = power_integer(x), power_integer(x, 3)\n",
    "println(\"Soit x = $x, x^2 = $(carre) & x^3 = $cube\")"
   ]
  },
  {
   "cell_type": "markdown",
   "metadata": {},
   "source": [
    "<br>"
   ]
  },
  {
   "cell_type": "markdown",
   "metadata": {},
   "source": [
    "> Map, filter and list comprehensions\n",
    "\n",
    "- map(func, coll)\n",
    "\n",
    "Soit **func** une fonction (souvent anonyme) appliquée successivement à chaque élément de la collection **coll**"
   ]
  },
  {
   "cell_type": "code",
   "execution_count": 46,
   "metadata": {},
   "outputs": [
    {
     "name": "stdout",
     "output_type": "stream",
     "text": [
      "Soit l = [1, 2, 3] & dix = [10, 20, 30]"
     ]
    }
   ],
   "source": [
    "l = [1, 2, 3]\n",
    "l2 = map(x -> x*10, l)\n",
    "\n",
    "print(\"Soit l = $l & dix = $l2\")"
   ]
  },
  {
   "cell_type": "code",
   "execution_count": 43,
   "metadata": {},
   "outputs": [
    {
     "name": "stdout",
     "output_type": "stream",
     "text": [
      "Soit l = [-5, -2, 1, 4, 7, 10, 13] & cubes = [-125, -8, 1, 64, 343, 1000, 2197]"
     ]
    }
   ],
   "source": [
    "l = @collect(-5, 15, 3)\n",
    "cubes = map(x -> power(x, 3), l)\n",
    "\n",
    "print(\"Soit l = $l & cubes = $cubes\")"
   ]
  },
  {
   "cell_type": "markdown",
   "metadata": {},
   "source": [
    "- filter(func, coll)\n",
    "\n",
    "Soit **func** une fonction booléenne (souvent anonyme) qui est contrôlée sur chaque élément de la collection **coll**"
   ]
  },
  {
   "cell_type": "code",
   "execution_count": 51,
   "metadata": {},
   "outputs": [
    {
     "name": "stdout",
     "output_type": "stream",
     "text": [
      "Les éléments paires de [-1, 0, 1, 2, 3, 4, 5, 6] sont [0, 2, 4, 6]"
     ]
    }
   ],
   "source": [
    "l = @collect(-1, 7)\n",
    "even = filter(n -> iseven(n), l)\n",
    "\n",
    "print(\"Les éléments paires de $l sont $even\")"
   ]
  },
  {
   "cell_type": "markdown",
   "metadata": {},
   "source": [
    "- List comprehension - comme en python"
   ]
  },
  {
   "cell_type": "code",
   "execution_count": 56,
   "metadata": {},
   "outputs": [
    {
     "name": "stdout",
     "output_type": "stream",
     "text": [
      "Liste de carrés: [25, 4, 1, 16, 49, 100, 169] & liste de cubes: [-125, -8, 1, 64, 343, 1000, 2197]"
     ]
    }
   ],
   "source": [
    "carre = [power(x, 2) for x in @collect(-5, 15, 3)]\n",
    "cubes = [power(x, 3) for x in @collect(-5, 15, 3)]\n",
    "\n",
    "print(\"Liste de carrés: $carre & liste de cubes: $cubes\")"
   ]
  },
  {
   "cell_type": "markdown",
   "metadata": {},
   "source": [
    "<br>"
   ]
  },
  {
   "cell_type": "markdown",
   "metadata": {},
   "source": [
    "# Control flow"
   ]
  },
  {
   "cell_type": "markdown",
   "metadata": {},
   "source": [
    "> Try catch exceptions"
   ]
  },
  {
   "cell_type": "code",
   "execution_count": 6,
   "metadata": {},
   "outputs": [
    {
     "name": "stdout",
     "output_type": "stream",
     "text": [
      "ArgumentError\n",
      "ArgumentError: array must be non-empty"
     ]
    }
   ],
   "source": [
    "l = []\n",
    "try\n",
    "    pop!(l)\n",
    "catch ex\n",
    "    println(typeof(ex)) \n",
    "    showerror(stdout, ex)\n",
    "end"
   ]
  },
  {
   "cell_type": "code",
   "execution_count": 7,
   "metadata": {},
   "outputs": [
    {
     "name": "stdout",
     "output_type": "stream",
     "text": [
      "Liste vide\n"
     ]
    }
   ],
   "source": [
    "python\"\"\"\n",
    "l = []\n",
    "try:\n",
    "    l[-1]\n",
    "except:\n",
    "    print(\"Liste vide\")\n",
    "\"\"\""
   ]
  },
  {
   "cell_type": "markdown",
   "metadata": {},
   "source": [
    "<br>"
   ]
  },
  {
   "cell_type": "markdown",
   "metadata": {},
   "source": [
    "# Collection types\n",
    "\n",
    "> Matrices"
   ]
  },
  {
   "cell_type": "code",
   "execution_count": null,
   "metadata": {},
   "outputs": [],
   "source": []
  },
  {
   "cell_type": "markdown",
   "metadata": {},
   "source": [
    "<br>"
   ]
  },
  {
   "cell_type": "markdown",
   "metadata": {},
   "source": [
    "> Tuples"
   ]
  },
  {
   "cell_type": "code",
   "execution_count": null,
   "metadata": {},
   "outputs": [],
   "source": []
  },
  {
   "cell_type": "markdown",
   "metadata": {},
   "source": [
    "<br>"
   ]
  },
  {
   "cell_type": "markdown",
   "metadata": {},
   "source": [
    "> Dictionaries"
   ]
  },
  {
   "cell_type": "code",
   "execution_count": null,
   "metadata": {},
   "outputs": [],
   "source": []
  },
  {
   "cell_type": "markdown",
   "metadata": {},
   "source": [
    "<br>"
   ]
  },
  {
   "cell_type": "markdown",
   "metadata": {},
   "source": [
    "> Sets"
   ]
  },
  {
   "cell_type": "code",
   "execution_count": null,
   "metadata": {},
   "outputs": [],
   "source": []
  },
  {
   "cell_type": "markdown",
   "metadata": {},
   "source": [
    "<br>"
   ]
  },
  {
   "cell_type": "markdown",
   "metadata": {},
   "source": [
    "File reading"
   ]
  },
  {
   "cell_type": "code",
   "execution_count": null,
   "metadata": {},
   "outputs": [],
   "source": [
    "open(\"file1.txt\", \"w\") do f\n",
    " # operate on file f\n",
    "end  # end implicitly execute close(f)"
   ]
  }
 ],
 "metadata": {
  "kernelspec": {
   "display_name": "Julia 1.4.1",
   "language": "julia",
   "name": "julia-1.4"
  },
  "language_info": {
   "file_extension": ".jl",
   "mimetype": "application/julia",
   "name": "julia",
   "version": "1.4.1"
  }
 },
 "nbformat": 4,
 "nbformat_minor": 4
}
