{
 "cells": [
  {
   "cell_type": "markdown",
   "metadata": {},
   "source": [
    "<div style=\"color: #8b1538; font-size: 38px\">Julia 1.0 Programming</div>"
   ]
  },
  {
   "cell_type": "markdown",
   "metadata": {},
   "source": [
    "<div class=\"alert alert-block alert-success\">\n",
    "    Run cells with python in Julia kernel\n",
    "</div>"
   ]
  },
  {
   "cell_type": "code",
   "execution_count": 1,
   "metadata": {},
   "outputs": [
    {
     "data": {
      "text/plain": [
       "@python_str (macro with 1 method)"
      ]
     },
     "execution_count": 1,
     "metadata": {},
     "output_type": "execute_result"
    }
   ],
   "source": [
    "macro python_str(s) open(`python`,\"w\",stdout) do io; print(io, s); end; end"
   ]
  },
  {
   "cell_type": "markdown",
   "metadata": {},
   "source": [
    "# Variables, naming conventions and comments\n",
    "\n",
    "> Comme en python, pas besoin de spécifier le type "
   ]
  },
  {
   "cell_type": "code",
   "execution_count": 2,
   "metadata": {},
   "outputs": [
    {
     "name": "stdout",
     "output_type": "stream",
     "text": [
      "Type de x: Int64\n",
      "Type de x2: Int8\n",
      "Type de x3: Float64\n",
      "Type de s: String\n"
     ]
    }
   ],
   "source": [
    "x, x2, x3 = 7, Int8(7), 0.5\n",
    "s = \"Julia\"\n",
    "\n",
    "println(\"Type de x: $(typeof(x))\")\n",
    "println(\"Type de x2: $(typeof(x2))\")\n",
    "println(\"Type de x3: $(typeof(x3))\")\n",
    "println(\"Type de s: $(typeof(s))\")"
   ]
  },
  {
   "cell_type": "markdown",
   "metadata": {},
   "source": [
    "<br>"
   ]
  },
  {
   "cell_type": "markdown",
   "metadata": {},
   "source": [
    "### Suppresse output - ajouter ;"
   ]
  },
  {
   "cell_type": "code",
   "execution_count": 3,
   "metadata": {},
   "outputs": [],
   "source": [
    "s;"
   ]
  },
  {
   "cell_type": "markdown",
   "metadata": {},
   "source": [
    "<br>"
   ]
  },
  {
   "cell_type": "markdown",
   "metadata": {},
   "source": [
    "### Stylish print"
   ]
  },
  {
   "cell_type": "code",
   "execution_count": 4,
   "metadata": {},
   "outputs": [
    {
     "name": "stdout",
     "output_type": "stream",
     "text": [
      "\u001b[31m\u001b[1mI love Julia!\u001b[22m\u001b[39m"
     ]
    }
   ],
   "source": [
    "printstyled(\"I love Julia!\", color=:red, bold=true)"
   ]
  },
  {
   "cell_type": "markdown",
   "metadata": {},
   "source": [
    "<br>"
   ]
  },
  {
   "cell_type": "markdown",
   "metadata": {},
   "source": [
    "### Overflow behavior"
   ]
  },
  {
   "cell_type": "code",
   "execution_count": 5,
   "metadata": {},
   "outputs": [
    {
     "name": "stdout",
     "output_type": "stream",
     "text": [
      "x: -8446744073709551616 & type: Int64\n",
      "x2: 10000000000000000000 & type: BigInt\n"
     ]
    }
   ],
   "source": [
    "x = 10^19  # Dépasse typemax(Int64) - result in wraparound behavior\n",
    "x2 = big(10)^19\n",
    "\n",
    "println(\"x: $(x) & type: $(typeof(x))\\nx2: $(x2) & type: $(typeof(x2))\")"
   ]
  },
  {
   "cell_type": "markdown",
   "metadata": {},
   "source": [
    "<br>"
   ]
  },
  {
   "cell_type": "markdown",
   "metadata": {},
   "source": [
    "### Elementary mathemactical functions and operations"
   ]
  },
  {
   "cell_type": "code",
   "execution_count": 6,
   "metadata": {},
   "outputs": [
    {
     "name": "stdout",
     "output_type": "stream",
     "text": [
      "-8446744073709551614, 9999999999999999997, 0.25"
     ]
    }
   ],
   "source": [
    "x += 2; x2 -= 3; x3 /= 2;\n",
    "print(\"$(x), $(x2), $(x3)\")"
   ]
  },
  {
   "cell_type": "code",
   "execution_count": 7,
   "metadata": {},
   "outputs": [
    {
     "ename": "LoadError",
     "evalue": "syntax: incomplete: premature end of input",
     "output_type": "error",
     "traceback": [
      "syntax: incomplete: premature end of input",
      ""
     ]
    }
   ],
   "source": [
    "x++  # doesn't exist in julia"
   ]
  },
  {
   "cell_type": "markdown",
   "metadata": {},
   "source": [
    "<br>"
   ]
  },
  {
   "cell_type": "markdown",
   "metadata": {},
   "source": [
    "### String"
   ]
  },
  {
   "cell_type": "code",
   "execution_count": 8,
   "metadata": {},
   "outputs": [
    {
     "name": "stdout",
     "output_type": "stream",
     "text": [
      "Start Jul & End lia\n"
     ]
    }
   ],
   "source": [
    "s = \"Julia\"\n",
    "\n",
    "s_start = s[1:3]  # \"quivalent de s[begin:3]\n",
    "s_end = s[3:end]\n",
    "\n",
    "println(\"Start $(s_start) & End $(s_end)\")"
   ]
  },
  {
   "cell_type": "code",
   "execution_count": 9,
   "metadata": {},
   "outputs": [
    {
     "name": "stdout",
     "output_type": "stream",
     "text": [
      "Start Jul & End ia!\n"
     ]
    }
   ],
   "source": [
    "python\"\"\"\n",
    "s = \"Julia!\"\n",
    "s_start, s_end = s[:3], s[3:]\n",
    "\n",
    "print(\"Start {} & End {}\".format(s_start, s_end))\n",
    "\"\"\""
   ]
  },
  {
   "cell_type": "markdown",
   "metadata": {},
   "source": [
    "<div class=\"alert alert-block alert-warning\">\n",
    "    A String \"A\" is different of Char 'A'\n",
    "</div>"
   ]
  },
  {
   "cell_type": "code",
   "execution_count": 10,
   "metadata": {},
   "outputs": [
    {
     "name": "stdout",
     "output_type": "stream",
     "text": [
      "s = A is a String, c = A is a Char & \u001b[31m\u001b[1ms == c false\u001b[22m\u001b[39m"
     ]
    }
   ],
   "source": [
    "s, c = \"A\", 'A'\n",
    "\n",
    "print(\"s = $s is a $(typeof(s)), c = $c is a $(typeof(c)) & \")\n",
    "printstyled(\"s == c $(s == c)\", color=:red, bold=:true)"
   ]
  },
  {
   "cell_type": "markdown",
   "metadata": {},
   "source": [
    "- \\$s inside a string is replaced byt the value of s - soit A\n",
    "- \\$(s == c) inside a string is replaced by its computed value - soit false\n",
    "\n",
    "<br>\n",
    "\n",
    "> Concatenation des string"
   ]
  },
  {
   "cell_type": "code",
   "execution_count": 11,
   "metadata": {},
   "outputs": [
    {
     "name": "stdout",
     "output_type": "stream",
     "text": [
      "s: abcdef & s2: abcdef"
     ]
    }
   ],
   "source": [
    "s = \"abc\" * \"def\"; s2 = string(\"abc\", \"def\");\n",
    "print(\"s: $s & s2: $s2\")"
   ]
  },
  {
   "cell_type": "code",
   "execution_count": 12,
   "metadata": {},
   "outputs": [
    {
     "name": "stdout",
     "output_type": "stream",
     "text": [
      "s: abcdef\n"
     ]
    }
   ],
   "source": [
    "python\"\"\"\n",
    "s = \"abc\" + \"def\"\n",
    "print(\"s: {}\".format(s))\n",
    "\"\"\""
   ]
  },
  {
   "cell_type": "markdown",
   "metadata": {},
   "source": [
    "<br>"
   ]
  },
  {
   "cell_type": "markdown",
   "metadata": {},
   "source": [
    "> Replace"
   ]
  },
  {
   "cell_type": "code",
   "execution_count": 13,
   "metadata": {},
   "outputs": [
    {
     "name": "stdout",
     "output_type": "stream",
     "text": [
      "s (replace): Jolia"
     ]
    }
   ],
   "source": [
    "s = \"Julia\"\n",
    "s = replace(s, \"u\" => \"o\")\n",
    "print(\"s (replace): $s\")"
   ]
  },
  {
   "cell_type": "code",
   "execution_count": 14,
   "metadata": {},
   "outputs": [
    {
     "name": "stdout",
     "output_type": "stream",
     "text": [
      "s (replace): Jolia\n"
     ]
    }
   ],
   "source": [
    "python\"\"\"\n",
    "s = \"Julia\"\n",
    "s = s.replace(\"u\", \"o\")\n",
    "print(\"s (replace): {}\".format(s))\n",
    "\"\"\""
   ]
  },
  {
   "cell_type": "markdown",
   "metadata": {},
   "source": [
    "<br>"
   ]
  },
  {
   "cell_type": "markdown",
   "metadata": {},
   "source": [
    "> Split"
   ]
  },
  {
   "cell_type": "code",
   "execution_count": 15,
   "metadata": {},
   "outputs": [
    {
     "name": "stdout",
     "output_type": "stream",
     "text": [
      "s (split): SubString{String}[\"hello\", \"world!\"]"
     ]
    }
   ],
   "source": [
    "s = \"hello world!\"\n",
    "s = split(s, \" \")  # return an array of String\n",
    "print(\"s (split): $s\")"
   ]
  },
  {
   "cell_type": "code",
   "execution_count": 16,
   "metadata": {},
   "outputs": [
    {
     "name": "stdout",
     "output_type": "stream",
     "text": [
      "s (split): ['hello', 'world!']\n"
     ]
    }
   ],
   "source": [
    "python\"\"\"\n",
    "s = \"hello world!\"\n",
    "s = s.split(\" \")\n",
    "print(\"s (split): {}\".format(s))\n",
    "\"\"\""
   ]
  },
  {
   "cell_type": "markdown",
   "metadata": {},
   "source": [
    "<br>"
   ]
  },
  {
   "cell_type": "markdown",
   "metadata": {},
   "source": [
    "### Formatting numbers and strings"
   ]
  },
  {
   "cell_type": "code",
   "execution_count": 19,
   "metadata": {},
   "outputs": [
    {
     "name": "stdout",
     "output_type": "stream",
     "text": [
      "7\n",
      "3.141593\n",
      "3.14"
     ]
    }
   ],
   "source": [
    "using Printf\n",
    "\n",
    "@printf(\"%d\\n\", 7)\n",
    "@printf(\"%f\\n\", pi)\n",
    "@printf(\"%0.2f\", pi)  # round"
   ]
  },
  {
   "cell_type": "code",
   "execution_count": 20,
   "metadata": {},
   "outputs": [
    {
     "name": "stdout",
     "output_type": "stream",
     "text": [
      "3.141592653589793\n",
      "3.14\n"
     ]
    }
   ],
   "source": [
    "python\"\"\"\n",
    "import math\n",
    "print(\"{}\".format(math.pi))\n",
    "print(\"{:.2f}\".format(math.pi))  # round\n",
    "\"\"\""
   ]
  },
  {
   "cell_type": "markdown",
   "metadata": {},
   "source": [
    "<br>"
   ]
  },
  {
   "cell_type": "markdown",
   "metadata": {},
   "source": [
    "### Ranges and array"
   ]
  },
  {
   "cell_type": "code",
   "execution_count": 34,
   "metadata": {},
   "outputs": [
    {
     "name": "stdout",
     "output_type": "stream",
     "text": [
      "1 2 3 4 5 \n",
      "1 3 5 "
     ]
    }
   ],
   "source": [
    "for i in 1:5  # de 1 à 5 (inclus) par pas de 1 - défaut\n",
    "    print(\"$i \")\n",
    "end\n",
    "println()\n",
    "\n",
    "for i in 1:2:5  # de 1 à 5 (inclus) par pas de 2\n",
    "    print(\"$i \")\n",
    "end"
   ]
  },
  {
   "cell_type": "code",
   "execution_count": 35,
   "metadata": {},
   "outputs": [
    {
     "name": "stdout",
     "output_type": "stream",
     "text": [
      "1 2 3 4 5 \n",
      "1 3 5 "
     ]
    }
   ],
   "source": [
    "python\"\"\"\n",
    "for i in range(1, 6):  # de 1 à 6 (exclus) par pas de 1 - défaut\n",
    "    print(\"{} \".format(i), end=\"\")\n",
    "print()\n",
    "\n",
    "for i in range(1, 6, 2):  # de 1 à 6 (exclus) par pas de 2\n",
    "    print(\"{} \".format(i), end=\"\")\n",
    "\"\"\""
   ]
  },
  {
   "cell_type": "markdown",
   "metadata": {},
   "source": [
    "<br>\n",
    "\n",
    "> Set up a macro range to have a python like syntax"
   ]
  },
  {
   "cell_type": "code",
   "execution_count": 36,
   "metadata": {},
   "outputs": [
    {
     "data": {
      "text/plain": [
       "@range (macro with 1 method)"
      ]
     },
     "execution_count": 36,
     "metadata": {},
     "output_type": "execute_result"
    }
   ],
   "source": [
    "macro range(debut, fin, args...)\n",
    "    if isempty(args)\n",
    "        return debut:fin-1\n",
    "    end\n",
    "    return debut:args[1]:fin-1\n",
    "end"
   ]
  },
  {
   "cell_type": "code",
   "execution_count": 37,
   "metadata": {},
   "outputs": [
    {
     "name": "stdout",
     "output_type": "stream",
     "text": [
      "1 2 3 4 5 \n",
      "1 3 5 "
     ]
    }
   ],
   "source": [
    "for i in @range(1, 6)  # de 1 à 6 (exclus) par pas de 1 - défaut\n",
    "    print(\"$i \")\n",
    "end\n",
    "println()\n",
    "\n",
    "for i in @range(1, 6, 2)  # de 1 à 6 (exclus) par pas de 2\n",
    "    print(\"$i \")\n",
    "end"
   ]
  },
  {
   "cell_type": "markdown",
   "metadata": {},
   "source": [
    "<br>"
   ]
  },
  {
   "cell_type": "markdown",
   "metadata": {},
   "source": [
    "> Vector - 1 dimensional array"
   ]
  },
  {
   "cell_type": "code",
   "execution_count": 52,
   "metadata": {},
   "outputs": [
    {
     "name": "stdout",
     "output_type": "stream",
     "text": [
      "[100, 25, 37]"
     ]
    }
   ],
   "source": [
    "arr = [100, 25, 37]  # array de int\n",
    "show(arr)"
   ]
  },
  {
   "cell_type": "code",
   "execution_count": 53,
   "metadata": {},
   "outputs": [
    {
     "name": "stdout",
     "output_type": "stream",
     "text": [
      "Any[100, 0.5, \"Julia\"]"
     ]
    }
   ],
   "source": [
    "arr = Any[100, 0.5, \"Julia\"]  # array de type any\n",
    "show(arr)"
   ]
  },
  {
   "cell_type": "markdown",
   "metadata": {},
   "source": [
    "<div class=\"alert alert-block alert-warning\">\n",
    "    The index starts from 1 in julia\n",
    "</div>"
   ]
  },
  {
   "cell_type": "code",
   "execution_count": 54,
   "metadata": {},
   "outputs": [
    {
     "name": "stdout",
     "output_type": "stream",
     "text": [
      "[-1, 1]"
     ]
    }
   ],
   "source": [
    "arr = Array{Int64}(undef, 2)  # array of random int\n",
    "show(arr)"
   ]
  },
  {
   "cell_type": "markdown",
   "metadata": {},
   "source": [
    "<br>"
   ]
  },
  {
   "cell_type": "markdown",
   "metadata": {},
   "source": [
    "> Push"
   ]
  },
  {
   "cell_type": "code",
   "execution_count": 51,
   "metadata": {},
   "outputs": [
    {
     "name": "stdout",
     "output_type": "stream",
     "text": [
      "[66]"
     ]
    }
   ],
   "source": [
    "arr = Int64[]\n",
    "push!(arr, 66)\n",
    "show(arr)"
   ]
  },
  {
   "cell_type": "code",
   "execution_count": 48,
   "metadata": {},
   "outputs": [
    {
     "name": "stdout",
     "output_type": "stream",
     "text": [
      "[66]\n"
     ]
    }
   ],
   "source": [
    "python\"\"\"\n",
    "l = []\n",
    "l.append(66)\n",
    "print(l)\n",
    "\"\"\""
   ]
  },
  {
   "cell_type": "markdown",
   "metadata": {},
   "source": [
    "<br>"
   ]
  },
  {
   "cell_type": "markdown",
   "metadata": {},
   "source": [
    "> Initialize an array from a range"
   ]
  },
  {
   "cell_type": "code",
   "execution_count": 60,
   "metadata": {},
   "outputs": [
    {
     "name": "stdout",
     "output_type": "stream",
     "text": [
      "[1, 2, 3, 4, 5, 6, 7]"
     ]
    }
   ],
   "source": [
    "arr = collect(1:7)\n",
    "show(arr)"
   ]
  },
  {
   "cell_type": "code",
   "execution_count": 58,
   "metadata": {},
   "outputs": [
    {
     "name": "stdout",
     "output_type": "stream",
     "text": [
      "[1, 2, 3, 4, 5, 6, 7]\n"
     ]
    }
   ],
   "source": [
    "python\"\"\"\n",
    "l = list(range(1,8))\n",
    "print(l)\n",
    "\"\"\""
   ]
  },
  {
   "cell_type": "markdown",
   "metadata": {},
   "source": [
    "<br>"
   ]
  },
  {
   "cell_type": "code",
   "execution_count": 61,
   "metadata": {},
   "outputs": [
    {
     "data": {
      "text/plain": [
       "@collect (macro with 1 method)"
      ]
     },
     "execution_count": 61,
     "metadata": {},
     "output_type": "execute_result"
    }
   ],
   "source": [
    "macro collect(debut, fin, args...)\n",
    "    if isempty(args)\n",
    "        return collect(debut:fin-1)\n",
    "    end\n",
    "    return collect(debut:args[1]:fin-1)\n",
    "end"
   ]
  },
  {
   "cell_type": "code",
   "execution_count": 106,
   "metadata": {},
   "outputs": [
    {
     "data": {
      "text/plain": [
       "([1, 2, 3, 4, 5, 6, 7], [1, 3, 5, 7])"
      ]
     },
     "execution_count": 106,
     "metadata": {},
     "output_type": "execute_result"
    }
   ],
   "source": [
    "arr, arr2 = @collect(1,8), @collect(1, 8, 2)"
   ]
  },
  {
   "cell_type": "markdown",
   "metadata": {},
   "source": [
    "<br>"
   ]
  },
  {
   "cell_type": "markdown",
   "metadata": {},
   "source": [
    "> Access element by index"
   ]
  },
  {
   "cell_type": "code",
   "execution_count": 90,
   "metadata": {},
   "outputs": [
    {
     "name": "stdout",
     "output_type": "stream",
     "text": [
      "1er élément vaut 1 & dernier vaut 7"
     ]
    }
   ],
   "source": [
    "debut, fin = arr[1], arr[end]  # arr[begin] équivalent à arr[1]\n",
    "print(\"1er élément vaut $debut & dernier vaut $fin\")"
   ]
  },
  {
   "cell_type": "code",
   "execution_count": 91,
   "metadata": {},
   "outputs": [
    {
     "name": "stdout",
     "output_type": "stream",
     "text": [
      "1er élément vaut 1 & dernier vaut 7\n"
     ]
    }
   ],
   "source": [
    "python\"\"\"\n",
    "l = list(range(1,8))\n",
    "debut, fin = l[0], l[-1]\n",
    "print(\"1er élément vaut {} & dernier vaut {}\".format(debut, fin))\n",
    "\"\"\""
   ]
  },
  {
   "cell_type": "markdown",
   "metadata": {},
   "source": [
    "<br>"
   ]
  },
  {
   "cell_type": "markdown",
   "metadata": {},
   "source": [
    "> Functions importantes"
   ]
  },
  {
   "cell_type": "code",
   "execution_count": 95,
   "metadata": {},
   "outputs": [
    {
     "name": "stdout",
     "output_type": "stream",
     "text": [
      "Type Int64 \n",
      "Taille 7 \n",
      "Dimension 1"
     ]
    }
   ],
   "source": [
    "arr_type, arr_dim, arr_len = eltype(arr), ndims(arr), length(arr)\n",
    "\n",
    "print(\"Type $arr_type \\nTaille $arr_len \\nDimension $arr_dim\")"
   ]
  },
  {
   "cell_type": "markdown",
   "metadata": {},
   "source": [
    "<br>"
   ]
  },
  {
   "cell_type": "markdown",
   "metadata": {},
   "source": [
    "> Join méthode"
   ]
  },
  {
   "cell_type": "code",
   "execution_count": 108,
   "metadata": {},
   "outputs": [
    {
     "data": {
      "text/plain": [
       "\"1 2 3 4 5 6 7\""
      ]
     },
     "execution_count": 108,
     "metadata": {},
     "output_type": "execute_result"
    }
   ],
   "source": [
    "arr_s = join(arr, \" \")\n",
    "arr_s"
   ]
  },
  {
   "cell_type": "markdown",
   "metadata": {},
   "source": [
    "Python ne permet pas de join une liste de integer, il faut au préalable convertir chaque élément en string "
   ]
  },
  {
   "cell_type": "code",
   "execution_count": 102,
   "metadata": {},
   "outputs": [
    {
     "name": "stdout",
     "output_type": "stream",
     "text": [
      "1 2 3 4 5 6 7\n"
     ]
    }
   ],
   "source": [
    "python\"\"\"\n",
    "l = list(range(1,8))\n",
    "l = \" \".join(str(ele) for ele in l)\n",
    "print(\"{}\".format(l))\n",
    "\"\"\""
   ]
  },
  {
   "cell_type": "markdown",
   "metadata": {},
   "source": [
    "<br>"
   ]
  },
  {
   "cell_type": "markdown",
   "metadata": {},
   "source": [
    "> Some common functions fo arrays"
   ]
  }
 ],
 "metadata": {
  "kernelspec": {
   "display_name": "Julia 1.4.1",
   "language": "julia",
   "name": "julia-1.4"
  },
  "language_info": {
   "file_extension": ".jl",
   "mimetype": "application/julia",
   "name": "julia",
   "version": "1.4.1"
  }
 },
 "nbformat": 4,
 "nbformat_minor": 4
}
