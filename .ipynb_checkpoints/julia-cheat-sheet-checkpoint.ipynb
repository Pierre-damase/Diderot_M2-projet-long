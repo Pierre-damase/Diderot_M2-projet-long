{
 "cells": [
  {
   "cell_type": "markdown",
   "metadata": {},
   "source": [
    "<div style=\"color: #8b1538; font-size: 38px\">Julia 1.0 Programming</div>"
   ]
  },
  {
   "cell_type": "markdown",
   "metadata": {},
   "source": [
    "<div class=\"alert alert-block alert-success\">\n",
    "    Run cells with python in Julia kernel\n",
    "</div>"
   ]
  },
  {
   "cell_type": "code",
   "execution_count": 1,
   "metadata": {},
   "outputs": [
    {
     "data": {
      "text/plain": [
       "@python_str (macro with 1 method)"
      ]
     },
     "execution_count": 1,
     "metadata": {},
     "output_type": "execute_result"
    }
   ],
   "source": [
    "macro python_str(s) open(`python`,\"w\",stdout) do io; print(io, s); end; end"
   ]
  },
  {
   "cell_type": "markdown",
   "metadata": {},
   "source": [
    "# Variables, naming conventions and comments\n",
    "\n",
    "> Comme en python, pas besoin de spécifier le type "
   ]
  },
  {
   "cell_type": "code",
   "execution_count": 2,
   "metadata": {},
   "outputs": [
    {
     "name": "stdout",
     "output_type": "stream",
     "text": [
      "Type de x: Int64\n",
      "Type de x2: Int8\n",
      "Type de x3: Float64\n",
      "Type de s: String\n"
     ]
    }
   ],
   "source": [
    "x, x2, x3 = 7, Int8(7), 0.5\n",
    "s = \"Julia\"\n",
    "\n",
    "println(\"Type de x: $(typeof(x))\")\n",
    "println(\"Type de x2: $(typeof(x2))\")\n",
    "println(\"Type de x3: $(typeof(x3))\")\n",
    "println(\"Type de s: $(typeof(s))\")"
   ]
  },
  {
   "cell_type": "markdown",
   "metadata": {},
   "source": [
    "<br>"
   ]
  },
  {
   "cell_type": "markdown",
   "metadata": {},
   "source": [
    "### Suppresse output - ajouter ;"
   ]
  },
  {
   "cell_type": "code",
   "execution_count": 3,
   "metadata": {},
   "outputs": [],
   "source": [
    "s;"
   ]
  },
  {
   "cell_type": "markdown",
   "metadata": {},
   "source": [
    "<br>"
   ]
  },
  {
   "cell_type": "markdown",
   "metadata": {},
   "source": [
    "### Stylish print"
   ]
  },
  {
   "cell_type": "code",
   "execution_count": 4,
   "metadata": {},
   "outputs": [
    {
     "name": "stdout",
     "output_type": "stream",
     "text": [
      "\u001b[31m\u001b[1mI love Julia!\u001b[22m\u001b[39m"
     ]
    }
   ],
   "source": [
    "printstyled(\"I love Julia!\", color=:red, bold=true)"
   ]
  },
  {
   "cell_type": "markdown",
   "metadata": {},
   "source": [
    "<br>"
   ]
  },
  {
   "cell_type": "markdown",
   "metadata": {},
   "source": [
    "### Overflow behavior"
   ]
  },
  {
   "cell_type": "code",
   "execution_count": 5,
   "metadata": {},
   "outputs": [
    {
     "name": "stdout",
     "output_type": "stream",
     "text": [
      "x: -8446744073709551616 & type: Int64\n",
      "x2: 10000000000000000000 & type: BigInt\n"
     ]
    }
   ],
   "source": [
    "x = 10^19  # Dépasse typemax(Int64) - result in wraparound behavior\n",
    "x2 = big(10)^19\n",
    "\n",
    "println(\"x: $(x) & type: $(typeof(x))\\nx2: $(x2) & type: $(typeof(x2))\")"
   ]
  },
  {
   "cell_type": "markdown",
   "metadata": {},
   "source": [
    "<br>"
   ]
  },
  {
   "cell_type": "markdown",
   "metadata": {},
   "source": [
    "### Elementary mathemactical functions and operations"
   ]
  },
  {
   "cell_type": "code",
   "execution_count": 6,
   "metadata": {},
   "outputs": [
    {
     "name": "stdout",
     "output_type": "stream",
     "text": [
      "-8446744073709551614, 9999999999999999997, 0.25"
     ]
    }
   ],
   "source": [
    "x += 2; x2 -= 3; x3 /= 2;\n",
    "print(\"$(x), $(x2), $(x3)\")"
   ]
  },
  {
   "cell_type": "code",
   "execution_count": 7,
   "metadata": {},
   "outputs": [
    {
     "ename": "LoadError",
     "evalue": "syntax: incomplete: premature end of input",
     "output_type": "error",
     "traceback": [
      "syntax: incomplete: premature end of input",
      ""
     ]
    }
   ],
   "source": [
    "x++  # doesn't exist in julia"
   ]
  },
  {
   "cell_type": "markdown",
   "metadata": {},
   "source": [
    "<br>"
   ]
  },
  {
   "cell_type": "markdown",
   "metadata": {},
   "source": [
    "### String"
   ]
  },
  {
   "cell_type": "code",
   "execution_count": 8,
   "metadata": {},
   "outputs": [
    {
     "name": "stdout",
     "output_type": "stream",
     "text": [
      "Start Jul & End lia\n"
     ]
    }
   ],
   "source": [
    "s = \"Julia\"\n",
    "\n",
    "s_start = s[1:3]  # \"quivalent de s[begin:3]\n",
    "s_end = s[3:end]\n",
    "\n",
    "println(\"Start $(s_start) & End $(s_end)\")"
   ]
  },
  {
   "cell_type": "code",
   "execution_count": 9,
   "metadata": {},
   "outputs": [
    {
     "name": "stdout",
     "output_type": "stream",
     "text": [
      "Start Jul & End ia!\n"
     ]
    }
   ],
   "source": [
    "python\"\"\"\n",
    "s = \"Julia!\"\n",
    "s_start, s_end = s[:3], s[3:]\n",
    "\n",
    "print(\"Start {} & End {}\".format(s_start, s_end))\n",
    "\"\"\""
   ]
  },
  {
   "cell_type": "markdown",
   "metadata": {},
   "source": [
    "<div class=\"alert alert-block alert-warning\">\n",
    "    A String \"A\" is different of Char 'A'\n",
    "</div>"
   ]
  },
  {
   "cell_type": "code",
   "execution_count": 10,
   "metadata": {},
   "outputs": [
    {
     "name": "stdout",
     "output_type": "stream",
     "text": [
      "s = A is a String, c = A is a Char & \u001b[31m\u001b[1ms == c false\u001b[22m\u001b[39m"
     ]
    }
   ],
   "source": [
    "s, c = \"A\", 'A'\n",
    "\n",
    "print(\"s = $s is a $(typeof(s)), c = $c is a $(typeof(c)) & \")\n",
    "printstyled(\"s == c $(s == c)\", color=:red, bold=:true)"
   ]
  },
  {
   "cell_type": "markdown",
   "metadata": {},
   "source": [
    "- \\$s inside a string is replaced byt the value of s - soit A\n",
    "- \\$(s == c) inside a string is replaced by its computed value - soit false\n",
    "\n",
    "<br>\n",
    "\n",
    "> Concatenation des string"
   ]
  },
  {
   "cell_type": "code",
   "execution_count": 11,
   "metadata": {},
   "outputs": [
    {
     "name": "stdout",
     "output_type": "stream",
     "text": [
      "s: hello world, s2: hello world & s3: hello world with Julia"
     ]
    }
   ],
   "source": [
    "s = \"hello\" * \" world\"\n",
    "s2 = string(\"hello\", \" world\")\n",
    "s3 = string(s, \" with Julia\")\n",
    "\n",
    "print(\"s: $s, s2: $s2 & s3: $s3\")"
   ]
  },
  {
   "cell_type": "code",
   "execution_count": 12,
   "metadata": {},
   "outputs": [
    {
     "name": "stdout",
     "output_type": "stream",
     "text": [
      "s: abcdef\n"
     ]
    }
   ],
   "source": [
    "python\"\"\"\n",
    "s = \"abc\" + \"def\"\n",
    "print(\"s: {}\".format(s))\n",
    "\"\"\""
   ]
  },
  {
   "cell_type": "markdown",
   "metadata": {},
   "source": [
    "<br>"
   ]
  },
  {
   "cell_type": "markdown",
   "metadata": {},
   "source": [
    "> Replace"
   ]
  },
  {
   "cell_type": "code",
   "execution_count": 13,
   "metadata": {},
   "outputs": [
    {
     "name": "stdout",
     "output_type": "stream",
     "text": [
      "s (replace): Jolia"
     ]
    }
   ],
   "source": [
    "s = \"Julia\"\n",
    "s = replace(s, \"u\" => \"o\")\n",
    "print(\"s (replace): $s\")"
   ]
  },
  {
   "cell_type": "code",
   "execution_count": 14,
   "metadata": {},
   "outputs": [
    {
     "name": "stdout",
     "output_type": "stream",
     "text": [
      "s (replace): Jolia\n"
     ]
    }
   ],
   "source": [
    "python\"\"\"\n",
    "s = \"Julia\"\n",
    "s = s.replace(\"u\", \"o\")\n",
    "print(\"s (replace): {}\".format(s))\n",
    "\"\"\""
   ]
  },
  {
   "cell_type": "markdown",
   "metadata": {},
   "source": [
    "<br>"
   ]
  },
  {
   "cell_type": "markdown",
   "metadata": {},
   "source": [
    "> Split"
   ]
  },
  {
   "cell_type": "code",
   "execution_count": 15,
   "metadata": {},
   "outputs": [
    {
     "name": "stdout",
     "output_type": "stream",
     "text": [
      "s (split): SubString{String}[\"hello\", \"world\"]"
     ]
    }
   ],
   "source": [
    "s = \"hello world\"\n",
    "s = split(s, \" \")  # return an array of String\n",
    "print(\"s (split): $s\")"
   ]
  },
  {
   "cell_type": "code",
   "execution_count": 16,
   "metadata": {},
   "outputs": [
    {
     "name": "stdout",
     "output_type": "stream",
     "text": [
      "s (split): ['hello', 'world']\n"
     ]
    }
   ],
   "source": [
    "python\"\"\"\n",
    "s = \"hello world\"\n",
    "s = s.split(\" \")\n",
    "print(\"s (split): {}\".format(s))\n",
    "\"\"\""
   ]
  },
  {
   "cell_type": "markdown",
   "metadata": {},
   "source": [
    "<br>"
   ]
  },
  {
   "cell_type": "markdown",
   "metadata": {},
   "source": [
    "> Substring"
   ]
  },
  {
   "cell_type": "code",
   "execution_count": 17,
   "metadata": {},
   "outputs": [
    {
     "name": "stdout",
     "output_type": "stream",
     "text": [
      "Soit s = hello world, les 5 1er éléments sont hello & les 5 derniers world"
     ]
    }
   ],
   "source": [
    "s = \"hello world\"\n",
    "debut = SubString(s, 1, 5)\n",
    "fin = SubString(s, 7)  # ou SubString(s, 7, length(s))\n",
    "\n",
    "print(\"Soit s = $s, les 5 1er éléments sont $debut & les 5 derniers $fin\")"
   ]
  },
  {
   "cell_type": "markdown",
   "metadata": {},
   "source": [
    "<br>"
   ]
  },
  {
   "cell_type": "markdown",
   "metadata": {},
   "source": [
    "> Useful functions\n",
    "\n",
    "- Indices d'un mot donné **j** dans s - renvoie seulement l'indice de la 1ère occurrence de ce mot"
   ]
  },
  {
   "cell_type": "code",
   "execution_count": 18,
   "metadata": {},
   "outputs": [
    {
     "name": "stdout",
     "output_type": "stream",
     "text": [
      "Indice de hello 1:5 & de Julia nothing dans hello world"
     ]
    }
   ],
   "source": [
    "index = findfirst(\"hello\", s)\n",
    "index2 = findfirst(\"Julia\", s)  # Renvoie nothing car n'existe pas\n",
    "\n",
    "print(\"Indice de hello $index & de Julia $index2 dans $s\")"
   ]
  },
  {
   "cell_type": "markdown",
   "metadata": {},
   "source": [
    "- Détermine si un mot donné **j** apparaît au moins une fois dans s"
   ]
  },
  {
   "cell_type": "code",
   "execution_count": 19,
   "metadata": {},
   "outputs": [
    {
     "data": {
      "text/plain": [
       "true"
      ]
     },
     "execution_count": 19,
     "metadata": {},
     "output_type": "execute_result"
    }
   ],
   "source": [
    "occursin(\"hello\", s)"
   ]
  },
  {
   "cell_type": "code",
   "execution_count": 20,
   "metadata": {},
   "outputs": [
    {
     "data": {
      "text/plain": [
       "false"
      ]
     },
     "execution_count": 20,
     "metadata": {},
     "output_type": "execute_result"
    }
   ],
   "source": [
    "occursin(\"Julia\", s)"
   ]
  },
  {
   "cell_type": "markdown",
   "metadata": {},
   "source": [
    "- Reverse & uppercase"
   ]
  },
  {
   "cell_type": "code",
   "execution_count": 21,
   "metadata": {},
   "outputs": [
    {
     "name": "stdout",
     "output_type": "stream",
     "text": [
      "dlrow olleh\n",
      "HELLO WORLD\n"
     ]
    }
   ],
   "source": [
    "println(reverse(s))\n",
    "println(uppercase(s))"
   ]
  },
  {
   "cell_type": "markdown",
   "metadata": {},
   "source": [
    "> Endswith"
   ]
  },
  {
   "cell_type": "code",
   "execution_count": 22,
   "metadata": {},
   "outputs": [
    {
     "name": "stdout",
     "output_type": "stream",
     "text": [
      "yersinia.fasta est un fichier fasta"
     ]
    }
   ],
   "source": [
    "s = \"yersinia.fasta\"\n",
    "\n",
    "if endswith(s, \".fasta\")\n",
    "    print(\"$s est un fichier fasta\")\n",
    "end"
   ]
  },
  {
   "cell_type": "code",
   "execution_count": 23,
   "metadata": {},
   "outputs": [
    {
     "name": "stdout",
     "output_type": "stream",
     "text": [
      "yersinia.fasta est un fichier fasta\n"
     ]
    }
   ],
   "source": [
    "python\"\"\"\n",
    "s = \"yersinia.fasta\"\n",
    "if s.endswith(\".fasta\"):\n",
    "    print(\"{} est un fichier fasta\".format(s))\n",
    "\"\"\""
   ]
  },
  {
   "cell_type": "markdown",
   "metadata": {},
   "source": [
    "<br>"
   ]
  },
  {
   "cell_type": "markdown",
   "metadata": {},
   "source": [
    "### Formatting numbers and strings"
   ]
  },
  {
   "cell_type": "code",
   "execution_count": 24,
   "metadata": {},
   "outputs": [
    {
     "name": "stdout",
     "output_type": "stream",
     "text": [
      "7\n",
      "3.141593\n",
      "3.14"
     ]
    }
   ],
   "source": [
    "using Printf\n",
    "\n",
    "@printf(\"%d\\n\", 7)\n",
    "@printf(\"%f\\n\", pi)\n",
    "@printf(\"%0.2f\", pi)  # round"
   ]
  },
  {
   "cell_type": "code",
   "execution_count": 25,
   "metadata": {},
   "outputs": [
    {
     "name": "stdout",
     "output_type": "stream",
     "text": [
      "3.141592653589793\n",
      "3.14\n"
     ]
    }
   ],
   "source": [
    "python\"\"\"\n",
    "import math\n",
    "print(\"{}\".format(math.pi))\n",
    "print(\"{:.2f}\".format(math.pi))  # round\n",
    "\"\"\""
   ]
  },
  {
   "cell_type": "markdown",
   "metadata": {},
   "source": [
    "<br>"
   ]
  },
  {
   "cell_type": "markdown",
   "metadata": {},
   "source": [
    "### Ranges and array"
   ]
  },
  {
   "cell_type": "code",
   "execution_count": 26,
   "metadata": {},
   "outputs": [
    {
     "name": "stdout",
     "output_type": "stream",
     "text": [
      "1 2 3 4 5 \n",
      "1 3 5 "
     ]
    }
   ],
   "source": [
    "for i in 1:5  # de 1 à 5 (inclus) par pas de 1 - défaut\n",
    "    print(\"$i \")\n",
    "end\n",
    "println()\n",
    "\n",
    "for i in 1:2:5  # de 1 à 5 (inclus) par pas de 2\n",
    "    print(\"$i \")\n",
    "end"
   ]
  },
  {
   "cell_type": "code",
   "execution_count": 27,
   "metadata": {},
   "outputs": [
    {
     "name": "stdout",
     "output_type": "stream",
     "text": [
      "1 2 3 4 5 \n",
      "1 3 5 "
     ]
    }
   ],
   "source": [
    "python\"\"\"\n",
    "for i in range(1, 6):  # de 1 à 6 (exclus) par pas de 1 - défaut\n",
    "    print(\"{} \".format(i), end=\"\")\n",
    "print()\n",
    "\n",
    "for i in range(1, 6, 2):  # de 1 à 6 (exclus) par pas de 2\n",
    "    print(\"{} \".format(i), end=\"\")\n",
    "\"\"\""
   ]
  },
  {
   "cell_type": "markdown",
   "metadata": {},
   "source": [
    "<br>\n",
    "\n",
    "> Set up a macro range to have a python like syntax"
   ]
  },
  {
   "cell_type": "code",
   "execution_count": 28,
   "metadata": {},
   "outputs": [
    {
     "data": {
      "text/plain": [
       "@range (macro with 1 method)"
      ]
     },
     "execution_count": 28,
     "metadata": {},
     "output_type": "execute_result"
    }
   ],
   "source": [
    "macro range(debut, fin, args...)\n",
    "    if isempty(args)\n",
    "        return debut:fin\n",
    "    end\n",
    "    return debut:args[1]:fin\n",
    "end"
   ]
  },
  {
   "cell_type": "code",
   "execution_count": 29,
   "metadata": {},
   "outputs": [
    {
     "name": "stdout",
     "output_type": "stream",
     "text": [
      "1 2 3 4 5 \n",
      "1 3 5 "
     ]
    }
   ],
   "source": [
    "for i in @range(1, 5)  # de 1 à 5 (inclus) par pas de 1 - défaut\n",
    "    print(\"$i \")\n",
    "end\n",
    "println()\n",
    "\n",
    "for i in @range(1, 5, 2)  # de 1 à 5 (inclus) par pas de 2\n",
    "    print(\"$i \")\n",
    "end"
   ]
  },
  {
   "cell_type": "markdown",
   "metadata": {},
   "source": [
    "<br>"
   ]
  },
  {
   "cell_type": "markdown",
   "metadata": {},
   "source": [
    "> Vector - 1 dimensional array"
   ]
  },
  {
   "cell_type": "code",
   "execution_count": 30,
   "metadata": {},
   "outputs": [
    {
     "name": "stdout",
     "output_type": "stream",
     "text": [
      "[100, 25, 37]"
     ]
    }
   ],
   "source": [
    "arr = [100, 25, 37]  # array de int\n",
    "show(arr)"
   ]
  },
  {
   "cell_type": "code",
   "execution_count": 31,
   "metadata": {},
   "outputs": [
    {
     "name": "stdout",
     "output_type": "stream",
     "text": [
      "Any[100, 0.5, \"Julia\"]"
     ]
    }
   ],
   "source": [
    "arr = Any[100, 0.5, \"Julia\"]  # array de type any\n",
    "show(arr)"
   ]
  },
  {
   "cell_type": "markdown",
   "metadata": {},
   "source": [
    "<div class=\"alert alert-block alert-warning\">\n",
    "    The index starts from 1 in julia\n",
    "</div>"
   ]
  },
  {
   "cell_type": "code",
   "execution_count": 32,
   "metadata": {},
   "outputs": [
    {
     "name": "stdout",
     "output_type": "stream",
     "text": [
      "[140267067354832, 140266642576464]"
     ]
    }
   ],
   "source": [
    "arr = Array{Int64}(undef, 2)  # array of random int\n",
    "show(arr)"
   ]
  },
  {
   "cell_type": "markdown",
   "metadata": {},
   "source": [
    "<br>"
   ]
  },
  {
   "cell_type": "markdown",
   "metadata": {},
   "source": [
    "> Push"
   ]
  },
  {
   "cell_type": "code",
   "execution_count": 33,
   "metadata": {},
   "outputs": [
    {
     "name": "stdout",
     "output_type": "stream",
     "text": [
      "[66]"
     ]
    }
   ],
   "source": [
    "arr = Int64[]\n",
    "push!(arr, 66)\n",
    "show(arr)"
   ]
  },
  {
   "cell_type": "code",
   "execution_count": 34,
   "metadata": {},
   "outputs": [
    {
     "name": "stdout",
     "output_type": "stream",
     "text": [
      "[66]\n"
     ]
    }
   ],
   "source": [
    "python\"\"\"\n",
    "l = []\n",
    "l.append(66)\n",
    "print(l)\n",
    "\"\"\""
   ]
  },
  {
   "cell_type": "markdown",
   "metadata": {},
   "source": [
    "<br>"
   ]
  },
  {
   "cell_type": "markdown",
   "metadata": {},
   "source": [
    "> Pop - remove le dernier élément"
   ]
  },
  {
   "cell_type": "code",
   "execution_count": 35,
   "metadata": {},
   "outputs": [
    {
     "name": "stdout",
     "output_type": "stream",
     "text": [
      "Int64[]"
     ]
    }
   ],
   "source": [
    "pop!(arr)\n",
    "show(arr)"
   ]
  },
  {
   "cell_type": "code",
   "execution_count": 36,
   "metadata": {},
   "outputs": [
    {
     "name": "stdout",
     "output_type": "stream",
     "text": [
      "[]\n"
     ]
    }
   ],
   "source": [
    "python\"\"\"\n",
    "l = [66]\n",
    "print(l[:-1])\n",
    "\"\"\""
   ]
  },
  {
   "cell_type": "markdown",
   "metadata": {},
   "source": [
    "<br>"
   ]
  },
  {
   "cell_type": "markdown",
   "metadata": {},
   "source": [
    "> Initialize an array from a range"
   ]
  },
  {
   "cell_type": "code",
   "execution_count": 37,
   "metadata": {},
   "outputs": [
    {
     "name": "stdout",
     "output_type": "stream",
     "text": [
      "[1, 2, 3, 4, 5, 6, 7]"
     ]
    }
   ],
   "source": [
    "arr = collect(1:7)\n",
    "show(arr)"
   ]
  },
  {
   "cell_type": "code",
   "execution_count": 38,
   "metadata": {},
   "outputs": [
    {
     "name": "stdout",
     "output_type": "stream",
     "text": [
      "[1, 2, 3, 4, 5, 6, 7]\n"
     ]
    }
   ],
   "source": [
    "python\"\"\"\n",
    "l = list(range(1,8))\n",
    "print(l)\n",
    "\"\"\""
   ]
  },
  {
   "cell_type": "markdown",
   "metadata": {},
   "source": [
    "<br>"
   ]
  },
  {
   "cell_type": "code",
   "execution_count": 39,
   "metadata": {},
   "outputs": [
    {
     "data": {
      "text/plain": [
       "@collect (macro with 1 method)"
      ]
     },
     "execution_count": 39,
     "metadata": {},
     "output_type": "execute_result"
    }
   ],
   "source": [
    "macro collect(debut, fin, args...)\n",
    "    if isempty(args)\n",
    "        return collect(debut:fin-1)\n",
    "    end\n",
    "    return collect(debut:args[1]:fin-1)\n",
    "end"
   ]
  },
  {
   "cell_type": "code",
   "execution_count": 40,
   "metadata": {},
   "outputs": [
    {
     "data": {
      "text/plain": [
       "([1, 2, 3, 4, 5, 6, 7], [1, 3, 5, 7])"
      ]
     },
     "execution_count": 40,
     "metadata": {},
     "output_type": "execute_result"
    }
   ],
   "source": [
    "arr, arr2 = @collect(1,8), @collect(1, 8, 2)"
   ]
  },
  {
   "cell_type": "markdown",
   "metadata": {},
   "source": [
    "<br>"
   ]
  },
  {
   "cell_type": "markdown",
   "metadata": {},
   "source": [
    "> Access element by index"
   ]
  },
  {
   "cell_type": "code",
   "execution_count": 41,
   "metadata": {},
   "outputs": [
    {
     "name": "stdout",
     "output_type": "stream",
     "text": [
      "1er élément vaut 1 & dernier vaut 7"
     ]
    }
   ],
   "source": [
    "debut, fin = arr[1], arr[end]  # arr[begin] équivalent à arr[1]\n",
    "print(\"1er élément vaut $debut & dernier vaut $fin\")"
   ]
  },
  {
   "cell_type": "code",
   "execution_count": 42,
   "metadata": {},
   "outputs": [
    {
     "name": "stdout",
     "output_type": "stream",
     "text": [
      "1er élément vaut 1 & dernier vaut 7\n"
     ]
    }
   ],
   "source": [
    "python\"\"\"\n",
    "l = list(range(1,8))\n",
    "debut, fin = l[0], l[-1]\n",
    "print(\"1er élément vaut {} & dernier vaut {}\".format(debut, fin))\n",
    "\"\"\""
   ]
  },
  {
   "cell_type": "markdown",
   "metadata": {},
   "source": [
    "<br>"
   ]
  },
  {
   "cell_type": "markdown",
   "metadata": {},
   "source": [
    "> Fonctions importantes"
   ]
  },
  {
   "cell_type": "code",
   "execution_count": 43,
   "metadata": {},
   "outputs": [
    {
     "name": "stdout",
     "output_type": "stream",
     "text": [
      "Type Int64 \n",
      "Taille 7 \n",
      "Dimension 1"
     ]
    }
   ],
   "source": [
    "arr_type, arr_dim, arr_len = eltype(arr), ndims(arr), length(arr)\n",
    "\n",
    "print(\"Type $arr_type \\nTaille $arr_len \\nDimension $arr_dim\")"
   ]
  },
  {
   "cell_type": "markdown",
   "metadata": {},
   "source": [
    "<br>"
   ]
  },
  {
   "cell_type": "markdown",
   "metadata": {},
   "source": [
    "> Join méthode"
   ]
  },
  {
   "cell_type": "code",
   "execution_count": 44,
   "metadata": {},
   "outputs": [
    {
     "data": {
      "text/plain": [
       "\"1 2 3 4 5 6 7\""
      ]
     },
     "execution_count": 44,
     "metadata": {},
     "output_type": "execute_result"
    }
   ],
   "source": [
    "arr_s = join(arr, \" \")\n",
    "arr_s"
   ]
  },
  {
   "cell_type": "markdown",
   "metadata": {},
   "source": [
    "Python ne permet pas de join une liste de integer, il faut au préalable convertir chaque élément en string "
   ]
  },
  {
   "cell_type": "code",
   "execution_count": 45,
   "metadata": {},
   "outputs": [
    {
     "name": "stdout",
     "output_type": "stream",
     "text": [
      "1 2 3 4 5 6 7\n"
     ]
    }
   ],
   "source": [
    "python\"\"\"\n",
    "l = list(range(1,8))\n",
    "l = \" \".join(str(ele) for ele in l)\n",
    "print(\"{}\".format(l))\n",
    "\"\"\""
   ]
  },
  {
   "cell_type": "markdown",
   "metadata": {},
   "source": [
    "<br>"
   ]
  },
  {
   "cell_type": "markdown",
   "metadata": {},
   "source": [
    "> Some common functions fo arrays"
   ]
  },
  {
   "cell_type": "markdown",
   "metadata": {},
   "source": [
    "- Concatenate "
   ]
  },
  {
   "cell_type": "code",
   "execution_count": 46,
   "metadata": {},
   "outputs": [
    {
     "name": "stdout",
     "output_type": "stream",
     "text": [
      "[1, 7, 100, 200, 300]"
     ]
    }
   ],
   "source": [
    "a, b = [1, 7], [100, 200, 300]\n",
    "append!(a, b)\n",
    "show(a)"
   ]
  },
  {
   "cell_type": "markdown",
   "metadata": {},
   "source": [
    "- Remove an element of index i"
   ]
  },
  {
   "cell_type": "code",
   "execution_count": 47,
   "metadata": {},
   "outputs": [
    {
     "data": {
      "text/plain": [
       "(100, [1, 7, 200, 300])"
      ]
     },
     "execution_count": 47,
     "metadata": {},
     "output_type": "execute_result"
    }
   ],
   "source": [
    "supp = splice!(a, 3)\n",
    "supp, a"
   ]
  },
  {
   "cell_type": "markdown",
   "metadata": {},
   "source": [
    "- Déterminer si un array contient un élément donné"
   ]
  },
  {
   "cell_type": "code",
   "execution_count": 48,
   "metadata": {},
   "outputs": [
    {
     "data": {
      "text/plain": [
       "(true, false)"
      ]
     },
     "execution_count": 48,
     "metadata": {},
     "output_type": "execute_result"
    }
   ],
   "source": [
    "in(200, a), in(100, a)"
   ]
  },
  {
   "cell_type": "markdown",
   "metadata": {},
   "source": [
    "- Sort"
   ]
  },
  {
   "cell_type": "code",
   "execution_count": 49,
   "metadata": {},
   "outputs": [
    {
     "name": "stdout",
     "output_type": "stream",
     "text": [
      "Sorted: [16, 7, 2, 23, 2, 1]\n",
      "Sort in place: [1, 2, 2, 7, 16, 23]\n"
     ]
    }
   ],
   "source": [
    "a = [16, 7, 2, 23, 2, 1]\n",
    "\n",
    "sort(a); println(\"Sorted: $a\")  # équivalent à sorted() en python\n",
    "sort!(a); println(\"Sort in place: $a\")  # équivalent à a.sort() en python"
   ]
  },
  {
   "cell_type": "markdown",
   "metadata": {},
   "source": [
    "- Deep copy\n",
    "\n",
    "Comme en python, si on fait a = b alors a & b point le même objet en mémoire"
   ]
  },
  {
   "cell_type": "code",
   "execution_count": 50,
   "metadata": {},
   "outputs": [
    {
     "name": "stdout",
     "output_type": "stream",
     "text": [
      "a = [1, 2, 4, 6] & b = [1, 2, 4, 0]\n"
     ]
    }
   ],
   "source": [
    "a = [1,2,4,6]\n",
    "b = deepcopy(a)\n",
    "b[end] = 0\n",
    "println(\"a = $a & b = $b\")"
   ]
  },
  {
   "cell_type": "markdown",
   "metadata": {},
   "source": [
    "<br>"
   ]
  },
  {
   "cell_type": "markdown",
   "metadata": {},
   "source": [
    "###  Dates and times"
   ]
  },
  {
   "cell_type": "code",
   "execution_count": 51,
   "metadata": {},
   "outputs": [
    {
     "name": "stdout",
     "output_type": "stream",
     "text": [
      "Execution time: 0.00049591064453125\n"
     ]
    }
   ],
   "source": [
    "start_time = time()\n",
    "println(\"Execution time: $(time()-start_time)\")"
   ]
  },
  {
   "cell_type": "markdown",
   "metadata": {},
   "source": [
    "Pour déterminer le temps d'éxécution d'un programme, la macro **elapsed** peut être utilisée de la manière suivante: **@elapsed func()**"
   ]
  },
  {
   "cell_type": "code",
   "execution_count": 52,
   "metadata": {},
   "outputs": [
    {
     "data": {
      "text/plain": [
       "12:53:54.452"
      ]
     },
     "execution_count": 52,
     "metadata": {},
     "output_type": "execute_result"
    }
   ],
   "source": [
    "import Dates\n",
    "Dates.Time(Dates.now())"
   ]
  },
  {
   "cell_type": "markdown",
   "metadata": {},
   "source": [
    "<br>"
   ]
  },
  {
   "cell_type": "markdown",
   "metadata": {},
   "source": [
    "# Functions \n",
    "\n",
    "> Multiple return values\n",
    "\n",
    "Renvoie un tuple "
   ]
  },
  {
   "cell_type": "code",
   "execution_count": 53,
   "metadata": {},
   "outputs": [
    {
     "data": {
      "text/plain": [
       "(4, 8)"
      ]
     },
     "execution_count": 53,
     "metadata": {},
     "output_type": "execute_result"
    }
   ],
   "source": [
    "function carre_cube(x)\n",
    "    return x^2, x^3\n",
    "end\n",
    "\n",
    "carre, cube = carre_cube(2)"
   ]
  },
  {
   "cell_type": "markdown",
   "metadata": {},
   "source": [
    "<br>"
   ]
  },
  {
   "cell_type": "markdown",
   "metadata": {},
   "source": [
    "> Fonction qui prend un nombre arbitraire d'arguments\n",
    "\n",
    "- x argument positionnel\n",
    "- args tuple d'arguments"
   ]
  },
  {
   "cell_type": "code",
   "execution_count": 54,
   "metadata": {},
   "outputs": [
    {
     "name": "stdout",
     "output_type": "stream",
     "text": [
      "Soit x = 2, x^2 = 4 & x^3 = 8"
     ]
    }
   ],
   "source": [
    "function power(x, args...)  # x est un argument positionel\n",
    "    if isempty(args)\n",
    "        return x^2  # par défaut détermnine le carré de x\n",
    "    end\n",
    "    return x^args[1]\n",
    "end\n",
    "\n",
    "x = 2\n",
    "carre, cube = power(x), power(x, 3)\n",
    "\n",
    "print(\"Soit x = $x, x^2 = $carre & x^3 = $cube\")"
   ]
  },
  {
   "cell_type": "markdown",
   "metadata": {},
   "source": [
    "<br>"
   ]
  },
  {
   "cell_type": "markdown",
   "metadata": {},
   "source": [
    "> Restrict the kind of parameters\n",
    "\n",
    "- x argument positionnel\n",
    "- pow argument optionnel qui par défaut vaut 2"
   ]
  },
  {
   "cell_type": "code",
   "execution_count": 55,
   "metadata": {},
   "outputs": [
    {
     "name": "stdout",
     "output_type": "stream",
     "text": [
      "Soit x = 2, x^2 = 4 & x^3 = 8\n"
     ]
    }
   ],
   "source": [
    "function power_integer(x::Int, pow::Int=2)  # x & pow doivent être des Int & par défaut pow = 2\n",
    "    return x^pow\n",
    "end\n",
    "\n",
    "x = 2\n",
    "carre, cube = power_integer(x), power_integer(x, 3)\n",
    "\n",
    "println(\"Soit x = $x, x^2 = $(carre) & x^3 = $cube\")"
   ]
  },
  {
   "cell_type": "code",
   "execution_count": 56,
   "metadata": {},
   "outputs": [
    {
     "ename": "MethodError",
     "evalue": "MethodError: no method matching power_integer(::Int64, ::Float64)\nClosest candidates are:\n  power_integer(::Int64, !Matched::Int64) at In[55]:2\n  power_integer(::Int64) at In[55]:2",
     "output_type": "error",
     "traceback": [
      "MethodError: no method matching power_integer(::Int64, ::Float64)\nClosest candidates are:\n  power_integer(::Int64, !Matched::Int64) at In[55]:2\n  power_integer(::Int64) at In[55]:2",
      "",
      "Stacktrace:",
      " [1] top-level scope at In[56]:1"
     ]
    }
   ],
   "source": [
    "power_integer(x, 4.5)"
   ]
  },
  {
   "cell_type": "markdown",
   "metadata": {},
   "source": [
    "<br>"
   ]
  },
  {
   "cell_type": "markdown",
   "metadata": {},
   "source": [
    "> One-line function - compact syntax"
   ]
  },
  {
   "cell_type": "code",
   "execution_count": 57,
   "metadata": {},
   "outputs": [
    {
     "name": "stdout",
     "output_type": "stream",
     "text": [
      "Soit x = 2, x^2 = 4 & x^3 = 8\n"
     ]
    }
   ],
   "source": [
    "power_integer(x::Int, pow::Int=2) = x^pow\n",
    "\n",
    "carre, cube = power_integer(x), power_integer(x, 3)\n",
    "println(\"Soit x = $x, x^2 = $(carre) & x^3 = $cube\")"
   ]
  },
  {
   "cell_type": "markdown",
   "metadata": {},
   "source": [
    "<br>"
   ]
  },
  {
   "cell_type": "markdown",
   "metadata": {},
   "source": [
    "> Map, filter and list comprehensions\n",
    "\n",
    "- map(func, coll)\n",
    "\n",
    "Soit **func** une fonction (souvent anonyme) appliquée successivement à chaque élément de la collection **coll**"
   ]
  },
  {
   "cell_type": "code",
   "execution_count": 58,
   "metadata": {},
   "outputs": [
    {
     "name": "stdout",
     "output_type": "stream",
     "text": [
      "Soit l = [1, 2, 3] & dix = [10, 20, 30]"
     ]
    }
   ],
   "source": [
    "l = [1, 2, 3]\n",
    "l2 = map(x -> x*10, l)\n",
    "\n",
    "print(\"Soit l = $l & dix = $l2\")"
   ]
  },
  {
   "cell_type": "code",
   "execution_count": 59,
   "metadata": {},
   "outputs": [
    {
     "name": "stdout",
     "output_type": "stream",
     "text": [
      "Soit l = [-5, -2, 1, 4, 7, 10, 13] & cubes = [-125, -8, 1, 64, 343, 1000, 2197]"
     ]
    }
   ],
   "source": [
    "l = @collect(-5, 15, 3)\n",
    "cubes = map(x -> power(x, 3), l)\n",
    "\n",
    "print(\"Soit l = $l & cubes = $cubes\")"
   ]
  },
  {
   "cell_type": "markdown",
   "metadata": {},
   "source": [
    "- filter(func, coll)\n",
    "\n",
    "Soit **func** une fonction booléenne (souvent anonyme) qui est contrôlée sur chaque élément de la collection **coll**"
   ]
  },
  {
   "cell_type": "code",
   "execution_count": 60,
   "metadata": {},
   "outputs": [
    {
     "name": "stdout",
     "output_type": "stream",
     "text": [
      "Les éléments paires de [-1, 0, 1, 2, 3, 4, 5, 6] sont [0, 2, 4, 6]"
     ]
    }
   ],
   "source": [
    "l = @collect(-1, 7)\n",
    "even = filter(n -> iseven(n), l)\n",
    "\n",
    "print(\"Les éléments paires de $l sont $even\")"
   ]
  },
  {
   "cell_type": "markdown",
   "metadata": {},
   "source": [
    "- List comprehension - comme en python"
   ]
  },
  {
   "cell_type": "code",
   "execution_count": 61,
   "metadata": {},
   "outputs": [
    {
     "name": "stdout",
     "output_type": "stream",
     "text": [
      "Liste de carrés: [25, 4, 1, 16, 49, 100, 169] & liste de cubes: [-125, -8, 1, 64, 343, 1000, 2197]"
     ]
    }
   ],
   "source": [
    "carre = [power(x, 2) for x in @collect(-5, 15, 3)]\n",
    "cubes = [power(x, 3) for x in @collect(-5, 15, 3)]\n",
    "\n",
    "print(\"Liste de carrés: $carre & liste de cubes: $cubes\")"
   ]
  },
  {
   "cell_type": "markdown",
   "metadata": {},
   "source": [
    "<br>"
   ]
  },
  {
   "cell_type": "markdown",
   "metadata": {},
   "source": [
    "# Control flow"
   ]
  },
  {
   "cell_type": "markdown",
   "metadata": {},
   "source": [
    "> Try catch exceptions"
   ]
  },
  {
   "cell_type": "code",
   "execution_count": 62,
   "metadata": {},
   "outputs": [
    {
     "name": "stdout",
     "output_type": "stream",
     "text": [
      "ArgumentError\n",
      "ArgumentError: array must be non-empty"
     ]
    }
   ],
   "source": [
    "l = []\n",
    "try\n",
    "    pop!(l)\n",
    "catch ex\n",
    "    println(typeof(ex)) \n",
    "    showerror(stdout, ex)\n",
    "end"
   ]
  },
  {
   "cell_type": "code",
   "execution_count": 63,
   "metadata": {},
   "outputs": [
    {
     "name": "stdout",
     "output_type": "stream",
     "text": [
      "Liste vide\n"
     ]
    }
   ],
   "source": [
    "python\"\"\"\n",
    "l = []\n",
    "try:\n",
    "    l[-1]\n",
    "except:\n",
    "    print(\"Liste vide\")\n",
    "\"\"\""
   ]
  },
  {
   "cell_type": "markdown",
   "metadata": {},
   "source": [
    "<br>"
   ]
  },
  {
   "cell_type": "code",
   "execution_count": 64,
   "metadata": {},
   "outputs": [
    {
     "ename": "UndefVarError",
     "evalue": "UndefVarError: collects not defined",
     "output_type": "error",
     "traceback": [
      "UndefVarError: collects not defined",
      "",
      "Stacktrace:",
      " [1] top-level scope at In[64]:1"
     ]
    }
   ],
   "source": [
    "arr = collects(1, 4)\n",
    "\n",
    "for index in 1:length(arr)\n",
    "    println(\"$index: $(arr[index])\")\n",
    "end"
   ]
  },
  {
   "cell_type": "markdown",
   "metadata": {},
   "source": [
    "<br>"
   ]
  },
  {
   "cell_type": "markdown",
   "metadata": {},
   "source": [
    "# Collection types\n",
    "\n",
    "> Matrices\n",
    "\n",
    "- Matrice de taille (2,2)"
   ]
  },
  {
   "cell_type": "code",
   "execution_count": 65,
   "metadata": {},
   "outputs": [
    {
     "data": {
      "text/plain": [
       "2×2 Array{Int64,2}:\n",
       " 1  2\n",
       " 3  4"
      ]
     },
     "execution_count": 65,
     "metadata": {},
     "output_type": "execute_result"
    }
   ],
   "source": [
    "m = [1 2; 3 4]"
   ]
  },
  {
   "cell_type": "markdown",
   "metadata": {},
   "source": [
    "<br>"
   ]
  },
  {
   "cell_type": "markdown",
   "metadata": {},
   "source": [
    "- Matrice de taille (2,5) - constituée de nombre aléatoire entre 0 et 1"
   ]
  },
  {
   "cell_type": "code",
   "execution_count": 66,
   "metadata": {},
   "outputs": [
    {
     "data": {
      "text/plain": [
       "2×5 Array{Float64,2}:\n",
       " 0.814988  0.964051  0.0977152  0.124034  0.658863\n",
       " 0.427918  0.336311  0.0934309  0.589955  0.925075"
      ]
     },
     "execution_count": 66,
     "metadata": {},
     "output_type": "execute_result"
    }
   ],
   "source": [
    " m = rand(2, 5)"
   ]
  },
  {
   "cell_type": "markdown",
   "metadata": {},
   "source": [
    "<br>"
   ]
  },
  {
   "cell_type": "markdown",
   "metadata": {},
   "source": [
    "- Nb dimensions, rows & col"
   ]
  },
  {
   "cell_type": "code",
   "execution_count": 67,
   "metadata": {},
   "outputs": [
    {
     "name": "stdout",
     "output_type": "stream",
     "text": [
      "m est une matrice à 2 dimensions avec 2 lignes & 5 colonnes"
     ]
    }
   ],
   "source": [
    "dim = ndims(m)\n",
    "nrows, ncols = size(m)  # nrows = size(m, 1) & ncols = size(m, 2) \n",
    "\n",
    "print(\"m est une matrice à $dim dimensions avec $nrows lignes & $ncols colonnes\")"
   ]
  },
  {
   "cell_type": "markdown",
   "metadata": {},
   "source": [
    "<br>"
   ]
  },
  {
   "cell_type": "markdown",
   "metadata": {},
   "source": [
    "- Slices\n",
    "\n",
    "Sélectionner la 2ème colonne"
   ]
  },
  {
   "cell_type": "code",
   "execution_count": 68,
   "metadata": {},
   "outputs": [],
   "source": [
    "col2 = m[:, 2];  # m[1:end, 2]"
   ]
  },
  {
   "cell_type": "markdown",
   "metadata": {},
   "source": [
    "Sélectionner la 2ème ligne"
   ]
  },
  {
   "cell_type": "code",
   "execution_count": 69,
   "metadata": {},
   "outputs": [],
   "source": [
    "row2 = m[2, :];"
   ]
  },
  {
   "cell_type": "markdown",
   "metadata": {},
   "source": [
    "Affecter 0 à tous les éléments de la 2ème ligne"
   ]
  },
  {
   "cell_type": "code",
   "execution_count": 70,
   "metadata": {},
   "outputs": [
    {
     "data": {
      "text/plain": [
       "2×5 Array{Float64,2}:\n",
       " 0.814988  0.964051  0.0977152  0.124034  0.658863\n",
       " 0.0       0.0       0.0        0.0       0.0"
      ]
     },
     "execution_count": 70,
     "metadata": {},
     "output_type": "execute_result"
    }
   ],
   "source": [
    "m[2, :] .= 0  # m[2, :] = [0 0 0 0 0]\n",
    "m"
   ]
  },
  {
   "cell_type": "markdown",
   "metadata": {},
   "source": [
    "Matrice transposée **m'** de **m**"
   ]
  },
  {
   "cell_type": "code",
   "execution_count": 71,
   "metadata": {},
   "outputs": [
    {
     "data": {
      "text/plain": [
       "2×2 LinearAlgebra.Adjoint{Int64,Array{Int64,2}}:\n",
       " 1  3\n",
       " 2  4"
      ]
     },
     "execution_count": 71,
     "metadata": {},
     "output_type": "execute_result"
    }
   ],
   "source": [
    "m = [1 2; 3 4]\n",
    "m'"
   ]
  },
  {
   "cell_type": "markdown",
   "metadata": {},
   "source": [
    "<br>"
   ]
  },
  {
   "cell_type": "markdown",
   "metadata": {},
   "source": [
    "- Concatenation"
   ]
  },
  {
   "cell_type": "code",
   "execution_count": 72,
   "metadata": {},
   "outputs": [
    {
     "data": {
      "text/plain": [
       "([1 2; 3 4], [5 6; 7 8])"
      ]
     },
     "execution_count": 72,
     "metadata": {},
     "output_type": "execute_result"
    }
   ],
   "source": [
    "a, b = [1 2; 3 4], [5 6; 7 8]"
   ]
  },
  {
   "cell_type": "markdown",
   "metadata": {},
   "source": [
    "Horizontal concatenation - concatenation along the 2nd dimension (columns)"
   ]
  },
  {
   "cell_type": "code",
   "execution_count": 73,
   "metadata": {},
   "outputs": [
    {
     "data": {
      "text/plain": [
       "2×4 Array{Int64,2}:\n",
       " 1  2  5  6\n",
       " 3  4  7  8"
      ]
     },
     "execution_count": 73,
     "metadata": {},
     "output_type": "execute_result"
    }
   ],
   "source": [
    "c = hcat(a, b)  # c = [a b]"
   ]
  },
  {
   "cell_type": "markdown",
   "metadata": {},
   "source": [
    "Vertical concatenation - concatenation along the first dimension (rows)"
   ]
  },
  {
   "cell_type": "code",
   "execution_count": 74,
   "metadata": {},
   "outputs": [
    {
     "data": {
      "text/plain": [
       "4×2 Array{Int64,2}:\n",
       " 1  2\n",
       " 3  4\n",
       " 5  6\n",
       " 7  8"
      ]
     },
     "execution_count": 74,
     "metadata": {},
     "output_type": "execute_result"
    }
   ],
   "source": [
    "c = vcat(a, b)  # c = [a; b]"
   ]
  },
  {
   "cell_type": "markdown",
   "metadata": {},
   "source": [
    "<br>"
   ]
  },
  {
   "cell_type": "markdown",
   "metadata": {},
   "source": [
    "> Tuples"
   ]
  },
  {
   "cell_type": "code",
   "execution_count": 75,
   "metadata": {},
   "outputs": [
    {
     "name": "stdout",
     "output_type": "stream",
     "text": [
      "x = (1, 2, 3) - Tuple{Int64,Int64,Int64} & x2 = (1, \"a\", 0.5) - Tuple{Int64,String,Float64}"
     ]
    }
   ],
   "source": [
    "x, x2 = (1, 2, 3), (1, \"a\", 0.5)\n",
    "print(\"x = $x - $(typeof(x)) & x2 = $x2 - $(typeof(x2))\")"
   ]
  },
  {
   "cell_type": "code",
   "execution_count": 76,
   "metadata": {},
   "outputs": [
    {
     "data": {
      "text/plain": [
       "('A', 'T', 'G', 'C', 'C', 'G', 'C', 'G', 'A', 'T')"
      ]
     },
     "execution_count": 76,
     "metadata": {},
     "output_type": "execute_result"
    }
   ],
   "source": [
    "seq = Tuple(\"ATGCCGCGAT\")"
   ]
  },
  {
   "cell_type": "code",
   "execution_count": 77,
   "metadata": {},
   "outputs": [
    {
     "name": "stdout",
     "output_type": "stream",
     "text": [
      "A T G C C G C G A T "
     ]
    }
   ],
   "source": [
    "for nucleotide in seq\n",
    "    print(\"$nucleotide \")\n",
    "end"
   ]
  },
  {
   "cell_type": "code",
   "execution_count": 78,
   "metadata": {},
   "outputs": [
    {
     "name": "stdout",
     "output_type": "stream",
     "text": [
      "t = (nourriture = \"tarte\", item = [\"flour\", \"salt\", \"pepper\"], salade = \"comcombre\")\n",
      "item = [\"flour\", \"salt\", \"pepper\"]"
     ]
    }
   ],
   "source": [
    "t = (nourriture=\"tarte\", item=[\"flour\", \"salt\", \"pepper\"], salade=\"comcombre\")\n",
    "\n",
    "println(\"t = $t\")\n",
    "print(\"item = $(t.item)\")"
   ]
  },
  {
   "cell_type": "markdown",
   "metadata": {},
   "source": [
    "<br>"
   ]
  },
  {
   "cell_type": "markdown",
   "metadata": {},
   "source": [
    "> Dictionaries"
   ]
  },
  {
   "cell_type": "code",
   "execution_count": 79,
   "metadata": {},
   "outputs": [
    {
     "data": {
      "text/plain": [
       "Dict{String,Any} with 3 entries:\n",
       "  \"South Africa\" => [\"Cape Town\", \"Pretoria\"]\n",
       "  \"France\"       => \"Paris\"\n",
       "  \"Russia\"       => \"Moscow\""
      ]
     },
     "execution_count": 79,
     "metadata": {},
     "output_type": "execute_result"
    }
   ],
   "source": [
    "dico = Dict(\"France\" => \"Paris\", \"Russia\" => \"Moscow\", \"South Africa\" => [\"Cape Town\", \"Pretoria\"])"
   ]
  },
  {
   "cell_type": "markdown",
   "metadata": {},
   "source": [
    "Dict{String,Any} car les clés sont toutes de type String par contres les valeurs sont de type String ou array"
   ]
  },
  {
   "cell_type": "code",
   "execution_count": 80,
   "metadata": {},
   "outputs": [
    {
     "data": {
      "text/plain": [
       "Dict{String,Any} with 3 entries:\n",
       "  \"South Africa\" => Dict(\"Administrative\"=>\"Pretoria\",\"Législative\"=>\"Cape Town…\n",
       "  \"France\"       => \"Paris\"\n",
       "  \"Russia\"       => \"Moscow\""
      ]
     },
     "execution_count": 80,
     "metadata": {},
     "output_type": "execute_result"
    }
   ],
   "source": [
    "dico2 = Dict(\n",
    "    \"France\" => \"Paris\", \"Russia\" => \"Moscow\", \n",
    "    \"South Africa\" => Dict(\"Administrative\" => \"Pretoria\", \"Législative\" => \"Cape Town\")\n",
    ")"
   ]
  },
  {
   "cell_type": "code",
   "execution_count": 81,
   "metadata": {},
   "outputs": [
    {
     "data": {
      "text/plain": [
       "Dict{String,Any} with 3 entries:\n",
       "  \"South Africa\" => Dict(\"Administrative\"=>\"Pretoria\",\"Législative\"=>\"Cape Town…\n",
       "  \"France\"       => \"Paris\"\n",
       "  \"Russia\"       => \"Moscow\""
      ]
     },
     "execution_count": 81,
     "metadata": {},
     "output_type": "execute_result"
    }
   ],
   "source": [
    "pays = [\"France\", \"Russia\", \"South Africa\"]\n",
    "capital = [\"Paris\", \"Moscow\", Dict(\"Administrative\" => \"Pretoria\", \"Législative\" => \"Cape Town\")]\n",
    "\n",
    "dico3 = Dict(zip(pays, capital))"
   ]
  },
  {
   "cell_type": "markdown",
   "metadata": {},
   "source": [
    "<br>"
   ]
  },
  {
   "cell_type": "code",
   "execution_count": 82,
   "metadata": {},
   "outputs": [
    {
     "data": {
      "text/plain": [
       "\"Moscow\""
      ]
     },
     "execution_count": 82,
     "metadata": {},
     "output_type": "execute_result"
    }
   ],
   "source": [
    "dico2[\"Russia\"]"
   ]
  },
  {
   "cell_type": "code",
   "execution_count": 83,
   "metadata": {},
   "outputs": [
    {
     "data": {
      "text/plain": [
       "(true, false)"
      ]
     },
     "execution_count": 83,
     "metadata": {},
     "output_type": "execute_result"
    }
   ],
   "source": [
    "haskey(dico2, \"Russia\"), haskey(dico2, \"US\")"
   ]
  },
  {
   "cell_type": "code",
   "execution_count": 84,
   "metadata": {},
   "outputs": [
    {
     "data": {
      "text/plain": [
       "(\"Moscow\", nothing)"
      ]
     },
     "execution_count": 84,
     "metadata": {},
     "output_type": "execute_result"
    }
   ],
   "source": [
    "get(dico2, \"Russia\", \"null\"), get(dico2, \"US\", nothing)"
   ]
  },
  {
   "cell_type": "markdown",
   "metadata": {},
   "source": [
    "Russia est présent donc renvoie Moscow mais US est absent donc renvoie nothing"
   ]
  },
  {
   "cell_type": "code",
   "execution_count": 85,
   "metadata": {},
   "outputs": [
    {
     "data": {
      "text/plain": [
       "Dict{String,Any} with 3 entries:\n",
       "  \"South Africa\" => Dict(\"Administrative\"=>\"Pretoria\",\"Législative\"=>\"Cape Town…\n",
       "  \"France\"       => \"Moscow\"\n",
       "  \"Russia\"       => \"Moscow\""
      ]
     },
     "execution_count": 85,
     "metadata": {},
     "output_type": "execute_result"
    }
   ],
   "source": [
    "dico2[\"France\"] = \"Moscow\"\n",
    "dico2"
   ]
  },
  {
   "cell_type": "markdown",
   "metadata": {},
   "source": [
    "<br>"
   ]
  },
  {
   "cell_type": "code",
   "execution_count": 86,
   "metadata": {},
   "outputs": [
    {
     "name": "stdout",
     "output_type": "stream",
     "text": [
      "South Africa  France  Russia  "
     ]
    }
   ],
   "source": [
    "for pays in keys(dico2)\n",
    "    print(\"$pays  \")\n",
    "end"
   ]
  },
  {
   "cell_type": "code",
   "execution_count": 87,
   "metadata": {},
   "outputs": [
    {
     "name": "stdout",
     "output_type": "stream",
     "text": [
      "Dict(\"Administrative\" => \"Pretoria\",\"Législative\" => \"Cape Town\")  Moscow  Moscow  "
     ]
    }
   ],
   "source": [
    "for capital in values(dico2)\n",
    "    print(\"$capital  \")\n",
    "end"
   ]
  },
  {
   "cell_type": "code",
   "execution_count": 88,
   "metadata": {},
   "outputs": [
    {
     "name": "stdout",
     "output_type": "stream",
     "text": [
      "South Africa: Dict(\"Administrative\" => \"Pretoria\",\"Législative\" => \"Cape Town\")\n",
      "France: Moscow\n",
      "Russia: Moscow\n"
     ]
    }
   ],
   "source": [
    "for (pays, capital) in dico2\n",
    "    println(\"$pays: $capital\")\n",
    "end"
   ]
  },
  {
   "cell_type": "markdown",
   "metadata": {},
   "source": [
    "<br>"
   ]
  },
  {
   "cell_type": "code",
   "execution_count": 89,
   "metadata": {},
   "outputs": [
    {
     "name": "stdout",
     "output_type": "stream",
     "text": [
      "{'France': 'Paris', 'Russia': 'Moscow', 'South Africa': ['Cape Town', 'Pretoria']}\n",
      "{'France': 'Paris', 'Russia': 'Moscow', 'South Africa': {'Administrative': 'Pretoria', 'Législative': 'Cape Town'}}\n",
      "\n",
      "KEYS\n",
      "France  Russia  South Africa  \n",
      "\n",
      "VALUES\n",
      "Paris  Moscow  {'Administrative': 'Pretoria', 'Législative': 'Cape Town'}  \n",
      "\n",
      "ITEMS\n",
      "France: Paris\n",
      "Russia: Moscow\n",
      "South Africa: {'Administrative': 'Pretoria', 'Législative': 'Cape Town'}\n"
     ]
    }
   ],
   "source": [
    "python\"\"\"\n",
    "dico = {'France': \"Paris\", 'Russia': \"Moscow\", 'South Africa': [\"Cape Town\", \"Pretoria\"]}\n",
    "\n",
    "pays = [\"France\", \"Russia\", \"South Africa\"]\n",
    "capital = [\"Paris\", \"Moscow\", {\"Administrative\": \"Pretoria\", \"Législative\": \"Cape Town\"}]\n",
    "dico2 = dict(zip(pays, capital))\n",
    "\n",
    "print(\"{}\\n{}\".format(dico, dico2), end=\"\\n\\n\")\n",
    "\n",
    "print(\"KEYS\")\n",
    "for pays in dico2.keys():\n",
    "    print(\"{}  \".format(pays), end=\"\")\n",
    "\n",
    "print(\"\\n\\nVALUES\")\n",
    "for capital in dico2.values():\n",
    "    print(\"{}  \".format(capital), end=\"\")\n",
    "\n",
    "print(\"\\n\\nITEMS\")\n",
    "for pays, capital in dico2.items():\n",
    "    print(\"{}: {}\".format(pays, capital))\n",
    "\"\"\""
   ]
  },
  {
   "cell_type": "markdown",
   "metadata": {},
   "source": [
    "<br>"
   ]
  },
  {
   "cell_type": "markdown",
   "metadata": {},
   "source": [
    "> Sets - comme en python"
   ]
  },
  {
   "cell_type": "code",
   "execution_count": 90,
   "metadata": {},
   "outputs": [
    {
     "data": {
      "text/plain": [
       "(Set([25, 13, 1]), Set([7, 25]))"
      ]
     },
     "execution_count": 90,
     "metadata": {},
     "output_type": "execute_result"
    }
   ],
   "source": [
    "s, s2 = Set([1, 1, 25]), Set([7, 25])\n",
    "push!(s, 1); push!(s, 13)\n",
    "s, s2"
   ]
  },
  {
   "cell_type": "code",
   "execution_count": 91,
   "metadata": {},
   "outputs": [
    {
     "name": "stdout",
     "output_type": "stream",
     "text": [
      "Union: Set([7, 25, 13, 1])\n",
      "Intersect: Set([25])\n",
      "Diff (s s2): Set([13, 1]) & Diff (s2 s): Set([7])\n"
     ]
    }
   ],
   "source": [
    "println(\"Union: $(union(s, s2))\")\n",
    "println(\"Intersect: $(intersect(s, s2))\")\n",
    "println(\"Diff (s s2): $(setdiff(s, s2)) & Diff (s2 s): $(setdiff(s2, s))\")"
   ]
  },
  {
   "cell_type": "markdown",
   "metadata": {},
   "source": [
    "<br>"
   ]
  },
  {
   "cell_type": "markdown",
   "metadata": {},
   "source": [
    "# More on Types, Methods and Modules"
   ]
  },
  {
   "cell_type": "code",
   "execution_count": 92,
   "metadata": {},
   "outputs": [
    {
     "name": "stdout",
     "output_type": "stream",
     "text": [
      "a: 1 - Int64 & b: 1.5 - Float64\n",
      "c: 2.5 - Float64"
     ]
    }
   ],
   "source": [
    "a, b = 1, 1.5\n",
    "c = a + b\n",
    "\n",
    "print(\"a: $a - $(typeof(a)) & b: $b - $(typeof(b))\\nc: $c - $(typeof(c))\")"
   ]
  },
  {
   "cell_type": "markdown",
   "metadata": {},
   "source": [
    "Implicitement l'opérateur **+** appelle d'abord la méthode **promote** qui convertit a & b dans un type commun (ici Float64) puis réalise l'addition"
   ]
  },
  {
   "cell_type": "code",
   "execution_count": 93,
   "metadata": {},
   "outputs": [
    {
     "data": {
      "text/plain": [
       "(1.0, 1.5)"
      ]
     },
     "execution_count": 93,
     "metadata": {},
     "output_type": "execute_result"
    }
   ],
   "source": [
    "promote(a, b)"
   ]
  },
  {
   "cell_type": "markdown",
   "metadata": {},
   "source": [
    "<br>"
   ]
  },
  {
   "cell_type": "markdown",
   "metadata": {},
   "source": [
    "- Define his own types"
   ]
  },
  {
   "cell_type": "code",
   "execution_count": 94,
   "metadata": {},
   "outputs": [
    {
     "name": "stdout",
     "output_type": "stream",
     "text": [
      "Soit UnmutablePoint(1.0, 4.0, 2.0) de type UnmutablePoint\n"
     ]
    },
    {
     "ename": "ErrorException",
     "evalue": "setfield! immutable struct of type UnmutablePoint cannot be changed",
     "output_type": "error",
     "traceback": [
      "setfield! immutable struct of type UnmutablePoint cannot be changed",
      "",
      "Stacktrace:",
      " [1] setproperty!(::UnmutablePoint, ::Symbol, ::Int64) at ./Base.jl:34",
      " [2] top-level scope at In[94]:9"
     ]
    }
   ],
   "source": [
    "struct UnmutablePoint\n",
    "    x::Float64\n",
    "    y::Float64\n",
    "    z::Float64\n",
    "end\n",
    "p = UnmutablePoint(1, 4, 2)  # p = Point(1, 4, 2)\n",
    "\n",
    "println(\"Soit $p de type $(typeof(p))\")\n",
    "p.x = 255"
   ]
  },
  {
   "cell_type": "code",
   "execution_count": 95,
   "metadata": {},
   "outputs": [
    {
     "name": "stdout",
     "output_type": "stream",
     "text": [
      "Soit Point(255.0, 4.0, 2.0) de type Point\n"
     ]
    }
   ],
   "source": [
    "mutable struct Point\n",
    "    x::Float64\n",
    "    y::Float64\n",
    "    z::Float64\n",
    "end\n",
    "p = Point(1, 4, 2)  # p = Point(1, 4, 2)\n",
    "p.x = 255\n",
    "\n",
    "println(\"Soit $p de type $(typeof(p))\")"
   ]
  },
  {
   "cell_type": "markdown",
   "metadata": {},
   "source": [
    "mutable indique qu'on peut modifier les valeurs de Point"
   ]
  },
  {
   "cell_type": "markdown",
   "metadata": {},
   "source": [
    "<br>"
   ]
  },
  {
   "cell_type": "markdown",
   "metadata": {},
   "source": [
    "Comparaison des valeurs & objets\n",
    "\n",
    "- Valeurs"
   ]
  },
  {
   "cell_type": "code",
   "execution_count": 96,
   "metadata": {},
   "outputs": [
    {
     "data": {
      "text/plain": [
       "(true, true, true, true)"
      ]
     },
     "execution_count": 96,
     "metadata": {},
     "output_type": "execute_result"
    }
   ],
   "source": [
    "5 == 5, 5 == 5.0, isequal(5, 5), isequal(5, 5.0)"
   ]
  },
  {
   "cell_type": "markdown",
   "metadata": {},
   "source": [
    "- Objets"
   ]
  },
  {
   "cell_type": "code",
   "execution_count": 97,
   "metadata": {},
   "outputs": [
    {
     "data": {
      "text/plain": [
       "(true, false)"
      ]
     },
     "execution_count": 97,
     "metadata": {},
     "output_type": "execute_result"
    }
   ],
   "source": [
    "5 === 5, 5 === 5.0"
   ]
  },
  {
   "cell_type": "markdown",
   "metadata": {},
   "source": [
    "<br>"
   ]
  },
  {
   "cell_type": "markdown",
   "metadata": {},
   "source": [
    "- Parametric types and methods\n",
    "\n",
    "Abstract type: x & y peuvent être de n'importe quel type - Int, Float, String, etc."
   ]
  },
  {
   "cell_type": "code",
   "execution_count": 98,
   "metadata": {},
   "outputs": [
    {
     "data": {
      "text/plain": [
       "(Point2{Int64}(2, 5), Point2{Float64}(2.5, 5.5), Point2{String}(\"Hello\", \"World\"))"
      ]
     },
     "execution_count": 98,
     "metadata": {},
     "output_type": "execute_result"
    }
   ],
   "source": [
    "mutable struct Point2{T}\n",
    "    x::T\n",
    "    y::T\n",
    "end\n",
    "\n",
    "p, p2, p3 = Point2(2, 5), Point2(2.5, 5.5), Point2(\"Hello\", \"World\")"
   ]
  },
  {
   "cell_type": "markdown",
   "metadata": {},
   "source": [
    "On peut cependant limiter le type de T à un sous-type donné, ici **Real**"
   ]
  },
  {
   "cell_type": "code",
   "execution_count": 99,
   "metadata": {},
   "outputs": [
    {
     "name": "stdout",
     "output_type": "stream",
     "text": [
      "Point3{Int64}(2, 5) & Point3{Float64}(2.5, 5.5)"
     ]
    },
    {
     "ename": "MethodError",
     "evalue": "MethodError: no method matching Point3(::String, ::String)",
     "output_type": "error",
     "traceback": [
      "MethodError: no method matching Point3(::String, ::String)",
      "",
      "Stacktrace:",
      " [1] top-level scope at In[99]:8"
     ]
    }
   ],
   "source": [
    "mutable struct Point3{T <: Real}\n",
    "    x::T\n",
    "    y::T\n",
    "end\n",
    "\n",
    "p, p2 = Point3(2, 5), Point3(2.5, 5.5)\n",
    "print(\"$p & $p2\")\n",
    "Point3(\"Hello\", \"World\")"
   ]
  },
  {
   "cell_type": "markdown",
   "metadata": {},
   "source": [
    "<br>"
   ]
  },
  {
   "cell_type": "markdown",
   "metadata": {},
   "source": [
    "# Metaprogramming in Julia"
   ]
  },
  {
   "cell_type": "code",
   "execution_count": 100,
   "metadata": {},
   "outputs": [
    {
     "name": "stdout",
     "output_type": "stream",
     "text": [
      "Expr\n",
      "  head: Symbol call\n",
      "  args: Array{Any}((3,))\n",
      "    1: Symbol +\n",
      "    2: Int64 2\n",
      "    3: Expr\n",
      "      head: Symbol call\n",
      "      args: Array{Any}((3,))\n",
      "        1: Symbol *\n",
      "        2: Int64 3\n",
      "        3: Int64 4\n"
     ]
    }
   ],
   "source": [
    "dump(:(2 + 3 * 4))"
   ]
  },
  {
   "cell_type": "markdown",
   "metadata": {},
   "source": [
    "<br>"
   ]
  },
  {
   "cell_type": "markdown",
   "metadata": {},
   "source": [
    "- Macros\n",
    "\n",
    "    - **Functions**: prend les valeurs d'entrée et renvoie les valeurs calculées au moment de l'exécution\n",
    "    - **Macro**: prend les expressions d'entrée et renvoie les expressions modifiées au moment de l'analyse"
   ]
  },
  {
   "cell_type": "code",
   "execution_count": 101,
   "metadata": {},
   "outputs": [
    {
     "data": {
      "text/plain": [
       "@mname (macro with 1 method)"
      ]
     },
     "execution_count": 101,
     "metadata": {},
     "output_type": "execute_result"
    }
   ],
   "source": [
    "function fname()  # code taking input values\n",
    "    # code returning computed values\n",
    "end\n",
    "\n",
    "macro mname()  # code taking input expressions\n",
    "    # code returning modifed expression\n",
    "end"
   ]
  },
  {
   "cell_type": "code",
   "execution_count": 102,
   "metadata": {},
   "outputs": [
    {
     "ename": "ErrorException",
     "evalue": "Assertion failed: 1 == 42",
     "output_type": "error",
     "traceback": [
      "Assertion failed: 1 == 42",
      "",
      "Stacktrace:",
      " [1] error(::String, ::String) at ./error.jl:42",
      " [2] top-level scope at In[102]:4"
     ]
    }
   ],
   "source": [
    "macro assert(ex)\n",
    "    :($ex ? nothing : error(\"Assertion failed: \", $(string(ex)) ))  # ternary operator\n",
    "end\n",
    "\n",
    "@assert(1 == 1.0), @assert(1 == 42)"
   ]
  },
  {
   "cell_type": "markdown",
   "metadata": {},
   "source": [
    "1. 1 == 1.0, condition **true** donc renvoie nothing"
   ]
  },
  {
   "cell_type": "markdown",
   "metadata": {},
   "source": [
    "2. 1 == 42, condition **false** donc renvoie le message d'erreur"
   ]
  },
  {
   "cell_type": "code",
   "execution_count": 103,
   "metadata": {},
   "outputs": [
    {
     "data": {
      "text/plain": [
       ":(if 1 == 42\n",
       "      Main.nothing\n",
       "  else\n",
       "      Main.error(\"Assertion failed: \", \"1 == 42\")\n",
       "  end)"
      ]
     },
     "execution_count": 103,
     "metadata": {},
     "output_type": "execute_result"
    }
   ],
   "source": [
    "macroexpand(Main, :(@assert 1 == 42))"
   ]
  },
  {
   "cell_type": "markdown",
   "metadata": {},
   "source": [
    "<br>"
   ]
  },
  {
   "cell_type": "markdown",
   "metadata": {},
   "source": [
    "# I/O, Networking, and Parallel Computing\n",
    "\n",
    "- Basic input and output"
   ]
  },
  {
   "cell_type": "code",
   "execution_count": 104,
   "metadata": {},
   "outputs": [],
   "source": [
    "#n = readline()\n",
    "#print(\"$n\")"
   ]
  },
  {
   "cell_type": "code",
   "execution_count": 105,
   "metadata": {},
   "outputs": [
    {
     "name": "stdout",
     "output_type": "stream",
     "text": [
      "Julia"
     ]
    },
    {
     "data": {
      "text/plain": [
       "5"
      ]
     },
     "execution_count": 105,
     "metadata": {},
     "output_type": "execute_result"
    }
   ],
   "source": [
    "write(stdout, \"Julia\")"
   ]
  },
  {
   "cell_type": "markdown",
   "metadata": {},
   "source": [
    "5 correspond au nombre d'octets dans le flus de sortie"
   ]
  },
  {
   "cell_type": "markdown",
   "metadata": {},
   "source": [
    "<br>"
   ]
  },
  {
   "cell_type": "markdown",
   "metadata": {},
   "source": [
    "- **Lecture de fichier** - fichier fasta"
   ]
  },
  {
   "cell_type": "code",
   "execution_count": 106,
   "metadata": {},
   "outputs": [
    {
     "data": {
      "text/plain": [
       "\"aaa\""
      ]
     },
     "execution_count": 106,
     "metadata": {},
     "output_type": "execute_result"
    }
   ],
   "source": [
    "tmp = \"aaa \"\n",
    "strip(tmp)"
   ]
  },
  {
   "cell_type": "code",
   "execution_count": 107,
   "metadata": {},
   "outputs": [
    {
     "name": "stdout",
     "output_type": "stream",
     "text": [
      "TGGGGAATATTGCACAATGGGCGCAAGCCTGATGCAGCCATGCCGCGTGTATGAAGAAGGCCTTCGGGTTGTAAAGTACTTTCAGCGGGGAGGAAGGTGTTGTGGTTAATAACCGCAGCAATTGACGTTACCCGCAGAAGAAGCACCGGCTAACTCCGTGCCAGCAGCCGCGGTAATACGGAGGGTGCAAGCGTTAATCGGAATTACTGGGCGGAAAGCGCA\n",
      "11"
     ]
    }
   ],
   "source": [
    "function read_fasta(fichier)\n",
    "    seq = Array{String, 1}()\n",
    "    \n",
    "    open(fichier, \"r\") do filin\n",
    "        tmp = \"\"\n",
    "        for line in readlines(filin)\n",
    "            if !startswith(line, \">\")\n",
    "                tmp *= strip(line)\n",
    "            else\n",
    "                if length(tmp) > 0\n",
    "                    push!(seq, tmp)\n",
    "                end\n",
    "                tmp = \"\"\n",
    "            end\n",
    "        end\n",
    "    end  # end implicitly execute close(f)\n",
    "    \n",
    "    return seq\n",
    "end\n",
    "\n",
    "sequences = read_fasta(\"./data/fasta/test_sequences.fasta\");\n",
    "println(sequences[1])\n",
    "print(length(sequences))"
   ]
  },
  {
   "cell_type": "markdown",
   "metadata": {},
   "source": [
    "<br>"
   ]
  },
  {
   "cell_type": "code",
   "execution_count": 108,
   "metadata": {},
   "outputs": [
    {
     "name": "stdout",
     "output_type": "stream",
     "text": [
      "TGGGGAATATTGCACAATGGGCGCAAGCCTGATGCAGCCATGCCGCGTGTATGAAGAAGGCCTTCGGGTTGTAAAGTACTTTCAGCGGGGAGGAAGGTGTTGTGGTTAATAACCGCAGCAATTGACGTTACCCGCAGAAGAAGCACCGGCTAACTCCGTGCCAGCAGCCGCGGTAATACGGAGGGTGCAAGCGTTAATCGGAATTACTGGGCGGAAAGCGCA\n",
      "11\n"
     ]
    }
   ],
   "source": [
    "python\"\"\"\n",
    "def read_fasta(fichier):\n",
    "    seq = []\n",
    "    \n",
    "    with open(fichier, \"r\") as filin:\n",
    "        tmp = \"\"\n",
    "        for line in filin:\n",
    "            if not line.startswith(\">\"):\n",
    "                tmp += line.strip()\n",
    "            else:\n",
    "                if len(tmp) > 0:\n",
    "                    seq.append(tmp)\n",
    "                tmp = \"\"\n",
    "    return seq\n",
    "\n",
    "sequences = read_fasta(\"./data/fasta/test_sequences.fasta\")\n",
    "print(sequences[0])\n",
    "print(len(sequences))\n",
    "\"\"\""
   ]
  },
  {
   "cell_type": "markdown",
   "metadata": {},
   "source": [
    "<br>"
   ]
  },
  {
   "cell_type": "markdown",
   "metadata": {},
   "source": [
    "<br>"
   ]
  },
  {
   "cell_type": "markdown",
   "metadata": {},
   "source": [
    "Lecture de fichier avec un generator"
   ]
  },
  {
   "cell_type": "code",
   "execution_count": 109,
   "metadata": {},
   "outputs": [
    {
     "data": {
      "text/plain": [
       "Channel{Any}(sz_max:0,sz_curr:1)"
      ]
     },
     "execution_count": 109,
     "metadata": {},
     "output_type": "execute_result"
    }
   ],
   "source": [
    "function load_fasta(fichier)\n",
    "   \n",
    "    open(fichier, \"r\") do filin\n",
    "        seq = \"\"\n",
    "        \n",
    "        Channel() do channel  # equivalent to generator in python - yield\n",
    "            for line in readlines(filin)\n",
    "                if !startswith(line , \">\")\n",
    "                    seq *= strip(line)\n",
    "                else\n",
    "                    if length(seq) > 0\n",
    "                        put!(channel, seq)\n",
    "                    end\n",
    "                    seq = \"\"\n",
    "                end\n",
    "            end\n",
    "        end\n",
    "        \n",
    "    end  # end implicitly execute close(f)\n",
    "end\n",
    "\n",
    "sequences = load_fasta(\"./data/fasta/test_sequences.fasta\")"
   ]
  },
  {
   "cell_type": "markdown",
   "metadata": {},
   "source": [
    "Pour parcourir les séquences "
   ]
  },
  {
   "cell_type": "code",
   "execution_count": 110,
   "metadata": {},
   "outputs": [],
   "source": [
    "#for seq in sequences\n",
    "#    println(seq)\n",
    "#end"
   ]
  },
  {
   "cell_type": "markdown",
   "metadata": {},
   "source": [
    "<br>"
   ]
  },
  {
   "cell_type": "code",
   "execution_count": 111,
   "metadata": {},
   "outputs": [],
   "source": [
    "python\"\"\"\n",
    "def load_fasta(fichier):\n",
    "    \n",
    "    with open(fichier, \"r\") as filin:\n",
    "        seq = \"\"\n",
    "        for line in filin:\n",
    "            if not line.startswith(\">\"):\n",
    "                seq += line.strip()\n",
    "            else:\n",
    "                if len(seq) > 0:\n",
    "                    try:\n",
    "                        yield seq\n",
    "                    except StopIteration:\n",
    "                        return\n",
    "                seq = \"\"\n",
    "\n",
    "sequences = load_fasta(\"./data/fasta/test_sequences.fasta\")\n",
    "\"\"\""
   ]
  },
  {
   "cell_type": "markdown",
   "metadata": {},
   "source": [
    "<br>"
   ]
  },
  {
   "cell_type": "markdown",
   "metadata": {},
   "source": [
    "<br>"
   ]
  },
  {
   "cell_type": "markdown",
   "metadata": {},
   "source": [
    "- **Ecriture dans un fichier** - fichier fasta"
   ]
  },
  {
   "cell_type": "code",
   "execution_count": 112,
   "metadata": {},
   "outputs": [],
   "source": [
    "function fasta_format(text, width=80)  # Split text to respect fasta format\n",
    "    seq = Array{String, 1}()\n",
    "\n",
    "    for i in 1:width:length(text)\n",
    "        if i+width > length(text)\n",
    "            push!(seq, text[i:end])\n",
    "        else\n",
    "            push!(seq, text[i:i+width-1])\n",
    "        end\n",
    "    end\n",
    "    \n",
    "    return join(seq, \"\\n\")\n",
    "end\n",
    "\n",
    "\n",
    "function save_fasta(sequences)\n",
    "    \n",
    "    open(\"./data/fasta/test_write_julia.fasta\", \"w\") do filout\n",
    "        tmp = 0\n",
    "        for seq in sequences\n",
    "            write(filout, \">Seq_$tmp\\n\")\n",
    "            write(filout, fasta_format(seq))\n",
    "            write(filout, \"\\n\")\n",
    "            tmp += 1\n",
    "        end\n",
    "    end  # end implicitly execute close(f)\n",
    "    \n",
    "end\n",
    "\n",
    "sequences = load_fasta(\"./data/fasta/test_sequences.fasta\")\n",
    "save_fasta(sequences)"
   ]
  },
  {
   "cell_type": "markdown",
   "metadata": {},
   "source": [
    "<br>"
   ]
  },
  {
   "cell_type": "code",
   "execution_count": 113,
   "metadata": {},
   "outputs": [],
   "source": [
    "python\"\"\"\n",
    "def load_fasta(fichier):\n",
    "    \n",
    "    with open(fichier, \"r\") as filin:\n",
    "        seq = \"\"\n",
    "        for line in filin:\n",
    "            if not line.startswith(\">\"):\n",
    "                seq += line.strip()\n",
    "            else:\n",
    "                if len(seq) > 0:\n",
    "                    try:\n",
    "                        yield seq\n",
    "                    except StopIteration:\n",
    "                        return\n",
    "                seq = \"\"\n",
    "\n",
    "\n",
    "def fasta_format(text, width=80):\n",
    "    seq = [text[i:i+width] for i in range(0, len(text), width)]\n",
    "    return \"\\n\".join(seq)\n",
    "\n",
    "\n",
    "def save_fasta(sequences):\n",
    "    with open(\"./data/fasta/test_write_python.fasta\", \"w\") as filout:\n",
    "        for i, seq in enumerate(sequences):\n",
    "            filout.write(\">Seq_{}\\n\".format(i))\n",
    "            filout.write(\"{}\\n\".format(fasta_format(seq)))\n",
    "\n",
    "\n",
    "sequences = load_fasta(\"./data/fasta/test_sequences.fasta\")\n",
    "save_fasta(sequences)\n",
    "\"\"\""
   ]
  },
  {
   "cell_type": "markdown",
   "metadata": {},
   "source": [
    "<br>"
   ]
  },
  {
   "cell_type": "markdown",
   "metadata": {},
   "source": [
    "<br>"
   ]
  },
  {
   "cell_type": "markdown",
   "metadata": {},
   "source": [
    "- **CSV files** - DelimitedFiles package"
   ]
  },
  {
   "cell_type": "code",
   "execution_count": 114,
   "metadata": {},
   "outputs": [],
   "source": [
    "using DelimitedFiles"
   ]
  },
  {
   "cell_type": "code",
   "execution_count": 142,
   "metadata": {},
   "outputs": [
    {
     "data": {
      "text/plain": [
       "(Any[\"1A8E\" \"Homo sapiens\" \"1998-03-24\" 329; \"1A8F\" \"Homo sapiens\" \"1998-03-25\" 329; \"1AIV\" \"Gallus gallus\" \"1997-04-28\" 686], AbstractString[\"PDB_ID\" \"Source\" \"Deposit_Date\" \"Length\"])"
      ]
     },
     "execution_count": 142,
     "metadata": {},
     "output_type": "execute_result"
    }
   ],
   "source": [
    "csv = DelimitedFiles.readdlm(\"./data/csv/transferrine.csv\", ',', header=true)"
   ]
  },
  {
   "cell_type": "markdown",
   "metadata": {},
   "source": [
    "    - Le header"
   ]
  },
  {
   "cell_type": "code",
   "execution_count": 143,
   "metadata": {},
   "outputs": [
    {
     "data": {
      "text/plain": [
       "1×4 Array{AbstractString,2}:\n",
       " \"PDB_ID\"  \"Source\"  \"Deposit_Date\"  \"Length\""
      ]
     },
     "execution_count": 143,
     "metadata": {},
     "output_type": "execute_result"
    }
   ],
   "source": [
    "header = csv[2]  # le header"
   ]
  },
  {
   "cell_type": "markdown",
   "metadata": {},
   "source": [
    "    - Les données"
   ]
  },
  {
   "cell_type": "code",
   "execution_count": 144,
   "metadata": {},
   "outputs": [
    {
     "data": {
      "text/plain": [
       "3×4 Array{Any,2}:\n",
       " \"1A8E\"  \"Homo sapiens\"   \"1998-03-24\"  329\n",
       " \"1A8F\"  \"Homo sapiens\"   \"1998-03-25\"  329\n",
       " \"1AIV\"  \"Gallus gallus\"  \"1997-04-28\"  686"
      ]
     },
     "execution_count": 144,
     "metadata": {},
     "output_type": "execute_result"
    }
   ],
   "source": [
    "data = csv[1]  # les données"
   ]
  },
  {
   "cell_type": "code",
   "execution_count": 118,
   "metadata": {},
   "outputs": [
    {
     "data": {
      "text/plain": [
       "4-element Array{Any,1}:\n",
       "    \"1AIV\"\n",
       "    \"Gallus gallus\"\n",
       "    \"1997-04-28\"\n",
       " 686"
      ]
     },
     "execution_count": 118,
     "metadata": {},
     "output_type": "execute_result"
    }
   ],
   "source": [
    "data[3,:]  # la 3ème ligne"
   ]
  },
  {
   "cell_type": "code",
   "execution_count": 119,
   "metadata": {},
   "outputs": [
    {
     "data": {
      "text/plain": [
       "3-element Array{Any,1}:\n",
       " \"1A8E\"\n",
       " \"1A8F\"\n",
       " \"1AIV\""
      ]
     },
     "execution_count": 119,
     "metadata": {},
     "output_type": "execute_result"
    }
   ],
   "source": [
    "data[:,1]  # la 1ère colonne - soit PDB ID"
   ]
  },
  {
   "cell_type": "code",
   "execution_count": 120,
   "metadata": {},
   "outputs": [
    {
     "data": {
      "text/plain": [
       "3×3 Array{Any,2}:\n",
       " \"1A8E\"  \"1998-03-24\"  329\n",
       " \"1A8F\"  \"1998-03-25\"  329\n",
       " \"1AIV\"  \"1997-04-28\"  686"
      ]
     },
     "execution_count": 120,
     "metadata": {},
     "output_type": "execute_result"
    }
   ],
   "source": [
    "mat = [data[:,1] data[:,3:end]]  # Créer une matrice composer de la 1ère colonne et des 2 dernières"
   ]
  },
  {
   "cell_type": "markdown",
   "metadata": {},
   "source": [
    "<br>"
   ]
  },
  {
   "cell_type": "code",
   "execution_count": 121,
   "metadata": {},
   "outputs": [
    {
     "data": {
      "text/plain": [
       "(Transferrine(\"1A8E\", \"Homo sapiens\", \"1998-03-24\", 329), \"1A8E\", Transferrine(\"1A8F\", \"Homo sapiens\", \"1998-03-25\", 329))"
      ]
     },
     "execution_count": 121,
     "metadata": {},
     "output_type": "execute_result"
    }
   ],
   "source": [
    "struct Transferrine\n",
    "    pdb_id::String\n",
    "    source::String\n",
    "    deposit_date::String\n",
    "    length::Int\n",
    "end\n",
    "\n",
    "t1 = Transferrine(data[1,:]...)  # l'opérateur ... \n",
    "t2 = Transferrine(data[2,:]...)\n",
    "\n",
    "t1, t1.pdb_id, t2"
   ]
  },
  {
   "cell_type": "markdown",
   "metadata": {},
   "source": [
    "<br>"
   ]
  },
  {
   "cell_type": "code",
   "execution_count": 145,
   "metadata": {},
   "outputs": [],
   "source": [
    "function save_csv(fichier, header, data)\n",
    "    \n",
    "    open(fichier, \"w\") do filout\n",
    "        header = join(tuple(header...), \",\")\n",
    "        write(filout, header, \"\\n\")\n",
    "        for i in 1:size(data)[1]\n",
    "            row = join(tuple(data[i,:]...), \",\")\n",
    "            write(filout, row, \"\\n\")\n",
    "        end\n",
    "    end\n",
    "    \n",
    "end\n",
    "\n",
    "save_csv(\"./data/csv/csv_write_julia.csv\", header, data)"
   ]
  },
  {
   "cell_type": "markdown",
   "metadata": {},
   "source": [
    "<br>"
   ]
  },
  {
   "cell_type": "code",
   "execution_count": 149,
   "metadata": {},
   "outputs": [
    {
     "name": "stdout",
     "output_type": "stream",
     "text": [
      "{'PDB_ID': ['1A8E', '1A8F', '1AIV'], 'Source': ['Homo sapiens', 'Homo sapiens', 'Gallus gallus'], 'Deposit_Date': ['1998-03-24', '1998-03-25', '1997-04-28'], 'Length': ['329', '329', '686']}\n"
     ]
    }
   ],
   "source": [
    "python\"\"\"\n",
    "import csv\n",
    "\n",
    "def load_csv(fichier):\n",
    "    data = {'PDB_ID': [], 'Source': [], 'Deposit_Date': [], 'Length': []}\n",
    "\n",
    "    with open(fichier) as filin:\n",
    "        f_reader = csv.DictReader(filin)\n",
    "        for row in f_reader:\n",
    "            for key in data:\n",
    "                data[key].append(row[key])\n",
    "    \n",
    "    return data\n",
    "\n",
    "data = load_csv(\"./data/csv/transferrine.csv\")\n",
    "print(data)\n",
    "\n",
    "\n",
    "def save_csv(fichier, data):\n",
    "    \n",
    "    with open(fichier, \"w\") as filout:\n",
    "        fields = list(data.keys())\n",
    "        f_writer = csv.DictWriter(filout, fieldnames=fields)\n",
    "        f_writer.writeheader()\n",
    "    \n",
    "        for i in range(len(data['PDB_ID'])):\n",
    "            tmp = {\n",
    "                'PDB_ID': data['PDB_ID'][i],\n",
    "                'Source': data['Source'][i],\n",
    "                'Deposit_Date': data['Deposit_Date'][i],\n",
    "                'Length': data['Length'][i]\n",
    "            }\n",
    "            f_writer.writerow(tmp)\n",
    "\n",
    "save_csv(\"./data/csv/csv_write_python.csv\", data)\n",
    "\"\"\""
   ]
  },
  {
   "cell_type": "markdown",
   "metadata": {},
   "source": [
    "<br>"
   ]
  },
  {
   "cell_type": "markdown",
   "metadata": {},
   "source": [
    "<br>"
   ]
  },
  {
   "cell_type": "markdown",
   "metadata": {},
   "source": [
    "- **Using DataFrames**"
   ]
  },
  {
   "cell_type": "code",
   "execution_count": 128,
   "metadata": {},
   "outputs": [],
   "source": [
    "using DataFrames"
   ]
  },
  {
   "cell_type": "code",
   "execution_count": 129,
   "metadata": {},
   "outputs": [
    {
     "data": {
      "text/html": [
       "<table class=\"data-frame\"><thead><tr><th></th><th>Col1</th><th>Col2</th><th>Col3</th></tr><tr><th></th><th>Int64</th><th>Float64</th><th>Bool</th></tr></thead><tbody><p>4 rows × 3 columns</p><tr><th>1</th><td>1</td><td>2.71828</td><td>1</td></tr><tr><th>2</th><td>2</td><td>3.14159</td><td>0</td></tr><tr><th>3</th><td>3</td><td>1.41421</td><td>1</td></tr><tr><th>4</th><td>4</td><td>42.0</td><td>0</td></tr></tbody></table>"
      ],
      "text/latex": [
       "\\begin{tabular}{r|ccc}\n",
       "\t& Col1 & Col2 & Col3\\\\\n",
       "\t\\hline\n",
       "\t& Int64 & Float64 & Bool\\\\\n",
       "\t\\hline\n",
       "\t1 & 1 & 2.71828 & 1 \\\\\n",
       "\t2 & 2 & 3.14159 & 0 \\\\\n",
       "\t3 & 3 & 1.41421 & 1 \\\\\n",
       "\t4 & 4 & 42.0 & 0 \\\\\n",
       "\\end{tabular}\n"
      ],
      "text/plain": [
       "4×3 DataFrame\n",
       "│ Row │ Col1  │ Col2    │ Col3 │\n",
       "│     │ \u001b[90mInt64\u001b[39m │ \u001b[90mFloat64\u001b[39m │ \u001b[90mBool\u001b[39m │\n",
       "├─────┼───────┼─────────┼──────┤\n",
       "│ 1   │ 1     │ 2.71828 │ 1    │\n",
       "│ 2   │ 2     │ 3.14159 │ 0    │\n",
       "│ 3   │ 3     │ 1.41421 │ 1    │\n",
       "│ 4   │ 4     │ 42.0    │ 0    │"
      ]
     },
     "execution_count": 129,
     "metadata": {},
     "output_type": "execute_result"
    }
   ],
   "source": [
    "df = DataFrame(Col1 = 1:4, Col2 = [MathConstants.e, pi, sqrt(2), 42], \n",
    "    Col3 = [true, false, true, false])"
   ]
  },
  {
   "cell_type": "markdown",
   "metadata": {},
   "source": [
    "    - Column selection\n",
    "    \n",
    "Use index for column selection is deprecated but it's still working"
   ]
  },
  {
   "cell_type": "code",
   "execution_count": 143,
   "metadata": {},
   "outputs": [
    {
     "name": "stdout",
     "output_type": "stream",
     "text": [
      "[2.718281828459045, 3.141592653589793, 1.4142135623730951, 42.0]"
     ]
    },
    {
     "name": "stderr",
     "output_type": "stream",
     "text": [
      "┌ Warning: `getindex(df::DataFrame, col_ind::ColumnIndex)` is deprecated, use `df[!, col_ind]` instead.\n",
      "│   caller = top-level scope at In[143]:1\n",
      "└ @ Core In[143]:1\n"
     ]
    }
   ],
   "source": [
    "show(df[2])"
   ]
  },
  {
   "cell_type": "code",
   "execution_count": 144,
   "metadata": {},
   "outputs": [
    {
     "name": "stdout",
     "output_type": "stream",
     "text": [
      "[2.718281828459045, 3.141592653589793, 1.4142135623730951, 42.0]"
     ]
    }
   ],
   "source": [
    "show(df.Col2)  # df[!,:Col2]"
   ]
  },
  {
   "cell_type": "markdown",
   "metadata": {},
   "source": [
    "    - Row selection"
   ]
  },
  {
   "cell_type": "code",
   "execution_count": 148,
   "metadata": {},
   "outputs": [
    {
     "data": {
      "text/html": [
       "<p>DataFrameRow (3 columns)</p><table class=\"data-frame\"><thead><tr><th></th><th>Col1</th><th>Col2</th><th>Col3</th></tr><tr><th></th><th>Int64</th><th>Float64</th><th>Bool</th></tr></thead><tbody><tr><th>1</th><td>1</td><td>2.71828</td><td>1</td></tr></tbody></table>"
      ],
      "text/latex": [
       "\\begin{tabular}{r|ccc}\n",
       "\t& Col1 & Col2 & Col3\\\\\n",
       "\t\\hline\n",
       "\t& Int64 & Float64 & Bool\\\\\n",
       "\t\\hline\n",
       "\t1 & 1 & 2.71828 & 1 \\\\\n",
       "\\end{tabular}\n"
      ],
      "text/plain": [
       "DataFrameRow\n",
       "│ Row │ Col1  │ Col2    │ Col3 │\n",
       "│     │ \u001b[90mInt64\u001b[39m │ \u001b[90mFloat64\u001b[39m │ \u001b[90mBool\u001b[39m │\n",
       "├─────┼───────┼─────────┼──────┤\n",
       "│ 1   │ 1     │ 2.71828 │ 1    │"
      ]
     },
     "execution_count": 148,
     "metadata": {},
     "output_type": "execute_result"
    }
   ],
   "source": [
    "df[1,:]"
   ]
  },
  {
   "cell_type": "code",
   "execution_count": 151,
   "metadata": {},
   "outputs": [
    {
     "data": {
      "text/plain": [
       "2-element Array{Float64,1}:\n",
       " 2.718281828459045\n",
       " 3.141592653589793"
      ]
     },
     "execution_count": 151,
     "metadata": {},
     "output_type": "execute_result"
    }
   ],
   "source": [
    "df[1:2,:Col2]  # sélectionner la 2ème colonne des deux 1ères lignes"
   ]
  },
  {
   "cell_type": "code",
   "execution_count": 153,
   "metadata": {},
   "outputs": [
    {
     "data": {
      "text/html": [
       "<table class=\"data-frame\"><thead><tr><th></th><th>Col2</th><th>Col3</th></tr><tr><th></th><th>Float64</th><th>Bool</th></tr></thead><tbody><p>2 rows × 2 columns</p><tr><th>1</th><td>2.71828</td><td>1</td></tr><tr><th>2</th><td>3.14159</td><td>0</td></tr></tbody></table>"
      ],
      "text/latex": [
       "\\begin{tabular}{r|cc}\n",
       "\t& Col2 & Col3\\\\\n",
       "\t\\hline\n",
       "\t& Float64 & Bool\\\\\n",
       "\t\\hline\n",
       "\t1 & 2.71828 & 1 \\\\\n",
       "\t2 & 3.14159 & 0 \\\\\n",
       "\\end{tabular}\n"
      ],
      "text/plain": [
       "2×2 DataFrame\n",
       "│ Row │ Col2    │ Col3 │\n",
       "│     │ \u001b[90mFloat64\u001b[39m │ \u001b[90mBool\u001b[39m │\n",
       "├─────┼─────────┼──────┤\n",
       "│ 1   │ 2.71828 │ 1    │\n",
       "│ 2   │ 3.14159 │ 0    │"
      ]
     },
     "execution_count": 153,
     "metadata": {},
     "output_type": "execute_result"
    }
   ],
   "source": [
    "df[1:2,[:Col2, :Col3]]  # sélectionner la 2ème & 3ème colonnes des deux 1ères lignes"
   ]
  },
  {
   "cell_type": "markdown",
   "metadata": {},
   "source": [
    "    - Head and tail - deprecated instead use first and last"
   ]
  },
  {
   "cell_type": "code",
   "execution_count": 157,
   "metadata": {},
   "outputs": [
    {
     "data": {
      "text/html": [
       "<table class=\"data-frame\"><thead><tr><th></th><th>Col1</th><th>Col2</th><th>Col3</th></tr><tr><th></th><th>Int64</th><th>Float64</th><th>Bool</th></tr></thead><tbody><p>2 rows × 3 columns</p><tr><th>1</th><td>1</td><td>2.71828</td><td>1</td></tr><tr><th>2</th><td>2</td><td>3.14159</td><td>0</td></tr></tbody></table>"
      ],
      "text/latex": [
       "\\begin{tabular}{r|ccc}\n",
       "\t& Col1 & Col2 & Col3\\\\\n",
       "\t\\hline\n",
       "\t& Int64 & Float64 & Bool\\\\\n",
       "\t\\hline\n",
       "\t1 & 1 & 2.71828 & 1 \\\\\n",
       "\t2 & 2 & 3.14159 & 0 \\\\\n",
       "\\end{tabular}\n"
      ],
      "text/plain": [
       "2×3 DataFrame\n",
       "│ Row │ Col1  │ Col2    │ Col3 │\n",
       "│     │ \u001b[90mInt64\u001b[39m │ \u001b[90mFloat64\u001b[39m │ \u001b[90mBool\u001b[39m │\n",
       "├─────┼───────┼─────────┼──────┤\n",
       "│ 1   │ 1     │ 2.71828 │ 1    │\n",
       "│ 2   │ 2     │ 3.14159 │ 0    │"
      ]
     },
     "execution_count": 157,
     "metadata": {},
     "output_type": "execute_result"
    }
   ],
   "source": [
    "first(df, 2)"
   ]
  },
  {
   "cell_type": "code",
   "execution_count": 159,
   "metadata": {},
   "outputs": [
    {
     "data": {
      "text/html": [
       "<table class=\"data-frame\"><thead><tr><th></th><th>Col1</th><th>Col2</th><th>Col3</th></tr><tr><th></th><th>Int64</th><th>Float64</th><th>Bool</th></tr></thead><tbody><p>2 rows × 3 columns</p><tr><th>1</th><td>3</td><td>1.41421</td><td>1</td></tr><tr><th>2</th><td>4</td><td>42.0</td><td>0</td></tr></tbody></table>"
      ],
      "text/latex": [
       "\\begin{tabular}{r|ccc}\n",
       "\t& Col1 & Col2 & Col3\\\\\n",
       "\t\\hline\n",
       "\t& Int64 & Float64 & Bool\\\\\n",
       "\t\\hline\n",
       "\t1 & 3 & 1.41421 & 1 \\\\\n",
       "\t2 & 4 & 42.0 & 0 \\\\\n",
       "\\end{tabular}\n"
      ],
      "text/plain": [
       "2×3 DataFrame\n",
       "│ Row │ Col1  │ Col2    │ Col3 │\n",
       "│     │ \u001b[90mInt64\u001b[39m │ \u001b[90mFloat64\u001b[39m │ \u001b[90mBool\u001b[39m │\n",
       "├─────┼───────┼─────────┼──────┤\n",
       "│ 1   │ 3     │ 1.41421 │ 1    │\n",
       "│ 2   │ 4     │ 42.0    │ 0    │"
      ]
     },
     "execution_count": 159,
     "metadata": {},
     "output_type": "execute_result"
    }
   ],
   "source": [
    "last(df, 2)"
   ]
  },
  {
   "cell_type": "markdown",
   "metadata": {},
   "source": [
    "    - Useful methods"
   ]
  },
  {
   "cell_type": "code",
   "execution_count": 169,
   "metadata": {},
   "outputs": [
    {
     "data": {
      "text/plain": [
       "([\"Col1\", \"Col2\", \"Col3\"], DataType[Int64, Float64, Bool])"
      ]
     },
     "execution_count": 169,
     "metadata": {},
     "output_type": "execute_result"
    }
   ],
   "source": [
    "names(df), eltype.(eachcol(df))"
   ]
  },
  {
   "cell_type": "code",
   "execution_count": 170,
   "metadata": {},
   "outputs": [
    {
     "data": {
      "text/html": [
       "<table class=\"data-frame\"><thead><tr><th></th><th>variable</th><th>mean</th><th>min</th><th>median</th><th>max</th><th>nunique</th><th>nmissing</th><th>eltype</th></tr><tr><th></th><th>Symbol</th><th>Float64</th><th>Real</th><th>Float64</th><th>Real</th><th>Nothing</th><th>Nothing</th><th>DataType</th></tr></thead><tbody><p>3 rows × 8 columns</p><tr><th>1</th><td>Col1</td><td>2.5</td><td>1</td><td>2.5</td><td>4</td><td></td><td></td><td>Int64</td></tr><tr><th>2</th><td>Col2</td><td>12.3185</td><td>1.41421</td><td>2.92994</td><td>42.0</td><td></td><td></td><td>Float64</td></tr><tr><th>3</th><td>Col3</td><td>0.5</td><td>0</td><td>0.5</td><td>1</td><td></td><td></td><td>Bool</td></tr></tbody></table>"
      ],
      "text/latex": [
       "\\begin{tabular}{r|cccccccc}\n",
       "\t& variable & mean & min & median & max & nunique & nmissing & eltype\\\\\n",
       "\t\\hline\n",
       "\t& Symbol & Float64 & Real & Float64 & Real & Nothing & Nothing & DataType\\\\\n",
       "\t\\hline\n",
       "\t1 & Col1 & 2.5 & 1 & 2.5 & 4 &  &  & Int64 \\\\\n",
       "\t2 & Col2 & 12.3185 & 1.41421 & 2.92994 & 42.0 &  &  & Float64 \\\\\n",
       "\t3 & Col3 & 0.5 & 0 & 0.5 & 1 &  &  & Bool \\\\\n",
       "\\end{tabular}\n"
      ],
      "text/plain": [
       "3×8 DataFrame. Omitted printing of 1 columns\n",
       "│ Row │ variable │ mean    │ min     │ median  │ max  │ nunique │ nmissing │\n",
       "│     │ \u001b[90mSymbol\u001b[39m   │ \u001b[90mFloat64\u001b[39m │ \u001b[90mReal\u001b[39m    │ \u001b[90mFloat64\u001b[39m │ \u001b[90mReal\u001b[39m │ \u001b[90mNothing\u001b[39m │ \u001b[90mNothing\u001b[39m  │\n",
       "├─────┼──────────┼─────────┼─────────┼─────────┼──────┼─────────┼──────────┤\n",
       "│ 1   │ Col1     │ 2.5     │ 1       │ 2.5     │ 4    │         │          │\n",
       "│ 2   │ Col2     │ 12.3185 │ 1.41421 │ 2.92994 │ 42.0 │         │          │\n",
       "│ 3   │ Col3     │ 0.5     │ 0       │ 0.5     │ 1    │         │          │"
      ]
     },
     "execution_count": 170,
     "metadata": {},
     "output_type": "execute_result"
    }
   ],
   "source": [
    "describe(df)"
   ]
  },
  {
   "cell_type": "markdown",
   "metadata": {},
   "source": [
    "    - CSV save & read - package DataFrame & CSV"
   ]
  },
  {
   "cell_type": "code",
   "execution_count": 150,
   "metadata": {},
   "outputs": [],
   "source": [
    "using CSV\n",
    "using DataFrames"
   ]
  },
  {
   "cell_type": "code",
   "execution_count": 151,
   "metadata": {},
   "outputs": [
    {
     "data": {
      "text/html": [
       "<table class=\"data-frame\"><thead><tr><th></th><th>PDB_ID</th><th>Source</th><th>Deposit_Date</th><th>Length</th></tr><tr><th></th><th>String</th><th>String</th><th>Date…</th><th>Int64</th></tr></thead><tbody><p>3 rows × 4 columns</p><tr><th>1</th><td>1A8E</td><td>Homo sapiens</td><td>1998-03-24</td><td>329</td></tr><tr><th>2</th><td>1A8F</td><td>Homo sapiens</td><td>1998-03-25</td><td>329</td></tr><tr><th>3</th><td>1AIV</td><td>Gallus gallus</td><td>1997-04-28</td><td>686</td></tr></tbody></table>"
      ],
      "text/latex": [
       "\\begin{tabular}{r|cccc}\n",
       "\t& PDB\\_ID & Source & Deposit\\_Date & Length\\\\\n",
       "\t\\hline\n",
       "\t& String & String & Date… & Int64\\\\\n",
       "\t\\hline\n",
       "\t1 & 1A8E & Homo sapiens & 1998-03-24 & 329 \\\\\n",
       "\t2 & 1A8F & Homo sapiens & 1998-03-25 & 329 \\\\\n",
       "\t3 & 1AIV & Gallus gallus & 1997-04-28 & 686 \\\\\n",
       "\\end{tabular}\n"
      ],
      "text/plain": [
       "3×4 DataFrame\n",
       "│ Row │ PDB_ID │ Source        │ Deposit_Date │ Length │\n",
       "│     │ \u001b[90mString\u001b[39m │ \u001b[90mString\u001b[39m        │ \u001b[90mDates.Date\u001b[39m   │ \u001b[90mInt64\u001b[39m  │\n",
       "├─────┼────────┼───────────────┼──────────────┼────────┤\n",
       "│ 1   │ 1A8E   │ Homo sapiens  │ 1998-03-24   │ 329    │\n",
       "│ 2   │ 1A8F   │ Homo sapiens  │ 1998-03-25   │ 329    │\n",
       "│ 3   │ 1AIV   │ Gallus gallus │ 1997-04-28   │ 686    │"
      ]
     },
     "execution_count": 151,
     "metadata": {},
     "output_type": "execute_result"
    }
   ],
   "source": [
    "csv = CSV.read(\"./data/csv/transferrine.csv\", delim=\",\", header=true)"
   ]
  },
  {
   "cell_type": "code",
   "execution_count": 161,
   "metadata": {},
   "outputs": [
    {
     "name": "stdout",
     "output_type": "stream",
     "text": [
      "[\"1A8E\", \"1A8F\", \"1AIV\"][\"1A8E\", \"1A8F\", \"1AIV\"]"
     ]
    },
    {
     "data": {
      "text/html": [
       "<p>DataFrameRow (2 columns)</p><table class=\"data-frame\"><thead><tr><th></th><th>PDB_ID</th><th>Length</th></tr><tr><th></th><th>String</th><th>Int64</th></tr></thead><tbody><tr><th>1</th><td>1A8E</td><td>329</td></tr></tbody></table>"
      ],
      "text/latex": [
       "\\begin{tabular}{r|cc}\n",
       "\t& PDB\\_ID & Length\\\\\n",
       "\t\\hline\n",
       "\t& String & Int64\\\\\n",
       "\t\\hline\n",
       "\t1 & 1A8E & 329 \\\\\n",
       "\\end{tabular}\n"
      ],
      "text/plain": [
       "DataFrameRow\n",
       "│ Row │ PDB_ID │ Length │\n",
       "│     │ \u001b[90mString\u001b[39m │ \u001b[90mInt64\u001b[39m  │\n",
       "├─────┼────────┼────────┤\n",
       "│ 1   │ 1A8E   │ 329    │"
      ]
     },
     "execution_count": 161,
     "metadata": {},
     "output_type": "execute_result"
    }
   ],
   "source": [
    "show(csv.PDB_ID), show(csv[!,:PDB_ID])\n",
    "csv[1, [:PDB_ID, :Length]]"
   ]
  },
  {
   "cell_type": "code",
   "execution_count": 177,
   "metadata": {},
   "outputs": [
    {
     "data": {
      "text/html": [
       "<table class=\"data-frame\"><thead><tr><th></th><th>Source</th><th>x1</th></tr><tr><th></th><th>String</th><th>Int64</th></tr></thead><tbody><p>2 rows × 2 columns</p><tr><th>1</th><td>Homo sapiens</td><td>2</td></tr><tr><th>2</th><td>Gallus gallus</td><td>1</td></tr></tbody></table>"
      ],
      "text/latex": [
       "\\begin{tabular}{r|cc}\n",
       "\t& Source & x1\\\\\n",
       "\t\\hline\n",
       "\t& String & Int64\\\\\n",
       "\t\\hline\n",
       "\t1 & Homo sapiens & 2 \\\\\n",
       "\t2 & Gallus gallus & 1 \\\\\n",
       "\\end{tabular}\n"
      ],
      "text/plain": [
       "2×2 DataFrame\n",
       "│ Row │ Source        │ x1    │\n",
       "│     │ \u001b[90mString\u001b[39m        │ \u001b[90mInt64\u001b[39m │\n",
       "├─────┼───────────────┼───────┤\n",
       "│ 1   │ Homo sapiens  │ 2     │\n",
       "│ 2   │ Gallus gallus │ 1     │"
      ]
     },
     "execution_count": 177,
     "metadata": {},
     "output_type": "execute_result"
    }
   ],
   "source": [
    "combine(csv -> size(csv, 1), groupby(csv, :Source, sort=false, skipmissing=true))"
   ]
  },
  {
   "cell_type": "markdown",
   "metadata": {},
   "source": [
    "<br>"
   ]
  },
  {
   "cell_type": "code",
   "execution_count": 184,
   "metadata": {},
   "outputs": [
    {
     "data": {
      "text/plain": [
       "\"./data/csv/csv_write_julia.csv\""
      ]
     },
     "execution_count": 184,
     "metadata": {},
     "output_type": "execute_result"
    }
   ],
   "source": [
    "CSV.write(\"./data/csv/csv_write_julia.csv\", csv, delim=\",\", header=true)"
   ]
  },
  {
   "cell_type": "markdown",
   "metadata": {},
   "source": [
    "<br>"
   ]
  },
  {
   "cell_type": "markdown",
   "metadata": {},
   "source": [
    "# Performance tips"
   ]
  },
  {
   "cell_type": "markdown",
   "metadata": {},
   "source": [
    "    - Libérer la mémoire"
   ]
  },
  {
   "cell_type": "code",
   "execution_count": 188,
   "metadata": {},
   "outputs": [],
   "source": [
    "csv = nothing "
   ]
  },
  {
   "cell_type": "markdown",
   "metadata": {},
   "source": [
    "    - Array operation"
   ]
  },
  {
   "cell_type": "code",
   "execution_count": 191,
   "metadata": {},
   "outputs": [],
   "source": [
    "x = [1, 2, 3, 4]\n",
    "x .^ 2  # beaucoup plus rapide\n",
    "[ele^2 for ele in x];"
   ]
  }
 ],
 "metadata": {
  "kernelspec": {
   "display_name": "Julia 1.4.1",
   "language": "julia",
   "name": "julia-1.4"
  },
  "language_info": {
   "file_extension": ".jl",
   "mimetype": "application/julia",
   "name": "julia",
   "version": "1.4.1"
  }
 },
 "nbformat": 4,
 "nbformat_minor": 4
}
