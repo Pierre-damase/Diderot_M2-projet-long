{
 "cells": [
  {
   "cell_type": "markdown",
   "metadata": {},
   "source": [
    "<div style=\"color: #8b1538; font-size: 38px\">Julia 1.0 Programming</div>"
   ]
  },
  {
   "cell_type": "markdown",
   "metadata": {},
   "source": [
    "<div class=\"alert alert-block alert-success\">\n",
    "    Run cells with python in Julia kernel\n",
    "</div>"
   ]
  },
  {
   "cell_type": "code",
   "execution_count": 1,
   "metadata": {},
   "outputs": [
    {
     "data": {
      "text/plain": [
       "@python_str (macro with 1 method)"
      ]
     },
     "execution_count": 1,
     "metadata": {},
     "output_type": "execute_result"
    }
   ],
   "source": [
    "macro python_str(s) open(`python`,\"w\",stdout) do io; print(io, s); end; end"
   ]
  },
  {
   "cell_type": "markdown",
   "metadata": {},
   "source": [
    "# Variables, naming conventions and comments\n",
    "\n",
    "> Comme en python, pas besoin de spécifier le type "
   ]
  },
  {
   "cell_type": "code",
   "execution_count": 2,
   "metadata": {},
   "outputs": [
    {
     "name": "stdout",
     "output_type": "stream",
     "text": [
      "Type de x: Int64\n",
      "Type de x2: Int8\n",
      "Type de x3: Float64\n",
      "Type de s: String\n"
     ]
    }
   ],
   "source": [
    "x, x2, x3 = 7, Int8(7), 0.5\n",
    "s = \"Julia\"\n",
    "\n",
    "println(\"Type de x: $(typeof(x))\")\n",
    "println(\"Type de x2: $(typeof(x2))\")\n",
    "println(\"Type de x3: $(typeof(x3))\")\n",
    "println(\"Type de s: $(typeof(s))\")"
   ]
  },
  {
   "cell_type": "markdown",
   "metadata": {},
   "source": [
    "<br>"
   ]
  },
  {
   "cell_type": "markdown",
   "metadata": {},
   "source": [
    "### Suppresse output - ajouter ;"
   ]
  },
  {
   "cell_type": "code",
   "execution_count": 3,
   "metadata": {},
   "outputs": [],
   "source": [
    "s;"
   ]
  },
  {
   "cell_type": "markdown",
   "metadata": {},
   "source": [
    "<br>"
   ]
  },
  {
   "cell_type": "markdown",
   "metadata": {},
   "source": [
    "### Stylish print"
   ]
  },
  {
   "cell_type": "code",
   "execution_count": 4,
   "metadata": {},
   "outputs": [
    {
     "name": "stdout",
     "output_type": "stream",
     "text": [
      "\u001b[31m\u001b[1mI love Julia!\u001b[22m\u001b[39m"
     ]
    }
   ],
   "source": [
    "printstyled(\"I love Julia!\", color=:red, bold=true)"
   ]
  },
  {
   "cell_type": "markdown",
   "metadata": {},
   "source": [
    "<br>"
   ]
  },
  {
   "cell_type": "markdown",
   "metadata": {},
   "source": [
    "### Overflow behavior"
   ]
  },
  {
   "cell_type": "code",
   "execution_count": 5,
   "metadata": {},
   "outputs": [
    {
     "name": "stdout",
     "output_type": "stream",
     "text": [
      "x: -8446744073709551616 & type: Int64\n",
      "x2: 10000000000000000000 & type: BigInt\n"
     ]
    }
   ],
   "source": [
    "x = 10^19  # Dépasse typemax(Int64) - result in wraparound behavior\n",
    "x2 = big(10)^19\n",
    "\n",
    "println(\"x: $(x) & type: $(typeof(x))\\nx2: $(x2) & type: $(typeof(x2))\")"
   ]
  },
  {
   "cell_type": "markdown",
   "metadata": {},
   "source": [
    "<br>"
   ]
  },
  {
   "cell_type": "markdown",
   "metadata": {},
   "source": [
    "### Elementary mathemactical functions and operations"
   ]
  },
  {
   "cell_type": "code",
   "execution_count": 6,
   "metadata": {},
   "outputs": [
    {
     "name": "stdout",
     "output_type": "stream",
     "text": [
      "-8446744073709551614, 9999999999999999997, 0.25"
     ]
    }
   ],
   "source": [
    "x += 2; x2 -= 3; x3 /= 2;\n",
    "print(\"$(x), $(x2), $(x3)\")"
   ]
  },
  {
   "cell_type": "code",
   "execution_count": 7,
   "metadata": {},
   "outputs": [
    {
     "ename": "LoadError",
     "evalue": "syntax: incomplete: premature end of input",
     "output_type": "error",
     "traceback": [
      "syntax: incomplete: premature end of input",
      ""
     ]
    }
   ],
   "source": [
    "x++  # doesn't exist in julia"
   ]
  },
  {
   "cell_type": "markdown",
   "metadata": {},
   "source": [
    "<br>"
   ]
  },
  {
   "cell_type": "markdown",
   "metadata": {},
   "source": [
    "### String"
   ]
  },
  {
   "cell_type": "code",
   "execution_count": 8,
   "metadata": {},
   "outputs": [
    {
     "name": "stdout",
     "output_type": "stream",
     "text": [
      "Start Jul & End lia\n"
     ]
    }
   ],
   "source": [
    "s = \"Julia\"\n",
    "\n",
    "s_start = s[1:3]  # \"quivalent de s[begin:3]\n",
    "s_end = s[3:end]\n",
    "\n",
    "println(\"Start $(s_start) & End $(s_end)\")"
   ]
  },
  {
   "cell_type": "code",
   "execution_count": 9,
   "metadata": {},
   "outputs": [
    {
     "name": "stdout",
     "output_type": "stream",
     "text": [
      "Start Jul & End ia!\n"
     ]
    }
   ],
   "source": [
    "python\"\"\"\n",
    "s = \"Julia!\"\n",
    "s_start, s_end = s[:3], s[3:]\n",
    "\n",
    "print(\"Start {} & End {}\".format(s_start, s_end))\n",
    "\"\"\""
   ]
  },
  {
   "cell_type": "markdown",
   "metadata": {},
   "source": [
    "<div class=\"alert alert-block alert-warning\">\n",
    "    A String \"A\" is different of Char 'A'\n",
    "</div>"
   ]
  },
  {
   "cell_type": "code",
   "execution_count": 10,
   "metadata": {},
   "outputs": [
    {
     "name": "stdout",
     "output_type": "stream",
     "text": [
      "s = A is a String, c = A is a Char & \u001b[31m\u001b[1ms == c false\u001b[22m\u001b[39m"
     ]
    }
   ],
   "source": [
    "s, c = \"A\", 'A'\n",
    "\n",
    "print(\"s = $s is a $(typeof(s)), c = $c is a $(typeof(c)) & \")\n",
    "printstyled(\"s == c $(s == c)\", color=:red, bold=:true)"
   ]
  },
  {
   "cell_type": "markdown",
   "metadata": {},
   "source": [
    "- \\$s inside a string is replaced byt the value of s - soit A\n",
    "- \\$(s == c) inside a string is replaced by its computed value - soit false\n",
    "\n",
    "<br>\n",
    "\n",
    "> Concatenation des string"
   ]
  },
  {
   "cell_type": "code",
   "execution_count": 11,
   "metadata": {},
   "outputs": [
    {
     "name": "stdout",
     "output_type": "stream",
     "text": [
      "s: hello world, s2: hello world & s3: hello world with Julia"
     ]
    }
   ],
   "source": [
    "s = \"hello\" * \" world\"\n",
    "s2 = string(\"hello\", \" world\")\n",
    "s3 = string(s, \" with Julia\")\n",
    "\n",
    "print(\"s: $s, s2: $s2 & s3: $s3\")"
   ]
  },
  {
   "cell_type": "code",
   "execution_count": 12,
   "metadata": {},
   "outputs": [
    {
     "name": "stdout",
     "output_type": "stream",
     "text": [
      "s: abcdef\n"
     ]
    }
   ],
   "source": [
    "python\"\"\"\n",
    "s = \"abc\" + \"def\"\n",
    "print(\"s: {}\".format(s))\n",
    "\"\"\""
   ]
  },
  {
   "cell_type": "markdown",
   "metadata": {},
   "source": [
    "<br>"
   ]
  },
  {
   "cell_type": "markdown",
   "metadata": {},
   "source": [
    "> Replace"
   ]
  },
  {
   "cell_type": "code",
   "execution_count": 13,
   "metadata": {},
   "outputs": [
    {
     "name": "stdout",
     "output_type": "stream",
     "text": [
      "s (replace): Jolia"
     ]
    }
   ],
   "source": [
    "s = \"Julia\"\n",
    "s = replace(s, \"u\" => \"o\")\n",
    "print(\"s (replace): $s\")"
   ]
  },
  {
   "cell_type": "code",
   "execution_count": 14,
   "metadata": {},
   "outputs": [
    {
     "name": "stdout",
     "output_type": "stream",
     "text": [
      "s (replace): Jolia\n"
     ]
    }
   ],
   "source": [
    "python\"\"\"\n",
    "s = \"Julia\"\n",
    "s = s.replace(\"u\", \"o\")\n",
    "print(\"s (replace): {}\".format(s))\n",
    "\"\"\""
   ]
  },
  {
   "cell_type": "markdown",
   "metadata": {},
   "source": [
    "<br>"
   ]
  },
  {
   "cell_type": "markdown",
   "metadata": {},
   "source": [
    "> Split"
   ]
  },
  {
   "cell_type": "code",
   "execution_count": 15,
   "metadata": {},
   "outputs": [
    {
     "name": "stdout",
     "output_type": "stream",
     "text": [
      "s (split): SubString{String}[\"hello\", \"world\"]"
     ]
    }
   ],
   "source": [
    "s = \"hello world\"\n",
    "s = split(s, \" \")  # return an array of String\n",
    "print(\"s (split): $s\")"
   ]
  },
  {
   "cell_type": "code",
   "execution_count": 16,
   "metadata": {},
   "outputs": [
    {
     "name": "stdout",
     "output_type": "stream",
     "text": [
      "s (split): ['hello', 'world']\n"
     ]
    }
   ],
   "source": [
    "python\"\"\"\n",
    "s = \"hello world\"\n",
    "s = s.split(\" \")\n",
    "print(\"s (split): {}\".format(s))\n",
    "\"\"\""
   ]
  },
  {
   "cell_type": "markdown",
   "metadata": {},
   "source": [
    "<br>"
   ]
  },
  {
   "cell_type": "markdown",
   "metadata": {},
   "source": [
    "> Substring"
   ]
  },
  {
   "cell_type": "code",
   "execution_count": 17,
   "metadata": {},
   "outputs": [
    {
     "name": "stdout",
     "output_type": "stream",
     "text": [
      "Soit s = hello world, les 5 1er éléments sont hello & les 5 derniers world"
     ]
    }
   ],
   "source": [
    "s = \"hello world\"\n",
    "debut = SubString(s, 1, 5)\n",
    "fin = SubString(s, 7)  # ou SubString(s, 7, length(s))\n",
    "\n",
    "print(\"Soit s = $s, les 5 1er éléments sont $debut & les 5 derniers $fin\")"
   ]
  },
  {
   "cell_type": "markdown",
   "metadata": {},
   "source": [
    "<br>"
   ]
  },
  {
   "cell_type": "markdown",
   "metadata": {},
   "source": [
    "> Useful functions\n",
    "\n",
    "- Indices d'un mot donné **j** dans s - renvoie seulement l'indice de la 1ère occurrence de ce mot"
   ]
  },
  {
   "cell_type": "code",
   "execution_count": 18,
   "metadata": {},
   "outputs": [
    {
     "name": "stdout",
     "output_type": "stream",
     "text": [
      "Indice de hello 1:5 & de Julia nothing dans hello world"
     ]
    }
   ],
   "source": [
    "index = findfirst(\"hello\", s)\n",
    "index2 = findfirst(\"Julia\", s)  # Renvoie nothing car n'existe pas\n",
    "\n",
    "print(\"Indice de hello $index & de Julia $index2 dans $s\")"
   ]
  },
  {
   "cell_type": "markdown",
   "metadata": {},
   "source": [
    "- Détermine si un mot donné **j** apparaît au moins une fois dans s"
   ]
  },
  {
   "cell_type": "code",
   "execution_count": 19,
   "metadata": {},
   "outputs": [
    {
     "data": {
      "text/plain": [
       "true"
      ]
     },
     "execution_count": 19,
     "metadata": {},
     "output_type": "execute_result"
    }
   ],
   "source": [
    "occursin(\"hello\", s)"
   ]
  },
  {
   "cell_type": "code",
   "execution_count": 20,
   "metadata": {},
   "outputs": [
    {
     "data": {
      "text/plain": [
       "false"
      ]
     },
     "execution_count": 20,
     "metadata": {},
     "output_type": "execute_result"
    }
   ],
   "source": [
    "occursin(\"Julia\", s)"
   ]
  },
  {
   "cell_type": "markdown",
   "metadata": {},
   "source": [
    "- Reverse & uppercase"
   ]
  },
  {
   "cell_type": "code",
   "execution_count": 21,
   "metadata": {},
   "outputs": [
    {
     "name": "stdout",
     "output_type": "stream",
     "text": [
      "dlrow olleh\n",
      "HELLO WORLD\n"
     ]
    }
   ],
   "source": [
    "println(reverse(s))\n",
    "println(uppercase(s))"
   ]
  },
  {
   "cell_type": "markdown",
   "metadata": {},
   "source": [
    "> Endswith"
   ]
  },
  {
   "cell_type": "code",
   "execution_count": 22,
   "metadata": {},
   "outputs": [
    {
     "name": "stdout",
     "output_type": "stream",
     "text": [
      "yersinia.fasta est un fichier fasta"
     ]
    }
   ],
   "source": [
    "s = \"yersinia.fasta\"\n",
    "\n",
    "if endswith(s, \".fasta\")\n",
    "    print(\"$s est un fichier fasta\")\n",
    "end"
   ]
  },
  {
   "cell_type": "code",
   "execution_count": 23,
   "metadata": {},
   "outputs": [
    {
     "name": "stdout",
     "output_type": "stream",
     "text": [
      "yersinia.fasta est un fichier fasta\n"
     ]
    }
   ],
   "source": [
    "python\"\"\"\n",
    "s = \"yersinia.fasta\"\n",
    "if s.endswith(\".fasta\"):\n",
    "    print(\"{} est un fichier fasta\".format(s))\n",
    "\"\"\""
   ]
  },
  {
   "cell_type": "markdown",
   "metadata": {},
   "source": [
    "<br>"
   ]
  },
  {
   "cell_type": "markdown",
   "metadata": {},
   "source": [
    "### Formatting numbers and strings"
   ]
  },
  {
   "cell_type": "code",
   "execution_count": 24,
   "metadata": {},
   "outputs": [
    {
     "name": "stdout",
     "output_type": "stream",
     "text": [
      "7\n",
      "3.141593\n",
      "3.14"
     ]
    }
   ],
   "source": [
    "using Printf\n",
    "\n",
    "@printf(\"%d\\n\", 7)\n",
    "@printf(\"%f\\n\", pi)\n",
    "@printf(\"%0.2f\", pi)  # round"
   ]
  },
  {
   "cell_type": "code",
   "execution_count": 25,
   "metadata": {},
   "outputs": [
    {
     "name": "stdout",
     "output_type": "stream",
     "text": [
      "3.141592653589793\n",
      "3.14\n"
     ]
    }
   ],
   "source": [
    "python\"\"\"\n",
    "import math\n",
    "print(\"{}\".format(math.pi))\n",
    "print(\"{:.2f}\".format(math.pi))  # round\n",
    "\"\"\""
   ]
  },
  {
   "cell_type": "markdown",
   "metadata": {},
   "source": [
    "<br>"
   ]
  },
  {
   "cell_type": "markdown",
   "metadata": {},
   "source": [
    "### Ranges and array"
   ]
  },
  {
   "cell_type": "code",
   "execution_count": 26,
   "metadata": {},
   "outputs": [
    {
     "name": "stdout",
     "output_type": "stream",
     "text": [
      "1 2 3 4 5 \n",
      "1 3 5 "
     ]
    }
   ],
   "source": [
    "for i in 1:5  # de 1 à 5 (inclus) par pas de 1 - défaut\n",
    "    print(\"$i \")\n",
    "end\n",
    "println()\n",
    "\n",
    "for i in 1:2:5  # de 1 à 5 (inclus) par pas de 2\n",
    "    print(\"$i \")\n",
    "end"
   ]
  },
  {
   "cell_type": "code",
   "execution_count": 27,
   "metadata": {},
   "outputs": [
    {
     "name": "stdout",
     "output_type": "stream",
     "text": [
      "1 2 3 4 5 \n",
      "1 3 5 "
     ]
    }
   ],
   "source": [
    "python\"\"\"\n",
    "for i in range(1, 6):  # de 1 à 6 (exclus) par pas de 1 - défaut\n",
    "    print(\"{} \".format(i), end=\"\")\n",
    "print()\n",
    "\n",
    "for i in range(1, 6, 2):  # de 1 à 6 (exclus) par pas de 2\n",
    "    print(\"{} \".format(i), end=\"\")\n",
    "\"\"\""
   ]
  },
  {
   "cell_type": "markdown",
   "metadata": {},
   "source": [
    "<br>\n",
    "\n",
    "> Set up a macro range to have a python like syntax"
   ]
  },
  {
   "cell_type": "code",
   "execution_count": 28,
   "metadata": {},
   "outputs": [
    {
     "data": {
      "text/plain": [
       "@range (macro with 1 method)"
      ]
     },
     "execution_count": 28,
     "metadata": {},
     "output_type": "execute_result"
    }
   ],
   "source": [
    "macro range(debut, fin, args...)\n",
    "    if isempty(args)\n",
    "        return debut:fin\n",
    "    end\n",
    "    return debut:args[1]:fin\n",
    "end"
   ]
  },
  {
   "cell_type": "code",
   "execution_count": 29,
   "metadata": {},
   "outputs": [
    {
     "name": "stdout",
     "output_type": "stream",
     "text": [
      "1 2 3 4 5 \n",
      "1 3 5 "
     ]
    }
   ],
   "source": [
    "for i in @range(1, 5)  # de 1 à 5 (inclus) par pas de 1 - défaut\n",
    "    print(\"$i \")\n",
    "end\n",
    "println()\n",
    "\n",
    "for i in @range(1, 5, 2)  # de 1 à 5 (inclus) par pas de 2\n",
    "    print(\"$i \")\n",
    "end"
   ]
  },
  {
   "cell_type": "markdown",
   "metadata": {},
   "source": [
    "<br>"
   ]
  },
  {
   "cell_type": "markdown",
   "metadata": {},
   "source": [
    "> Vector - 1 dimensional array"
   ]
  },
  {
   "cell_type": "code",
   "execution_count": 30,
   "metadata": {},
   "outputs": [
    {
     "name": "stdout",
     "output_type": "stream",
     "text": [
      "[100, 25, 37]"
     ]
    }
   ],
   "source": [
    "arr = [100, 25, 37]  # array de int\n",
    "show(arr)"
   ]
  },
  {
   "cell_type": "code",
   "execution_count": 31,
   "metadata": {},
   "outputs": [
    {
     "name": "stdout",
     "output_type": "stream",
     "text": [
      "Any[100, 0.5, \"Julia\"]"
     ]
    }
   ],
   "source": [
    "arr = Any[100, 0.5, \"Julia\"]  # array de type any\n",
    "show(arr)"
   ]
  },
  {
   "cell_type": "markdown",
   "metadata": {},
   "source": [
    "<div class=\"alert alert-block alert-warning\">\n",
    "    The index starts from 1 in julia\n",
    "</div>"
   ]
  },
  {
   "cell_type": "code",
   "execution_count": 32,
   "metadata": {},
   "outputs": [
    {
     "name": "stdout",
     "output_type": "stream",
     "text": [
      "[139894678938880, 0]"
     ]
    }
   ],
   "source": [
    "arr = Array{Int64}(undef, 2)  # array of random int\n",
    "show(arr)"
   ]
  },
  {
   "cell_type": "markdown",
   "metadata": {},
   "source": [
    "<br>"
   ]
  },
  {
   "cell_type": "markdown",
   "metadata": {},
   "source": [
    "> Push"
   ]
  },
  {
   "cell_type": "code",
   "execution_count": 33,
   "metadata": {},
   "outputs": [
    {
     "name": "stdout",
     "output_type": "stream",
     "text": [
      "[66]"
     ]
    }
   ],
   "source": [
    "arr = Int64[]\n",
    "push!(arr, 66)\n",
    "show(arr)"
   ]
  },
  {
   "cell_type": "code",
   "execution_count": 34,
   "metadata": {},
   "outputs": [
    {
     "name": "stdout",
     "output_type": "stream",
     "text": [
      "[66]\n"
     ]
    }
   ],
   "source": [
    "python\"\"\"\n",
    "l = []\n",
    "l.append(66)\n",
    "print(l)\n",
    "\"\"\""
   ]
  },
  {
   "cell_type": "markdown",
   "metadata": {},
   "source": [
    "<br>"
   ]
  },
  {
   "cell_type": "markdown",
   "metadata": {},
   "source": [
    "> Pop - remove le dernier élément"
   ]
  },
  {
   "cell_type": "code",
   "execution_count": 35,
   "metadata": {},
   "outputs": [
    {
     "name": "stdout",
     "output_type": "stream",
     "text": [
      "Int64[]"
     ]
    }
   ],
   "source": [
    "pop!(arr)\n",
    "show(arr)"
   ]
  },
  {
   "cell_type": "code",
   "execution_count": 36,
   "metadata": {},
   "outputs": [
    {
     "name": "stdout",
     "output_type": "stream",
     "text": [
      "[]\n"
     ]
    }
   ],
   "source": [
    "python\"\"\"\n",
    "l = [66]\n",
    "print(l[:-1])\n",
    "\"\"\""
   ]
  },
  {
   "cell_type": "markdown",
   "metadata": {},
   "source": [
    "<br>"
   ]
  },
  {
   "cell_type": "markdown",
   "metadata": {},
   "source": [
    "> Initialize an array from a range"
   ]
  },
  {
   "cell_type": "code",
   "execution_count": 37,
   "metadata": {},
   "outputs": [
    {
     "name": "stdout",
     "output_type": "stream",
     "text": [
      "[1, 2, 3, 4, 5, 6, 7]"
     ]
    }
   ],
   "source": [
    "arr = collect(1:7)\n",
    "show(arr)"
   ]
  },
  {
   "cell_type": "code",
   "execution_count": 38,
   "metadata": {},
   "outputs": [
    {
     "name": "stdout",
     "output_type": "stream",
     "text": [
      "[1, 2, 3, 4, 5, 6, 7]\n"
     ]
    }
   ],
   "source": [
    "python\"\"\"\n",
    "l = list(range(1,8))\n",
    "print(l)\n",
    "\"\"\""
   ]
  },
  {
   "cell_type": "markdown",
   "metadata": {},
   "source": [
    "<br>"
   ]
  },
  {
   "cell_type": "code",
   "execution_count": 39,
   "metadata": {},
   "outputs": [
    {
     "data": {
      "text/plain": [
       "@collect (macro with 1 method)"
      ]
     },
     "execution_count": 39,
     "metadata": {},
     "output_type": "execute_result"
    }
   ],
   "source": [
    "macro collect(debut, fin, args...)\n",
    "    if isempty(args)\n",
    "        return collect(debut:fin-1)\n",
    "    end\n",
    "    return collect(debut:args[1]:fin-1)\n",
    "end"
   ]
  },
  {
   "cell_type": "code",
   "execution_count": 40,
   "metadata": {},
   "outputs": [
    {
     "data": {
      "text/plain": [
       "([1, 2, 3, 4, 5, 6, 7], [1, 3, 5, 7])"
      ]
     },
     "execution_count": 40,
     "metadata": {},
     "output_type": "execute_result"
    }
   ],
   "source": [
    "arr, arr2 = @collect(1,8), @collect(1, 8, 2)"
   ]
  },
  {
   "cell_type": "markdown",
   "metadata": {},
   "source": [
    "<br>"
   ]
  },
  {
   "cell_type": "markdown",
   "metadata": {},
   "source": [
    "> Access element by index"
   ]
  },
  {
   "cell_type": "code",
   "execution_count": 41,
   "metadata": {},
   "outputs": [
    {
     "name": "stdout",
     "output_type": "stream",
     "text": [
      "1er élément vaut 1 & dernier vaut 7"
     ]
    }
   ],
   "source": [
    "debut, fin = arr[1], arr[end]  # arr[begin] équivalent à arr[1]\n",
    "print(\"1er élément vaut $debut & dernier vaut $fin\")"
   ]
  },
  {
   "cell_type": "code",
   "execution_count": 42,
   "metadata": {},
   "outputs": [
    {
     "name": "stdout",
     "output_type": "stream",
     "text": [
      "1er élément vaut 1 & dernier vaut 7\n"
     ]
    }
   ],
   "source": [
    "python\"\"\"\n",
    "l = list(range(1,8))\n",
    "debut, fin = l[0], l[-1]\n",
    "print(\"1er élément vaut {} & dernier vaut {}\".format(debut, fin))\n",
    "\"\"\""
   ]
  },
  {
   "cell_type": "markdown",
   "metadata": {},
   "source": [
    "<br>"
   ]
  },
  {
   "cell_type": "markdown",
   "metadata": {},
   "source": [
    "> Fonctions importantes"
   ]
  },
  {
   "cell_type": "code",
   "execution_count": 43,
   "metadata": {},
   "outputs": [
    {
     "name": "stdout",
     "output_type": "stream",
     "text": [
      "Type Int64 \n",
      "Taille 7 \n",
      "Dimension 1"
     ]
    }
   ],
   "source": [
    "arr_type, arr_dim, arr_len = eltype(arr), ndims(arr), length(arr)\n",
    "\n",
    "print(\"Type $arr_type \\nTaille $arr_len \\nDimension $arr_dim\")"
   ]
  },
  {
   "cell_type": "markdown",
   "metadata": {},
   "source": [
    "<br>"
   ]
  },
  {
   "cell_type": "markdown",
   "metadata": {},
   "source": [
    "> Join méthode"
   ]
  },
  {
   "cell_type": "code",
   "execution_count": 44,
   "metadata": {},
   "outputs": [
    {
     "data": {
      "text/plain": [
       "\"1 2 3 4 5 6 7\""
      ]
     },
     "execution_count": 44,
     "metadata": {},
     "output_type": "execute_result"
    }
   ],
   "source": [
    "arr_s = join(arr, \" \")\n",
    "arr_s"
   ]
  },
  {
   "cell_type": "markdown",
   "metadata": {},
   "source": [
    "Python ne permet pas de join une liste de integer, il faut au préalable convertir chaque élément en string "
   ]
  },
  {
   "cell_type": "code",
   "execution_count": 45,
   "metadata": {},
   "outputs": [
    {
     "name": "stdout",
     "output_type": "stream",
     "text": [
      "1 2 3 4 5 6 7\n"
     ]
    }
   ],
   "source": [
    "python\"\"\"\n",
    "l = list(range(1,8))\n",
    "l = \" \".join(str(ele) for ele in l)\n",
    "print(\"{}\".format(l))\n",
    "\"\"\""
   ]
  },
  {
   "cell_type": "markdown",
   "metadata": {},
   "source": [
    "<br>"
   ]
  },
  {
   "cell_type": "markdown",
   "metadata": {},
   "source": [
    "> Some common functions fo arrays"
   ]
  },
  {
   "cell_type": "markdown",
   "metadata": {},
   "source": [
    "- Concatenate "
   ]
  },
  {
   "cell_type": "code",
   "execution_count": 46,
   "metadata": {},
   "outputs": [
    {
     "name": "stdout",
     "output_type": "stream",
     "text": [
      "[1, 7, 100, 200, 300]"
     ]
    }
   ],
   "source": [
    "a, b = [1, 7], [100, 200, 300]\n",
    "append!(a, b)\n",
    "show(a)"
   ]
  },
  {
   "cell_type": "markdown",
   "metadata": {},
   "source": [
    "- Remove an element of index i"
   ]
  },
  {
   "cell_type": "code",
   "execution_count": 47,
   "metadata": {},
   "outputs": [
    {
     "data": {
      "text/plain": [
       "(100, [1, 7, 200, 300])"
      ]
     },
     "execution_count": 47,
     "metadata": {},
     "output_type": "execute_result"
    }
   ],
   "source": [
    "supp = splice!(a, 3)\n",
    "supp, a"
   ]
  },
  {
   "cell_type": "markdown",
   "metadata": {},
   "source": [
    "- Déterminer si un array contient un élément donné"
   ]
  },
  {
   "cell_type": "code",
   "execution_count": 48,
   "metadata": {},
   "outputs": [
    {
     "data": {
      "text/plain": [
       "(true, false)"
      ]
     },
     "execution_count": 48,
     "metadata": {},
     "output_type": "execute_result"
    }
   ],
   "source": [
    "in(200, a), in(100, a)"
   ]
  },
  {
   "cell_type": "markdown",
   "metadata": {},
   "source": [
    "- Sort"
   ]
  },
  {
   "cell_type": "code",
   "execution_count": 49,
   "metadata": {},
   "outputs": [
    {
     "name": "stdout",
     "output_type": "stream",
     "text": [
      "Sorted: [16, 7, 2, 23, 2, 1]\n",
      "Sort in place: [1, 2, 2, 7, 16, 23]\n"
     ]
    }
   ],
   "source": [
    "a = [16, 7, 2, 23, 2, 1]\n",
    "\n",
    "sort(a); println(\"Sorted: $a\")  # équivalent à sorted() en python\n",
    "sort!(a); println(\"Sort in place: $a\")  # équivalent à a.sort() en python"
   ]
  },
  {
   "cell_type": "markdown",
   "metadata": {},
   "source": [
    "- Deep copy\n",
    "\n",
    "Comme en python, si on fait a = b alors a & b point le même objet en mémoire"
   ]
  },
  {
   "cell_type": "code",
   "execution_count": 50,
   "metadata": {},
   "outputs": [
    {
     "name": "stdout",
     "output_type": "stream",
     "text": [
      "a = [1, 2, 4, 6] & b = [1, 2, 4, 0]\n"
     ]
    }
   ],
   "source": [
    "a = [1,2,4,6]\n",
    "b = deepcopy(a)\n",
    "b[end] = 0\n",
    "println(\"a = $a & b = $b\")"
   ]
  },
  {
   "cell_type": "markdown",
   "metadata": {},
   "source": [
    "<br>"
   ]
  },
  {
   "cell_type": "markdown",
   "metadata": {},
   "source": [
    "###  Dates and times"
   ]
  },
  {
   "cell_type": "code",
   "execution_count": 51,
   "metadata": {},
   "outputs": [
    {
     "name": "stdout",
     "output_type": "stream",
     "text": [
      "Execution time: 0.00046706199645996094\n"
     ]
    }
   ],
   "source": [
    "start_time = time()\n",
    "println(\"Execution time: $(time()-start_time)\")"
   ]
  },
  {
   "cell_type": "markdown",
   "metadata": {},
   "source": [
    "Pour déterminer le temps d'éxécution d'un programme, la macro **elapsed** peut être utilisée de la manière suivante: **@elapsed func()**"
   ]
  },
  {
   "cell_type": "code",
   "execution_count": 52,
   "metadata": {},
   "outputs": [
    {
     "data": {
      "text/plain": [
       "11:18:10.185"
      ]
     },
     "execution_count": 52,
     "metadata": {},
     "output_type": "execute_result"
    }
   ],
   "source": [
    "import Dates\n",
    "Dates.Time(Dates.now())"
   ]
  },
  {
   "cell_type": "markdown",
   "metadata": {},
   "source": [
    "<br>"
   ]
  },
  {
   "cell_type": "markdown",
   "metadata": {},
   "source": [
    "# Functions \n",
    "\n",
    "> Multiple return values\n",
    "\n",
    "Renvoie un tuple "
   ]
  },
  {
   "cell_type": "code",
   "execution_count": 53,
   "metadata": {},
   "outputs": [
    {
     "data": {
      "text/plain": [
       "(4, 8)"
      ]
     },
     "execution_count": 53,
     "metadata": {},
     "output_type": "execute_result"
    }
   ],
   "source": [
    "function carre_cube(x)\n",
    "    return x^2, x^3\n",
    "end\n",
    "\n",
    "carre, cube = carre_cube(2)"
   ]
  },
  {
   "cell_type": "markdown",
   "metadata": {},
   "source": [
    "<br>"
   ]
  },
  {
   "cell_type": "markdown",
   "metadata": {},
   "source": [
    "> Fonction qui prend un nombre arbitraire d'arguments\n",
    "\n",
    "- x argument positionnel\n",
    "- args tuple d'arguments"
   ]
  },
  {
   "cell_type": "code",
   "execution_count": 54,
   "metadata": {},
   "outputs": [
    {
     "name": "stdout",
     "output_type": "stream",
     "text": [
      "Soit x = 2, x^2 = 4 & x^3 = 8"
     ]
    }
   ],
   "source": [
    "function power(x, args...)  # x est un argument positionel\n",
    "    if isempty(args)\n",
    "        return x^2  # par défaut détermnine le carré de x\n",
    "    end\n",
    "    return x^args[1]\n",
    "end\n",
    "\n",
    "x = 2\n",
    "carre, cube = power(x), power(x, 3)\n",
    "\n",
    "print(\"Soit x = $x, x^2 = $carre & x^3 = $cube\")"
   ]
  },
  {
   "cell_type": "markdown",
   "metadata": {},
   "source": [
    "<br>"
   ]
  },
  {
   "cell_type": "markdown",
   "metadata": {},
   "source": [
    "> Restrict the kind of parameters\n",
    "\n",
    "- x argument positionnel\n",
    "- pow argument optionnel qui par défaut vaut 2"
   ]
  },
  {
   "cell_type": "code",
   "execution_count": 55,
   "metadata": {},
   "outputs": [
    {
     "name": "stdout",
     "output_type": "stream",
     "text": [
      "Soit x = 2, x^2 = 4 & x^3 = 8\n"
     ]
    }
   ],
   "source": [
    "function power_integer(x::Int, pow::Int=2)  # x & pow doivent être des Int & par défaut pow = 2\n",
    "    return x^pow\n",
    "end\n",
    "\n",
    "x = 2\n",
    "carre, cube = power_integer(x), power_integer(x, 3)\n",
    "\n",
    "println(\"Soit x = $x, x^2 = $(carre) & x^3 = $cube\")"
   ]
  },
  {
   "cell_type": "code",
   "execution_count": 56,
   "metadata": {},
   "outputs": [
    {
     "ename": "MethodError",
     "evalue": "MethodError: no method matching power_integer(::Int64, ::Float64)\nClosest candidates are:\n  power_integer(::Int64, !Matched::Int64) at In[55]:2\n  power_integer(::Int64) at In[55]:2",
     "output_type": "error",
     "traceback": [
      "MethodError: no method matching power_integer(::Int64, ::Float64)\nClosest candidates are:\n  power_integer(::Int64, !Matched::Int64) at In[55]:2\n  power_integer(::Int64) at In[55]:2",
      "",
      "Stacktrace:",
      " [1] top-level scope at In[56]:1"
     ]
    }
   ],
   "source": [
    "power_integer(x, 4.5)"
   ]
  },
  {
   "cell_type": "markdown",
   "metadata": {},
   "source": [
    "<br>"
   ]
  },
  {
   "cell_type": "markdown",
   "metadata": {},
   "source": [
    "> One-line function - compact syntax"
   ]
  },
  {
   "cell_type": "code",
   "execution_count": 57,
   "metadata": {},
   "outputs": [
    {
     "name": "stdout",
     "output_type": "stream",
     "text": [
      "Soit x = 2, x^2 = 4 & x^3 = 8\n"
     ]
    }
   ],
   "source": [
    "power_integer(x::Int, pow::Int=2) = x^pow\n",
    "\n",
    "carre, cube = power_integer(x), power_integer(x, 3)\n",
    "println(\"Soit x = $x, x^2 = $(carre) & x^3 = $cube\")"
   ]
  },
  {
   "cell_type": "markdown",
   "metadata": {},
   "source": [
    "<br>"
   ]
  },
  {
   "cell_type": "markdown",
   "metadata": {},
   "source": [
    "> Map, filter and list comprehensions\n",
    "\n",
    "- map(func, coll)\n",
    "\n",
    "Soit **func** une fonction (souvent anonyme) appliquée successivement à chaque élément de la collection **coll**"
   ]
  },
  {
   "cell_type": "code",
   "execution_count": 58,
   "metadata": {},
   "outputs": [
    {
     "name": "stdout",
     "output_type": "stream",
     "text": [
      "Soit l = [1, 2, 3] & dix = [10, 20, 30]"
     ]
    }
   ],
   "source": [
    "l = [1, 2, 3]\n",
    "l2 = map(x -> x*10, l)\n",
    "\n",
    "print(\"Soit l = $l & dix = $l2\")"
   ]
  },
  {
   "cell_type": "code",
   "execution_count": 59,
   "metadata": {},
   "outputs": [
    {
     "name": "stdout",
     "output_type": "stream",
     "text": [
      "Soit l = [-5, -2, 1, 4, 7, 10, 13] & cubes = [-125, -8, 1, 64, 343, 1000, 2197]"
     ]
    }
   ],
   "source": [
    "l = @collect(-5, 15, 3)\n",
    "cubes = map(x -> power(x, 3), l)\n",
    "\n",
    "print(\"Soit l = $l & cubes = $cubes\")"
   ]
  },
  {
   "cell_type": "markdown",
   "metadata": {},
   "source": [
    "- filter(func, coll)\n",
    "\n",
    "Soit **func** une fonction booléenne (souvent anonyme) qui est contrôlée sur chaque élément de la collection **coll**"
   ]
  },
  {
   "cell_type": "code",
   "execution_count": 60,
   "metadata": {},
   "outputs": [
    {
     "name": "stdout",
     "output_type": "stream",
     "text": [
      "Les éléments paires de [-1, 0, 1, 2, 3, 4, 5, 6] sont [0, 2, 4, 6]"
     ]
    }
   ],
   "source": [
    "l = @collect(-1, 7)\n",
    "even = filter(n -> iseven(n), l)\n",
    "\n",
    "print(\"Les éléments paires de $l sont $even\")"
   ]
  },
  {
   "cell_type": "markdown",
   "metadata": {},
   "source": [
    "- List comprehension - comme en python"
   ]
  },
  {
   "cell_type": "code",
   "execution_count": 61,
   "metadata": {},
   "outputs": [
    {
     "name": "stdout",
     "output_type": "stream",
     "text": [
      "Liste de carrés: [25, 4, 1, 16, 49, 100, 169] & liste de cubes: [-125, -8, 1, 64, 343, 1000, 2197]"
     ]
    }
   ],
   "source": [
    "carre = [power(x, 2) for x in @collect(-5, 15, 3)]\n",
    "cubes = [power(x, 3) for x in @collect(-5, 15, 3)]\n",
    "\n",
    "print(\"Liste de carrés: $carre & liste de cubes: $cubes\")"
   ]
  },
  {
   "cell_type": "markdown",
   "metadata": {},
   "source": [
    "<br>"
   ]
  },
  {
   "cell_type": "markdown",
   "metadata": {},
   "source": [
    "# Control flow"
   ]
  },
  {
   "cell_type": "markdown",
   "metadata": {},
   "source": [
    "> Try catch exceptions"
   ]
  },
  {
   "cell_type": "code",
   "execution_count": 62,
   "metadata": {},
   "outputs": [
    {
     "name": "stdout",
     "output_type": "stream",
     "text": [
      "ArgumentError\n",
      "ArgumentError: array must be non-empty"
     ]
    }
   ],
   "source": [
    "l = []\n",
    "try\n",
    "    pop!(l)\n",
    "catch ex\n",
    "    println(typeof(ex)) \n",
    "    showerror(stdout, ex)\n",
    "end"
   ]
  },
  {
   "cell_type": "code",
   "execution_count": 63,
   "metadata": {},
   "outputs": [
    {
     "name": "stdout",
     "output_type": "stream",
     "text": [
      "Liste vide\n"
     ]
    }
   ],
   "source": [
    "python\"\"\"\n",
    "l = []\n",
    "try:\n",
    "    l[-1]\n",
    "except:\n",
    "    print(\"Liste vide\")\n",
    "\"\"\""
   ]
  },
  {
   "cell_type": "markdown",
   "metadata": {},
   "source": [
    "<br>"
   ]
  },
  {
   "cell_type": "code",
   "execution_count": 64,
   "metadata": {},
   "outputs": [
    {
     "ename": "UndefVarError",
     "evalue": "UndefVarError: collects not defined",
     "output_type": "error",
     "traceback": [
      "UndefVarError: collects not defined",
      "",
      "Stacktrace:",
      " [1] top-level scope at In[64]:1"
     ]
    }
   ],
   "source": [
    "arr = collects(1, 4)\n",
    "\n",
    "for index in 1:length(arr)\n",
    "    println(\"$index: $(arr[index])\")\n",
    "end"
   ]
  },
  {
   "cell_type": "markdown",
   "metadata": {},
   "source": [
    "<br>"
   ]
  },
  {
   "cell_type": "markdown",
   "metadata": {},
   "source": [
    "# Collection types\n",
    "\n",
    "> Matrices\n",
    "\n",
    "- Matrice de taille (2,2)"
   ]
  },
  {
   "cell_type": "code",
   "execution_count": 65,
   "metadata": {},
   "outputs": [
    {
     "data": {
      "text/plain": [
       "2×2 Array{Int64,2}:\n",
       " 1  2\n",
       " 3  4"
      ]
     },
     "execution_count": 65,
     "metadata": {},
     "output_type": "execute_result"
    }
   ],
   "source": [
    "m = [1 2; 3 4]"
   ]
  },
  {
   "cell_type": "markdown",
   "metadata": {},
   "source": [
    "<br>"
   ]
  },
  {
   "cell_type": "markdown",
   "metadata": {},
   "source": [
    "- Matrice de taille (2,5) - constituée de nombre aléatoire entre 0 et 1"
   ]
  },
  {
   "cell_type": "code",
   "execution_count": 66,
   "metadata": {},
   "outputs": [
    {
     "data": {
      "text/plain": [
       "2×5 Array{Float64,2}:\n",
       " 0.876513  0.620226  0.581173  0.0646553  0.0117981\n",
       " 0.127204  0.296147  0.345445  0.146581   0.943248"
      ]
     },
     "execution_count": 66,
     "metadata": {},
     "output_type": "execute_result"
    }
   ],
   "source": [
    " m = rand(2, 5)"
   ]
  },
  {
   "cell_type": "markdown",
   "metadata": {},
   "source": [
    "<br>"
   ]
  },
  {
   "cell_type": "markdown",
   "metadata": {},
   "source": [
    "- Nb dimensions, rows & col"
   ]
  },
  {
   "cell_type": "code",
   "execution_count": 67,
   "metadata": {},
   "outputs": [
    {
     "name": "stdout",
     "output_type": "stream",
     "text": [
      "m est une matrice à 2 dimensions avec 2 lignes & 5 colonnes"
     ]
    }
   ],
   "source": [
    "dim = ndims(m)\n",
    "nrows, ncols = size(m)  # nrows = size(m, 1) & ncols = size(m, 2) \n",
    "\n",
    "print(\"m est une matrice à $dim dimensions avec $nrows lignes & $ncols colonnes\")"
   ]
  },
  {
   "cell_type": "markdown",
   "metadata": {},
   "source": [
    "<br>"
   ]
  },
  {
   "cell_type": "markdown",
   "metadata": {},
   "source": [
    "- Slices\n",
    "\n",
    "Sélectionner la 2ème colonne"
   ]
  },
  {
   "cell_type": "code",
   "execution_count": 68,
   "metadata": {},
   "outputs": [],
   "source": [
    "col2 = m[:, 2];  # m[1:end, 2]"
   ]
  },
  {
   "cell_type": "markdown",
   "metadata": {},
   "source": [
    "Sélectionner la 2ème ligne"
   ]
  },
  {
   "cell_type": "code",
   "execution_count": 69,
   "metadata": {},
   "outputs": [],
   "source": [
    "row2 = m[2, :];"
   ]
  },
  {
   "cell_type": "markdown",
   "metadata": {},
   "source": [
    "Affecter 0 à tous les éléments de la 2ème ligne"
   ]
  },
  {
   "cell_type": "code",
   "execution_count": 70,
   "metadata": {},
   "outputs": [
    {
     "data": {
      "text/plain": [
       "2×5 Array{Float64,2}:\n",
       " 0.876513  0.620226  0.581173  0.0646553  0.0117981\n",
       " 0.0       0.0       0.0       0.0        0.0"
      ]
     },
     "execution_count": 70,
     "metadata": {},
     "output_type": "execute_result"
    }
   ],
   "source": [
    "m[2, :] .= 0  # m[2, :] = [0 0 0 0 0]\n",
    "m"
   ]
  },
  {
   "cell_type": "markdown",
   "metadata": {},
   "source": [
    "Matrice transposée **m'** de **m**"
   ]
  },
  {
   "cell_type": "code",
   "execution_count": 71,
   "metadata": {},
   "outputs": [
    {
     "data": {
      "text/plain": [
       "2×2 LinearAlgebra.Adjoint{Int64,Array{Int64,2}}:\n",
       " 1  3\n",
       " 2  4"
      ]
     },
     "execution_count": 71,
     "metadata": {},
     "output_type": "execute_result"
    }
   ],
   "source": [
    "m = [1 2; 3 4]\n",
    "m'"
   ]
  },
  {
   "cell_type": "markdown",
   "metadata": {},
   "source": [
    "<br>"
   ]
  },
  {
   "cell_type": "markdown",
   "metadata": {},
   "source": [
    "- Concatenation"
   ]
  },
  {
   "cell_type": "code",
   "execution_count": 72,
   "metadata": {},
   "outputs": [
    {
     "data": {
      "text/plain": [
       "([1 2; 3 4], [5 6; 7 8])"
      ]
     },
     "execution_count": 72,
     "metadata": {},
     "output_type": "execute_result"
    }
   ],
   "source": [
    "a, b = [1 2; 3 4], [5 6; 7 8]"
   ]
  },
  {
   "cell_type": "markdown",
   "metadata": {},
   "source": [
    "Horizontal concatenation - concatenation along the 2nd dimension (columns)"
   ]
  },
  {
   "cell_type": "code",
   "execution_count": 73,
   "metadata": {},
   "outputs": [
    {
     "data": {
      "text/plain": [
       "2×4 Array{Int64,2}:\n",
       " 1  2  5  6\n",
       " 3  4  7  8"
      ]
     },
     "execution_count": 73,
     "metadata": {},
     "output_type": "execute_result"
    }
   ],
   "source": [
    "c = hcat(a, b)  # c = [a b]"
   ]
  },
  {
   "cell_type": "markdown",
   "metadata": {},
   "source": [
    "Vertical concatenation - concatenation along the first dimension (rows)"
   ]
  },
  {
   "cell_type": "code",
   "execution_count": 74,
   "metadata": {},
   "outputs": [
    {
     "data": {
      "text/plain": [
       "4×2 Array{Int64,2}:\n",
       " 1  2\n",
       " 3  4\n",
       " 5  6\n",
       " 7  8"
      ]
     },
     "execution_count": 74,
     "metadata": {},
     "output_type": "execute_result"
    }
   ],
   "source": [
    "c = vcat(a, b)  # c = [a; b]"
   ]
  },
  {
   "cell_type": "markdown",
   "metadata": {},
   "source": [
    "<br>"
   ]
  },
  {
   "cell_type": "markdown",
   "metadata": {},
   "source": [
    "> Tuples"
   ]
  },
  {
   "cell_type": "code",
   "execution_count": 75,
   "metadata": {},
   "outputs": [
    {
     "name": "stdout",
     "output_type": "stream",
     "text": [
      "x = (1, 2, 3) - Tuple{Int64,Int64,Int64} & x2 = (1, \"a\", 0.5) - Tuple{Int64,String,Float64}"
     ]
    }
   ],
   "source": [
    "x, x2 = (1, 2, 3), (1, \"a\", 0.5)\n",
    "print(\"x = $x - $(typeof(x)) & x2 = $x2 - $(typeof(x2))\")"
   ]
  },
  {
   "cell_type": "code",
   "execution_count": 76,
   "metadata": {},
   "outputs": [
    {
     "data": {
      "text/plain": [
       "('A', 'T', 'G', 'C', 'C', 'G', 'C', 'G', 'A', 'T')"
      ]
     },
     "execution_count": 76,
     "metadata": {},
     "output_type": "execute_result"
    }
   ],
   "source": [
    "seq = Tuple(\"ATGCCGCGAT\")"
   ]
  },
  {
   "cell_type": "code",
   "execution_count": 77,
   "metadata": {},
   "outputs": [
    {
     "name": "stdout",
     "output_type": "stream",
     "text": [
      "A T G C C G C G A T "
     ]
    }
   ],
   "source": [
    "for nucleotide in seq\n",
    "    print(\"$nucleotide \")\n",
    "end"
   ]
  },
  {
   "cell_type": "code",
   "execution_count": 78,
   "metadata": {},
   "outputs": [
    {
     "name": "stdout",
     "output_type": "stream",
     "text": [
      "t = (nourriture = \"tarte\", item = [\"flour\", \"salt\", \"pepper\"], salade = \"comcombre\")\n",
      "item = [\"flour\", \"salt\", \"pepper\"]"
     ]
    }
   ],
   "source": [
    "t = (nourriture=\"tarte\", item=[\"flour\", \"salt\", \"pepper\"], salade=\"comcombre\")\n",
    "\n",
    "println(\"t = $t\")\n",
    "print(\"item = $(t.item)\")"
   ]
  },
  {
   "cell_type": "markdown",
   "metadata": {},
   "source": [
    "<br>"
   ]
  },
  {
   "cell_type": "markdown",
   "metadata": {},
   "source": [
    "> Dictionaries"
   ]
  },
  {
   "cell_type": "code",
   "execution_count": 79,
   "metadata": {},
   "outputs": [
    {
     "data": {
      "text/plain": [
       "Dict{String,Any} with 3 entries:\n",
       "  \"South Africa\" => [\"Cape Town\", \"Pretoria\"]\n",
       "  \"France\"       => \"Paris\"\n",
       "  \"Russia\"       => \"Moscow\""
      ]
     },
     "execution_count": 79,
     "metadata": {},
     "output_type": "execute_result"
    }
   ],
   "source": [
    "dico = Dict(\"France\" => \"Paris\", \"Russia\" => \"Moscow\", \"South Africa\" => [\"Cape Town\", \"Pretoria\"])"
   ]
  },
  {
   "cell_type": "markdown",
   "metadata": {},
   "source": [
    "Dict{String,Any} car les clés sont toutes de type String par contres les valeurs sont de type String ou array"
   ]
  },
  {
   "cell_type": "code",
   "execution_count": 80,
   "metadata": {},
   "outputs": [
    {
     "data": {
      "text/plain": [
       "Dict{String,Any} with 3 entries:\n",
       "  \"South Africa\" => Dict(\"Administrative\"=>\"Pretoria\",\"Législative\"=>\"Cape Town…\n",
       "  \"France\"       => \"Paris\"\n",
       "  \"Russia\"       => \"Moscow\""
      ]
     },
     "execution_count": 80,
     "metadata": {},
     "output_type": "execute_result"
    }
   ],
   "source": [
    "dico2 = Dict(\n",
    "    \"France\" => \"Paris\", \"Russia\" => \"Moscow\", \n",
    "    \"South Africa\" => Dict(\"Administrative\" => \"Pretoria\", \"Législative\" => \"Cape Town\")\n",
    ")"
   ]
  },
  {
   "cell_type": "code",
   "execution_count": 81,
   "metadata": {},
   "outputs": [
    {
     "data": {
      "text/plain": [
       "Dict{String,Any} with 3 entries:\n",
       "  \"South Africa\" => Dict(\"Administrative\"=>\"Pretoria\",\"Législative\"=>\"Cape Town…\n",
       "  \"France\"       => \"Paris\"\n",
       "  \"Russia\"       => \"Moscow\""
      ]
     },
     "execution_count": 81,
     "metadata": {},
     "output_type": "execute_result"
    }
   ],
   "source": [
    "pays = [\"France\", \"Russia\", \"South Africa\"]\n",
    "capital = [\"Paris\", \"Moscow\", Dict(\"Administrative\" => \"Pretoria\", \"Législative\" => \"Cape Town\")]\n",
    "\n",
    "dico3 = Dict(zip(pays, capital))"
   ]
  },
  {
   "cell_type": "markdown",
   "metadata": {},
   "source": [
    "<br>"
   ]
  },
  {
   "cell_type": "code",
   "execution_count": 82,
   "metadata": {},
   "outputs": [
    {
     "data": {
      "text/plain": [
       "\"Moscow\""
      ]
     },
     "execution_count": 82,
     "metadata": {},
     "output_type": "execute_result"
    }
   ],
   "source": [
    "dico2[\"Russia\"]"
   ]
  },
  {
   "cell_type": "code",
   "execution_count": 83,
   "metadata": {},
   "outputs": [
    {
     "data": {
      "text/plain": [
       "(true, false)"
      ]
     },
     "execution_count": 83,
     "metadata": {},
     "output_type": "execute_result"
    }
   ],
   "source": [
    "haskey(dico2, \"Russia\"), haskey(dico2, \"US\")"
   ]
  },
  {
   "cell_type": "code",
   "execution_count": 84,
   "metadata": {},
   "outputs": [
    {
     "data": {
      "text/plain": [
       "(\"Moscow\", nothing)"
      ]
     },
     "execution_count": 84,
     "metadata": {},
     "output_type": "execute_result"
    }
   ],
   "source": [
    "get(dico2, \"Russia\", \"null\"), get(dico2, \"US\", nothing)"
   ]
  },
  {
   "cell_type": "markdown",
   "metadata": {},
   "source": [
    "Russia est présent donc renvoie Moscow mais US est absent donc renvoie nothing"
   ]
  },
  {
   "cell_type": "code",
   "execution_count": 85,
   "metadata": {},
   "outputs": [
    {
     "data": {
      "text/plain": [
       "Dict{String,Any} with 3 entries:\n",
       "  \"South Africa\" => Dict(\"Administrative\"=>\"Pretoria\",\"Législative\"=>\"Cape Town…\n",
       "  \"France\"       => \"Moscow\"\n",
       "  \"Russia\"       => \"Moscow\""
      ]
     },
     "execution_count": 85,
     "metadata": {},
     "output_type": "execute_result"
    }
   ],
   "source": [
    "dico2[\"France\"] = \"Moscow\"\n",
    "dico2"
   ]
  },
  {
   "cell_type": "markdown",
   "metadata": {},
   "source": [
    "<br>"
   ]
  },
  {
   "cell_type": "code",
   "execution_count": 86,
   "metadata": {},
   "outputs": [
    {
     "name": "stdout",
     "output_type": "stream",
     "text": [
      "South Africa  France  Russia  "
     ]
    }
   ],
   "source": [
    "for pays in keys(dico2)\n",
    "    print(\"$pays  \")\n",
    "end"
   ]
  },
  {
   "cell_type": "code",
   "execution_count": 87,
   "metadata": {},
   "outputs": [
    {
     "name": "stdout",
     "output_type": "stream",
     "text": [
      "Dict(\"Administrative\" => \"Pretoria\",\"Législative\" => \"Cape Town\")  Moscow  Moscow  "
     ]
    }
   ],
   "source": [
    "for capital in values(dico2)\n",
    "    print(\"$capital  \")\n",
    "end"
   ]
  },
  {
   "cell_type": "code",
   "execution_count": 88,
   "metadata": {},
   "outputs": [
    {
     "name": "stdout",
     "output_type": "stream",
     "text": [
      "South Africa: Dict(\"Administrative\" => \"Pretoria\",\"Législative\" => \"Cape Town\")\n",
      "France: Moscow\n",
      "Russia: Moscow\n"
     ]
    }
   ],
   "source": [
    "for (pays, capital) in dico2\n",
    "    println(\"$pays: $capital\")\n",
    "end"
   ]
  },
  {
   "cell_type": "markdown",
   "metadata": {},
   "source": [
    "<br>"
   ]
  },
  {
   "cell_type": "code",
   "execution_count": 89,
   "metadata": {},
   "outputs": [
    {
     "name": "stdout",
     "output_type": "stream",
     "text": [
      "{'France': 'Paris', 'Russia': 'Moscow', 'South Africa': ['Cape Town', 'Pretoria']}\n",
      "{'France': 'Paris', 'Russia': 'Moscow', 'South Africa': {'Administrative': 'Pretoria', 'Législative': 'Cape Town'}}\n",
      "\n",
      "KEYS\n",
      "France  Russia  South Africa  \n",
      "\n",
      "VALUES\n",
      "Paris  Moscow  {'Administrative': 'Pretoria', 'Législative': 'Cape Town'}  \n",
      "\n",
      "ITEMS\n",
      "France: Paris\n",
      "Russia: Moscow\n",
      "South Africa: {'Administrative': 'Pretoria', 'Législative': 'Cape Town'}\n"
     ]
    }
   ],
   "source": [
    "python\"\"\"\n",
    "dico = {'France': \"Paris\", 'Russia': \"Moscow\", 'South Africa': [\"Cape Town\", \"Pretoria\"]}\n",
    "\n",
    "pays = [\"France\", \"Russia\", \"South Africa\"]\n",
    "capital = [\"Paris\", \"Moscow\", {\"Administrative\": \"Pretoria\", \"Législative\": \"Cape Town\"}]\n",
    "dico2 = dict(zip(pays, capital))\n",
    "\n",
    "print(\"{}\\n{}\".format(dico, dico2), end=\"\\n\\n\")\n",
    "\n",
    "print(\"KEYS\")\n",
    "for pays in dico2.keys():\n",
    "    print(\"{}  \".format(pays), end=\"\")\n",
    "\n",
    "print(\"\\n\\nVALUES\")\n",
    "for capital in dico2.values():\n",
    "    print(\"{}  \".format(capital), end=\"\")\n",
    "\n",
    "print(\"\\n\\nITEMS\")\n",
    "for pays, capital in dico2.items():\n",
    "    print(\"{}: {}\".format(pays, capital))\n",
    "\"\"\""
   ]
  },
  {
   "cell_type": "markdown",
   "metadata": {},
   "source": [
    "<br>"
   ]
  },
  {
   "cell_type": "markdown",
   "metadata": {},
   "source": [
    "> Sets - comme en python"
   ]
  },
  {
   "cell_type": "code",
   "execution_count": 90,
   "metadata": {},
   "outputs": [
    {
     "data": {
      "text/plain": [
       "(Set([25, 13, 1]), Set([7, 25]))"
      ]
     },
     "execution_count": 90,
     "metadata": {},
     "output_type": "execute_result"
    }
   ],
   "source": [
    "s, s2 = Set([1, 1, 25]), Set([7, 25])\n",
    "push!(s, 1); push!(s, 13)\n",
    "s, s2"
   ]
  },
  {
   "cell_type": "code",
   "execution_count": 91,
   "metadata": {},
   "outputs": [
    {
     "name": "stdout",
     "output_type": "stream",
     "text": [
      "Union: Set([7, 25, 13, 1])\n",
      "Intersect: Set([25])\n",
      "Diff (s s2): Set([13, 1]) & Diff (s2 s): Set([7])\n"
     ]
    }
   ],
   "source": [
    "println(\"Union: $(union(s, s2))\")\n",
    "println(\"Intersect: $(intersect(s, s2))\")\n",
    "println(\"Diff (s s2): $(setdiff(s, s2)) & Diff (s2 s): $(setdiff(s2, s))\")"
   ]
  },
  {
   "cell_type": "markdown",
   "metadata": {},
   "source": [
    "<br>"
   ]
  },
  {
   "cell_type": "markdown",
   "metadata": {},
   "source": [
    "# More on Types, Methods and Modules"
   ]
  },
  {
   "cell_type": "code",
   "execution_count": 92,
   "metadata": {},
   "outputs": [
    {
     "name": "stdout",
     "output_type": "stream",
     "text": [
      "a: 1 - Int64 & b: 1.5 - Float64\n",
      "c: 2.5 - Float64"
     ]
    }
   ],
   "source": [
    "a, b = 1, 1.5\n",
    "c = a + b\n",
    "\n",
    "print(\"a: $a - $(typeof(a)) & b: $b - $(typeof(b))\\nc: $c - $(typeof(c))\")"
   ]
  },
  {
   "cell_type": "markdown",
   "metadata": {},
   "source": [
    "Implicitement l'opérateur **+** appelle d'abord la méthode **promote** qui convertit a & b dans un type commun (ici Float64) puis réalise l'addition"
   ]
  },
  {
   "cell_type": "code",
   "execution_count": 93,
   "metadata": {},
   "outputs": [
    {
     "data": {
      "text/plain": [
       "(1.0, 1.5)"
      ]
     },
     "execution_count": 93,
     "metadata": {},
     "output_type": "execute_result"
    }
   ],
   "source": [
    "promote(a, b)"
   ]
  },
  {
   "cell_type": "markdown",
   "metadata": {},
   "source": [
    "<br>"
   ]
  },
  {
   "cell_type": "markdown",
   "metadata": {},
   "source": [
    "- Define his own types"
   ]
  },
  {
   "cell_type": "code",
   "execution_count": 117,
   "metadata": {},
   "outputs": [
    {
     "name": "stdout",
     "output_type": "stream",
     "text": [
      "Soit UnmutablePoint(1.0, 4.0, 2.0) de type UnmutablePoint\n"
     ]
    },
    {
     "ename": "ErrorException",
     "evalue": "setfield! immutable struct of type UnmutablePoint cannot be changed",
     "output_type": "error",
     "traceback": [
      "setfield! immutable struct of type UnmutablePoint cannot be changed",
      "",
      "Stacktrace:",
      " [1] setproperty!(::UnmutablePoint, ::Symbol, ::Int64) at ./Base.jl:34",
      " [2] top-level scope at In[117]:9"
     ]
    }
   ],
   "source": [
    "struct UnmutablePoint\n",
    "    x::Float64\n",
    "    y::Float64\n",
    "    z::Float64\n",
    "end\n",
    "p = UnmutablePoint(1, 4, 2)  # p = Point(1, 4, 2)\n",
    "\n",
    "println(\"Soit $p de type $(typeof(p))\")\n",
    "p.x = 255"
   ]
  },
  {
   "cell_type": "code",
   "execution_count": 118,
   "metadata": {},
   "outputs": [
    {
     "name": "stdout",
     "output_type": "stream",
     "text": [
      "Soit Point(255.0, 4.0, 2.0) de type Point\n"
     ]
    }
   ],
   "source": [
    "mutable struct Point\n",
    "    x::Float64\n",
    "    y::Float64\n",
    "    z::Float64\n",
    "end\n",
    "p = Point(1, 4, 2)  # p = Point(1, 4, 2)\n",
    "p.x = 255\n",
    "\n",
    "println(\"Soit $p de type $(typeof(p))\")"
   ]
  },
  {
   "cell_type": "markdown",
   "metadata": {},
   "source": [
    "mutable indique qu'on peut modifier les valeurs de Point"
   ]
  },
  {
   "cell_type": "markdown",
   "metadata": {},
   "source": [
    "<br>"
   ]
  },
  {
   "cell_type": "markdown",
   "metadata": {},
   "source": [
    "Comparaison des valeurs & objets\n",
    "\n",
    "- Valeurs"
   ]
  },
  {
   "cell_type": "code",
   "execution_count": 95,
   "metadata": {},
   "outputs": [
    {
     "data": {
      "text/plain": [
       "(true, true, true, true)"
      ]
     },
     "execution_count": 95,
     "metadata": {},
     "output_type": "execute_result"
    }
   ],
   "source": [
    "5 == 5, 5 == 5.0, isequal(5, 5), isequal(5, 5.0)"
   ]
  },
  {
   "cell_type": "markdown",
   "metadata": {},
   "source": [
    "- Objets"
   ]
  },
  {
   "cell_type": "code",
   "execution_count": 96,
   "metadata": {},
   "outputs": [
    {
     "data": {
      "text/plain": [
       "(true, false)"
      ]
     },
     "execution_count": 96,
     "metadata": {},
     "output_type": "execute_result"
    }
   ],
   "source": [
    "5 === 5, 5 === 5.0"
   ]
  },
  {
   "cell_type": "markdown",
   "metadata": {},
   "source": [
    "<br>"
   ]
  },
  {
   "cell_type": "markdown",
   "metadata": {},
   "source": [
    "- Parametric types and methods\n",
    "\n",
    "Abstract type: x & y peuvent être de n'importe quel type - Int, Float, String, etc."
   ]
  },
  {
   "cell_type": "code",
   "execution_count": 107,
   "metadata": {},
   "outputs": [
    {
     "data": {
      "text/plain": [
       "(Point2{Int64}(2, 5), Point2{Float64}(2.5, 5.5), Point2{String}(\"Hello\", \"World\"))"
      ]
     },
     "execution_count": 107,
     "metadata": {},
     "output_type": "execute_result"
    }
   ],
   "source": [
    "mutable struct Point2{T}\n",
    "    x::T\n",
    "    y::T\n",
    "end\n",
    "\n",
    "p, p2, p3 = Point2(2, 5), Point2(2.5, 5.5), Point2(\"Hello\", \"World\")"
   ]
  },
  {
   "cell_type": "markdown",
   "metadata": {},
   "source": [
    "On peut cependant limiter le type de T à un sous-type donné, ici **Real**"
   ]
  },
  {
   "cell_type": "code",
   "execution_count": 112,
   "metadata": {},
   "outputs": [
    {
     "name": "stdout",
     "output_type": "stream",
     "text": [
      "Point3{Int64}(2, 5) & Point3{Float64}(2.5, 5.5)"
     ]
    },
    {
     "ename": "MethodError",
     "evalue": "MethodError: no method matching Point3(::String, ::String)",
     "output_type": "error",
     "traceback": [
      "MethodError: no method matching Point3(::String, ::String)",
      "",
      "Stacktrace:",
      " [1] top-level scope at In[112]:8"
     ]
    }
   ],
   "source": [
    "mutable struct Point3{T <: Real}\n",
    "    x::T\n",
    "    y::T\n",
    "end\n",
    "\n",
    "p, p2 = Point3(2, 5), Point3(2.5, 5.5)\n",
    "print(\"$p & $p2\")\n",
    "Point3(\"Hello\", \"World\")"
   ]
  },
  {
   "cell_type": "markdown",
   "metadata": {},
   "source": [
    "<br>"
   ]
  },
  {
   "cell_type": "markdown",
   "metadata": {},
   "source": [
    "# Metaprogramming in Julia"
   ]
  },
  {
   "cell_type": "code",
   "execution_count": 128,
   "metadata": {},
   "outputs": [
    {
     "name": "stdout",
     "output_type": "stream",
     "text": [
      "Expr\n",
      "  head: Symbol call\n",
      "  args: Array{Any}((3,))\n",
      "    1: Symbol +\n",
      "    2: Int64 2\n",
      "    3: Expr\n",
      "      head: Symbol call\n",
      "      args: Array{Any}((3,))\n",
      "        1: Symbol *\n",
      "        2: Int64 3\n",
      "        3: Int64 4\n"
     ]
    }
   ],
   "source": [
    "dump(:(2 + 3 * 4))"
   ]
  },
  {
   "cell_type": "markdown",
   "metadata": {},
   "source": [
    "<br>"
   ]
  },
  {
   "cell_type": "markdown",
   "metadata": {},
   "source": [
    "- Macros\n",
    "\n",
    "    - **Functions**: prend les valeurs d'entrée et renvoie les valeurs calculées au moment de l'exécution\n",
    "    - **Macro**: prend les expressions d'entrée et renvoie les expressions modifiées au moment de l'analyse"
   ]
  },
  {
   "cell_type": "code",
   "execution_count": 129,
   "metadata": {},
   "outputs": [
    {
     "data": {
      "text/plain": [
       "@mname (macro with 1 method)"
      ]
     },
     "execution_count": 129,
     "metadata": {},
     "output_type": "execute_result"
    }
   ],
   "source": [
    "function fname()  # code taking input values\n",
    "    # code returning computed values\n",
    "end\n",
    "\n",
    "macro mname()  # code taking input expressions\n",
    "    # code returning modifed expression\n",
    "end"
   ]
  },
  {
   "cell_type": "code",
   "execution_count": 166,
   "metadata": {},
   "outputs": [
    {
     "ename": "ErrorException",
     "evalue": "Assertion failed: 1 == 42",
     "output_type": "error",
     "traceback": [
      "Assertion failed: 1 == 42",
      "",
      "Stacktrace:",
      " [1] error(::String, ::String) at ./error.jl:42",
      " [2] top-level scope at In[166]:4"
     ]
    }
   ],
   "source": [
    "macro assert(ex)\n",
    "    :($ex ? nothing : error(\"Assertion failed: \", $(string(ex)) ))  # ternary operator\n",
    "end\n",
    "\n",
    "@assert(1 == 1.0), @assert(1 == 42)"
   ]
  },
  {
   "cell_type": "markdown",
   "metadata": {},
   "source": [
    "1. 1 == 1.0, condition **true** donc renvoie nothing"
   ]
  },
  {
   "cell_type": "markdown",
   "metadata": {},
   "source": [
    "2. 1 == 42, condition **false** donc renvoie le message d'erreur"
   ]
  },
  {
   "cell_type": "code",
   "execution_count": 158,
   "metadata": {},
   "outputs": [
    {
     "data": {
      "text/plain": [
       ":(if 1 == 42\n",
       "      Main.nothing\n",
       "  else\n",
       "      Main.error(\"Assertion failed: \", \"1 == 42\")\n",
       "  end)"
      ]
     },
     "execution_count": 158,
     "metadata": {},
     "output_type": "execute_result"
    }
   ],
   "source": [
    "macroexpand(Main, :(@assert 1 == 42))"
   ]
  },
  {
   "cell_type": "markdown",
   "metadata": {},
   "source": [
    "<br>"
   ]
  },
  {
   "cell_type": "markdown",
   "metadata": {},
   "source": [
    "# I/O, Networking, and Parallel Computing\n",
    "\n",
    "- Basic input and output"
   ]
  },
  {
   "cell_type": "code",
   "execution_count": 198,
   "metadata": {},
   "outputs": [
    {
     "name": "stdin",
     "output_type": "stream",
     "text": [
      "stdin>  Julia\n"
     ]
    },
    {
     "name": "stdout",
     "output_type": "stream",
     "text": [
      "Julia"
     ]
    }
   ],
   "source": [
    "#n = readline()\n",
    "#print(\"$n\")"
   ]
  },
  {
   "cell_type": "code",
   "execution_count": 196,
   "metadata": {},
   "outputs": [
    {
     "name": "stdout",
     "output_type": "stream",
     "text": [
      "Julia"
     ]
    },
    {
     "data": {
      "text/plain": [
       "5"
      ]
     },
     "execution_count": 196,
     "metadata": {},
     "output_type": "execute_result"
    }
   ],
   "source": [
    "write(stdout, \"Julia\")"
   ]
  },
  {
   "cell_type": "markdown",
   "metadata": {},
   "source": [
    "5 correspond au nombre d'octets dans le flus de sortie"
   ]
  },
  {
   "cell_type": "markdown",
   "metadata": {},
   "source": [
    "<br>"
   ]
  },
  {
   "cell_type": "markdown",
   "metadata": {},
   "source": [
    "- **Lecture de fichier** - fichier fasta"
   ]
  },
  {
   "cell_type": "code",
   "execution_count": 260,
   "metadata": {},
   "outputs": [
    {
     "data": {
      "text/plain": [
       "\"aaa\""
      ]
     },
     "execution_count": 260,
     "metadata": {},
     "output_type": "execute_result"
    }
   ],
   "source": [
    "tmp = \"aaa \"\n",
    "strip(tmp)"
   ]
  },
  {
   "cell_type": "code",
   "execution_count": 283,
   "metadata": {},
   "outputs": [
    {
     "name": "stdout",
     "output_type": "stream",
     "text": [
      "TGGGGAATATTGCACAATGGGCGCAAGCCTGATGCAGCCATGCCGCGTGTATGAAGAAGGCCTTCGGGTTGTAAAGTACTTTCAGCGGGGAGGAAGGTGTTGTGGTTAATAACCGCAGCAATTGACGTTACCCGCAGAAGAAGCACCGGCTAACTCCGTGCCAGCAGCCGCGGTAATACGGAGGGTGCAAGCGTTAATCGGAATTACTGGGCGGAAAGCGCA\n",
      "11"
     ]
    }
   ],
   "source": [
    "function read_fasta(fichier)\n",
    "    seq = Array{String, 1}()\n",
    "    \n",
    "    open(fichier, \"r\") do filin\n",
    "        tmp = \"\"\n",
    "        for line in readlines(filin)\n",
    "            if !startswith(line, \">\")\n",
    "                tmp *= strip(line)\n",
    "            else\n",
    "                if length(tmp) > 0\n",
    "                    push!(seq, tmp)\n",
    "                end\n",
    "                tmp = \"\"\n",
    "            end\n",
    "        end\n",
    "    end  # end implicitly execute close(f)\n",
    "    \n",
    "    return seq\n",
    "end\n",
    "\n",
    "sequences = read_fasta(\"./data/test_sequences.fasta\");\n",
    "println(sequences[1])\n",
    "print(length(sequences))"
   ]
  },
  {
   "cell_type": "markdown",
   "metadata": {},
   "source": [
    "<br>"
   ]
  },
  {
   "cell_type": "code",
   "execution_count": 282,
   "metadata": {},
   "outputs": [
    {
     "name": "stdout",
     "output_type": "stream",
     "text": [
      "TGGGGAATATTGCACAATGGGCGCAAGCCTGATGCAGCCATGCCGCGTGTATGAAGAAGGCCTTCGGGTTGTAAAGTACTTTCAGCGGGGAGGAAGGTGTTGTGGTTAATAACCGCAGCAATTGACGTTACCCGCAGAAGAAGCACCGGCTAACTCCGTGCCAGCAGCCGCGGTAATACGGAGGGTGCAAGCGTTAATCGGAATTACTGGGCGGAAAGCGCA\n",
      "11\n"
     ]
    }
   ],
   "source": [
    "python\"\"\"\n",
    "def read_fasta(fichier):\n",
    "    seq = []\n",
    "    \n",
    "    with open(fichier, \"r\") as filin:\n",
    "        tmp = \"\"\n",
    "        for line in filin:\n",
    "            if not line.startswith(\">\"):\n",
    "                tmp += line.strip()\n",
    "            else:\n",
    "                if len(tmp) > 0:\n",
    "                    seq.append(tmp)\n",
    "                tmp = \"\"\n",
    "    return seq\n",
    "\n",
    "sequences = read_fasta(\"./data/test_sequences.fasta\")\n",
    "print(sequences[0])\n",
    "print(len(sequences))\n",
    "\"\"\""
   ]
  },
  {
   "cell_type": "code",
   "execution_count": null,
   "metadata": {},
   "outputs": [],
   "source": []
  },
  {
   "cell_type": "markdown",
   "metadata": {},
   "source": [
    "<br>"
   ]
  },
  {
   "cell_type": "markdown",
   "metadata": {},
   "source": [
    "<br>"
   ]
  },
  {
   "cell_type": "markdown",
   "metadata": {},
   "source": [
    "Lecture de fichier avec un generator"
   ]
  },
  {
   "cell_type": "code",
   "execution_count": 299,
   "metadata": {},
   "outputs": [
    {
     "data": {
      "text/plain": [
       "Channel{Any}(sz_max:0,sz_curr:1)"
      ]
     },
     "execution_count": 299,
     "metadata": {},
     "output_type": "execute_result"
    }
   ],
   "source": [
    "function load_fasta(fichier)\n",
    "   \n",
    "    open(fichier, \"r\") do filin\n",
    "        seq = \"\"\n",
    "        \n",
    "        Channel() do channel  # equivalent to generator in python - yield\n",
    "            for line in readlines(filin)\n",
    "                if !startswith(line , \">\")\n",
    "                    seq *= strip(line)\n",
    "                else\n",
    "                    if length(seq) > 0\n",
    "                        put!(channel, seq)\n",
    "                    end\n",
    "                    seq = \"\"\n",
    "                end\n",
    "            end\n",
    "        end\n",
    "        \n",
    "    end  # end implicitly execute close(f)\n",
    "end\n",
    "\n",
    "sequences = load_fasta(\"./data/test_sequences.fasta\")"
   ]
  },
  {
   "cell_type": "markdown",
   "metadata": {},
   "source": [
    "Pour parcourir les séquences "
   ]
  },
  {
   "cell_type": "code",
   "execution_count": 297,
   "metadata": {},
   "outputs": [],
   "source": [
    "#for seq in sequences\n",
    "#    println(seq)\n",
    "#end"
   ]
  },
  {
   "cell_type": "markdown",
   "metadata": {},
   "source": [
    "<br>"
   ]
  },
  {
   "cell_type": "code",
   "execution_count": 294,
   "metadata": {},
   "outputs": [],
   "source": [
    "python\"\"\"\n",
    "def load_fasta(fichier):\n",
    "    \n",
    "    with open(fichier, \"r\") as filin:\n",
    "        seq = \"\"\n",
    "        for line in filin:\n",
    "            if not line.startswith(\">\"):\n",
    "                seq += line.strip()\n",
    "            else:\n",
    "                if len(seq) > 0:\n",
    "                    try:\n",
    "                        yield seq\n",
    "                    except StopIteration:\n",
    "                        return\n",
    "                seq = \"\"\n",
    "\n",
    "sequences = load_fasta(\"./data/test_sequences.fasta\")\n",
    "\"\"\""
   ]
  },
  {
   "cell_type": "markdown",
   "metadata": {},
   "source": [
    "<br>"
   ]
  },
  {
   "cell_type": "markdown",
   "metadata": {},
   "source": [
    "<br>"
   ]
  },
  {
   "cell_type": "markdown",
   "metadata": {},
   "source": [
    "- **Ecriture dans un fichier** - fichier fasta"
   ]
  },
  {
   "cell_type": "code",
   "execution_count": 349,
   "metadata": {},
   "outputs": [],
   "source": [
    "function fasta_format(text, width=80)  # Split text to respect fasta format\n",
    "    seq = Array{String, 1}()\n",
    "\n",
    "    for i in 1:width:length(text)\n",
    "        if i+width > length(text)\n",
    "            push!(seq, text[i:end])\n",
    "        else\n",
    "            push!(seq, text[i:i+width-1])\n",
    "        end\n",
    "    end\n",
    "    \n",
    "    return join(seq, \"\\n\")\n",
    "end\n",
    "\n",
    "\n",
    "function save_fasta(sequences)\n",
    "    \n",
    "    open(\"./data/test_write_julia.fasta\", \"w\") do filout\n",
    "        tmp = 0\n",
    "        for seq in sequences\n",
    "            write(filout, \">Seq_$tmp\\n\")\n",
    "            write(filout, fasta_format(seq))\n",
    "            write(filout, \"\\n\")\n",
    "            tmp += 1\n",
    "        end\n",
    "    end  # end implicitly execute close(f)\n",
    "    \n",
    "end\n",
    "\n",
    "sequences = load_fasta(\"./data/test_sequences.fasta\")\n",
    "save_fasta(sequences)"
   ]
  },
  {
   "cell_type": "markdown",
   "metadata": {},
   "source": [
    "<br>"
   ]
  },
  {
   "cell_type": "code",
   "execution_count": 350,
   "metadata": {},
   "outputs": [],
   "source": [
    "python\"\"\"\n",
    "def load_fasta(fichier):\n",
    "    \n",
    "    with open(fichier, \"r\") as filin:\n",
    "        seq = \"\"\n",
    "        for line in filin:\n",
    "            if not line.startswith(\">\"):\n",
    "                seq += line.strip()\n",
    "            else:\n",
    "                if len(seq) > 0:\n",
    "                    try:\n",
    "                        yield seq\n",
    "                    except StopIteration:\n",
    "                        return\n",
    "                seq = \"\"\n",
    "\n",
    "\n",
    "def fasta_format(text, width=80):\n",
    "    seq = [text[i:i+width] for i in range(0, len(text), width)]\n",
    "    return \"\\n\".join(seq)\n",
    "\n",
    "\n",
    "def save_fasta(sequences):\n",
    "    with open(\"./data/test_write_python.fasta\", \"w\") as filout:\n",
    "        for i, seq in enumerate(sequences):\n",
    "            filout.write(\">Seq_{}\\n\".format(i))\n",
    "            filout.write(\"{}\\n\".format(fasta_format(seq)))\n",
    "\n",
    "\n",
    "sequences = load_fasta(\"./data/test_sequences.fasta\")\n",
    "save_fasta(sequences)\n",
    "\"\"\""
   ]
  },
  {
   "cell_type": "markdown",
   "metadata": {},
   "source": [
    "<br>"
   ]
  },
  {
   "cell_type": "markdown",
   "metadata": {},
   "source": [
    "- Using DataFrames"
   ]
  },
  {
   "cell_type": "markdown",
   "metadata": {},
   "source": [
    "<br>"
   ]
  }
 ],
 "metadata": {
  "kernelspec": {
   "display_name": "Julia 1.4.1",
   "language": "julia",
   "name": "julia-1.4"
  },
  "language_info": {
   "file_extension": ".jl",
   "mimetype": "application/julia",
   "name": "julia",
   "version": "1.4.1"
  }
 },
 "nbformat": 4,
 "nbformat_minor": 4
}
