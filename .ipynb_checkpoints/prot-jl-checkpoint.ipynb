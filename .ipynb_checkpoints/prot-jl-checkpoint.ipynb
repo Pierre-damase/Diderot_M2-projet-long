{
 "cells": [
  {
   "cell_type": "markdown",
   "metadata": {},
   "source": [
    "<div style=\"color:#8b1538; font-size:28px\">Ce jupyter notebook permet la manipulation de fichier PDB en julia</div>\n",
    "\n",
    "- Lecture de fichier .pdb\n",
    "- Visualisation de structures\n",
    "- Alignement de séquences\n",
    "- Comparaison de deux structures: alignement & rmsd\n",
    "- Carte de contact (contact maps)\n",
    "- Mode normaux\n",
    "\n",
    "Il utilise les fonctions mise en place dans le module **Prot**."
   ]
  },
  {
   "cell_type": "markdown",
   "metadata": {},
   "source": [
    "<br>"
   ]
  },
  {
   "cell_type": "markdown",
   "metadata": {},
   "source": [
    "# Les packages"
   ]
  },
  {
   "cell_type": "code",
   "execution_count": null,
   "metadata": {},
   "outputs": [],
   "source": [
    "include(\"./prot_jl/prot.jl\")\n",
    "using .prot_jl as Prot"
   ]
  },
  {
   "cell_type": "markdown",
   "metadata": {},
   "source": [
    "<br>"
   ]
  },
  {
   "cell_type": "markdown",
   "metadata": {},
   "source": [
    "# Téléchargement & chargement des structures"
   ]
  },
  {
   "cell_type": "code",
   "execution_count": 2,
   "metadata": {},
   "outputs": [
    {
     "name": "stderr",
     "output_type": "stream",
     "text": [
      "../data/pdb/1A01.pdb: No such file or directory\n"
     ]
    },
    {
     "ename": "ProcessFailedException",
     "evalue": "failed process: Process(`wget https://files.rcsb.org/view/1A01.pdb -O ../data/pdb/1A01.pdb`, ProcessExited(1)) [1]\n",
     "output_type": "error",
     "traceback": [
      "failed process: Process(`wget https://files.rcsb.org/view/1A01.pdb -O ../data/pdb/1A01.pdb`, ProcessExited(1)) [1]\n",
      "",
      "Stacktrace:",
      " [1] pipeline_error at ./process.jl:525 [inlined]",
      " [2] run(::Cmd; wait::Bool) at ./process.jl:440",
      " [3] run at ./process.jl:438 [inlined]",
      " [4] fetch_pdb(::Array{String,1}) at /home/damase/All/Cours/M2BI-Diderot/Projet-julia/prot_jl/Prot/files.jl:14",
      " [5] top-level scope at In[2]:2"
     ]
    }
   ],
   "source": [
    "pdb = [\"1A01\", \"2QSP\"]\n",
    "Prot.fetch_pdb(pdb)"
   ]
  }
 ],
 "metadata": {
  "kernelspec": {
   "display_name": "Julia 1.4.1",
   "language": "julia",
   "name": "julia-1.4"
  },
  "language_info": {
   "file_extension": ".jl",
   "mimetype": "application/julia",
   "name": "julia",
   "version": "1.4.1"
  }
 },
 "nbformat": 4,
 "nbformat_minor": 4
}
